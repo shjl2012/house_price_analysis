{
 "cells": [
  {
   "cell_type": "markdown",
   "id": "7e3f7c7d-3923-4b98-acb3-485959e2fbdb",
   "metadata": {},
   "source": [
    "### 低變異過濾"
   ]
  },
  {
   "cell_type": "code",
   "execution_count": 5,
   "id": "6f27f78b-fab9-4cf6-b447-c0a1f002f3fd",
   "metadata": {},
   "outputs": [],
   "source": [
    "data = data.loc[:, data.std() > 0]\n",
    "data = data.dropna()"
   ]
  },
  {
   "cell_type": "markdown",
   "id": "23f04fab-d892-4538-b042-a350f4a64ca1",
   "metadata": {},
   "source": [
    "### 處理偏態係數(絕對值)"
   ]
  },
  {
   "cell_type": "code",
   "execution_count": 6,
   "id": "b21a0c02-d929-4f7a-92f8-aca34b72ee92",
   "metadata": {},
   "outputs": [
    {
     "data": {
      "text/plain": [
       "array(['建物現況格局-房', '建物現況格局-廳', '建物現況格局-衛', '車位總價元', '車位類別_一樓平面',\n",
       "       '車位類別_其他', '車位類別_升降平面', '車位類別_塔式車位', '建物型態-透天', '主要建材_石', '主要建材_磚',\n",
       "       '都市土地使用分區_工', '都市土地使用分區_農', 'NEAR_HOSTIPAL_250',\n",
       "       'CEMETERY_AREA_250', 'CEMETERY_AREA_500', 'NEAR_TRA_250',\n",
       "       'NEAR_TRA_500'], dtype=object)"
      ]
     },
     "execution_count": 6,
     "metadata": {},
     "output_type": "execute_result"
    }
   ],
   "source": [
    "data.skew(axis=0).sort_values(ascending=False)\n",
    "data.skew(axis=0).sort_values(ascending=False).head()\n",
    "data.skew(axis=0).sort_values(ascending=False).tail()\n",
    "\n",
    "data.skew(axis=0)[data.skew(axis=0) > 5].sort_values(ascending=False)\n",
    "data.skew(axis=0)[data.skew(axis=0) > 5].index.values # 偏態係數(絕對值)高於3的屬性"
   ]
  },
  {
   "cell_type": "code",
   "execution_count": 7,
   "id": "272808eb-7a76-43df-9823-771be7aff653",
   "metadata": {},
   "outputs": [],
   "source": [
    "highlyLeftSkewed = data.skew(axis=0).sort_values(ascending=False).tail(n=9).index.values"
   ]
  },
  {
   "cell_type": "code",
   "execution_count": 8,
   "id": "743e3d41-3108-41bb-a7b4-2dd87ecab300",
   "metadata": {},
   "outputs": [
    {
     "name": "stdout",
     "output_type": "stream",
     "text": [
      "['NEAR_UNIVERSITY_750' 'NEAR_MARKET_500' 'NEAR_SCHOOL_250' 'NEAR_FUEL_750'\n",
      " '主要建材_鋼筋' '主要建材_混凝土' 'NEAR_MARKET_750' 'NEAR_SCHOOL_500'\n",
      " 'NEAR_SCHOOL_750']\n"
     ]
    }
   ],
   "source": [
    "print(highlyLeftSkewed)"
   ]
  },
  {
   "cell_type": "code",
   "execution_count": 9,
   "id": "e249aec4-2c78-4211-bc5d-06a0113bbd9a",
   "metadata": {},
   "outputs": [],
   "source": [
    "highlyRightSkewed = data.skew(axis=0).sort_values(ascending=False).head(n=9).index.values"
   ]
  },
  {
   "cell_type": "code",
   "execution_count": 10,
   "id": "649618ed-8439-4e0b-8e3b-088a7131c11f",
   "metadata": {},
   "outputs": [
    {
     "name": "stdout",
     "output_type": "stream",
     "text": [
      "['都市土地使用分區_農' '主要建材_石' '都市土地使用分區_工' '車位總價元' '建物現況格局-廳' '建物現況格局-房'\n",
      " '車位類別_一樓平面' '建物現況格局-衛' 'NEAR_TRA_250']\n"
     ]
    }
   ],
   "source": [
    "print(highlyRightSkewed)"
   ]
  },
  {
   "cell_type": "code",
   "execution_count": 11,
   "id": "53eb6b9c-fb95-4e4c-a9e1-b58c5aa110f7",
   "metadata": {
    "tags": []
   },
   "outputs": [],
   "source": [
    "# drop_list = ['NEAR_UNIVERSITY_750', 'NEAR_MARKET_500', 'NEAR_SCHOOL_250', 'NEAR_FUEL_750',\n",
    "#              'NEAR_MARKET_750','NEAR_SCHOOL_500','NEAR_SCHOOL_750','NEAR_TRA_250']\n",
    "# for d in drop_list:\n",
    "#     data.drop([d],axis=1,inplace=True)"
   ]
  },
  {
   "cell_type": "markdown",
   "id": "dd66faac-8ecb-40b1-9079-d3f3c1792700",
   "metadata": {},
   "source": [
    "### PCA 主成份分析維度縮減"
   ]
  },
  {
   "cell_type": "markdown",
   "id": "52277f5f-6029-46b8-9200-ae1ae6ec4cc7",
   "metadata": {},
   "source": [
    "### PCA只能針對量化變數計算"
   ]
  },
  {
   "cell_type": "code",
   "execution_count": null,
   "id": "fe33a11a-fc6f-4c55-a62c-c50afe8f552b",
   "metadata": {},
   "outputs": [],
   "source": []
  },
  {
   "cell_type": "code",
   "execution_count": 12,
   "id": "71c2163a-2a8d-453f-9805-efa386dab553",
   "metadata": {},
   "outputs": [
    {
     "data": {
      "text/html": [
       "<div>\n",
       "<style scoped>\n",
       "    .dataframe tbody tr th:only-of-type {\n",
       "        vertical-align: middle;\n",
       "    }\n",
       "\n",
       "    .dataframe tbody tr th {\n",
       "        vertical-align: top;\n",
       "    }\n",
       "\n",
       "    .dataframe thead th {\n",
       "        text-align: right;\n",
       "    }\n",
       "</style>\n",
       "<table border=\"1\" class=\"dataframe\">\n",
       "  <thead>\n",
       "    <tr style=\"text-align: right;\">\n",
       "      <th></th>\n",
       "      <th>交易標的</th>\n",
       "      <th>建物現況格局-房</th>\n",
       "      <th>建物現況格局-廳</th>\n",
       "      <th>建物現況格局-衛</th>\n",
       "      <th>有無管理組織</th>\n",
       "      <th>車位總價元</th>\n",
       "      <th>電梯</th>\n",
       "      <th>屋齡</th>\n",
       "      <th>交易年份</th>\n",
       "      <th>floor</th>\n",
       "      <th>...</th>\n",
       "      <th>鄉鎮市區_內湖區</th>\n",
       "      <th>鄉鎮市區_北投區</th>\n",
       "      <th>鄉鎮市區_南港區</th>\n",
       "      <th>鄉鎮市區_士林區</th>\n",
       "      <th>鄉鎮市區_大同區</th>\n",
       "      <th>鄉鎮市區_大安區</th>\n",
       "      <th>鄉鎮市區_文山區</th>\n",
       "      <th>鄉鎮市區_松山區</th>\n",
       "      <th>鄉鎮市區_萬華區</th>\n",
       "      <th>y</th>\n",
       "    </tr>\n",
       "  </thead>\n",
       "  <tbody>\n",
       "    <tr>\n",
       "      <th>0</th>\n",
       "      <td>1</td>\n",
       "      <td>3</td>\n",
       "      <td>2</td>\n",
       "      <td>2</td>\n",
       "      <td>1</td>\n",
       "      <td>0</td>\n",
       "      <td>1</td>\n",
       "      <td>1.0</td>\n",
       "      <td>111</td>\n",
       "      <td>10.0</td>\n",
       "      <td>...</td>\n",
       "      <td>0</td>\n",
       "      <td>0</td>\n",
       "      <td>0</td>\n",
       "      <td>0</td>\n",
       "      <td>0</td>\n",
       "      <td>0</td>\n",
       "      <td>0</td>\n",
       "      <td>1</td>\n",
       "      <td>0</td>\n",
       "      <td>266387.0</td>\n",
       "    </tr>\n",
       "    <tr>\n",
       "      <th>1</th>\n",
       "      <td>1</td>\n",
       "      <td>1</td>\n",
       "      <td>1</td>\n",
       "      <td>1</td>\n",
       "      <td>1</td>\n",
       "      <td>0</td>\n",
       "      <td>0</td>\n",
       "      <td>7.0</td>\n",
       "      <td>111</td>\n",
       "      <td>5.0</td>\n",
       "      <td>...</td>\n",
       "      <td>0</td>\n",
       "      <td>0</td>\n",
       "      <td>0</td>\n",
       "      <td>1</td>\n",
       "      <td>0</td>\n",
       "      <td>0</td>\n",
       "      <td>0</td>\n",
       "      <td>0</td>\n",
       "      <td>0</td>\n",
       "      <td>180696.0</td>\n",
       "    </tr>\n",
       "    <tr>\n",
       "      <th>2</th>\n",
       "      <td>1</td>\n",
       "      <td>3</td>\n",
       "      <td>2</td>\n",
       "      <td>2</td>\n",
       "      <td>1</td>\n",
       "      <td>0</td>\n",
       "      <td>1</td>\n",
       "      <td>2.0</td>\n",
       "      <td>111</td>\n",
       "      <td>7.0</td>\n",
       "      <td>...</td>\n",
       "      <td>0</td>\n",
       "      <td>0</td>\n",
       "      <td>1</td>\n",
       "      <td>0</td>\n",
       "      <td>0</td>\n",
       "      <td>0</td>\n",
       "      <td>0</td>\n",
       "      <td>0</td>\n",
       "      <td>0</td>\n",
       "      <td>186411.0</td>\n",
       "    </tr>\n",
       "    <tr>\n",
       "      <th>3</th>\n",
       "      <td>1</td>\n",
       "      <td>4</td>\n",
       "      <td>2</td>\n",
       "      <td>4</td>\n",
       "      <td>1</td>\n",
       "      <td>0</td>\n",
       "      <td>1</td>\n",
       "      <td>7.0</td>\n",
       "      <td>111</td>\n",
       "      <td>1.0</td>\n",
       "      <td>...</td>\n",
       "      <td>1</td>\n",
       "      <td>0</td>\n",
       "      <td>0</td>\n",
       "      <td>0</td>\n",
       "      <td>0</td>\n",
       "      <td>0</td>\n",
       "      <td>0</td>\n",
       "      <td>0</td>\n",
       "      <td>0</td>\n",
       "      <td>204248.0</td>\n",
       "    </tr>\n",
       "    <tr>\n",
       "      <th>4</th>\n",
       "      <td>0</td>\n",
       "      <td>1</td>\n",
       "      <td>1</td>\n",
       "      <td>1</td>\n",
       "      <td>1</td>\n",
       "      <td>0</td>\n",
       "      <td>1</td>\n",
       "      <td>10.0</td>\n",
       "      <td>111</td>\n",
       "      <td>6.0</td>\n",
       "      <td>...</td>\n",
       "      <td>0</td>\n",
       "      <td>0</td>\n",
       "      <td>0</td>\n",
       "      <td>0</td>\n",
       "      <td>0</td>\n",
       "      <td>0</td>\n",
       "      <td>0</td>\n",
       "      <td>0</td>\n",
       "      <td>0</td>\n",
       "      <td>226522.0</td>\n",
       "    </tr>\n",
       "  </tbody>\n",
       "</table>\n",
       "<p>5 rows × 109 columns</p>\n",
       "</div>"
      ],
      "text/plain": [
       "   交易標的  建物現況格局-房  建物現況格局-廳  建物現況格局-衛  有無管理組織  車位總價元  電梯    屋齡  交易年份  floor  \\\n",
       "0     1         3         2         2       1      0   1   1.0   111   10.0   \n",
       "1     1         1         1         1       1      0   0   7.0   111    5.0   \n",
       "2     1         3         2         2       1      0   1   2.0   111    7.0   \n",
       "3     1         4         2         4       1      0   1   7.0   111    1.0   \n",
       "4     0         1         1         1       1      0   1  10.0   111    6.0   \n",
       "\n",
       "   ...  鄉鎮市區_內湖區  鄉鎮市區_北投區  鄉鎮市區_南港區  鄉鎮市區_士林區  鄉鎮市區_大同區  鄉鎮市區_大安區  鄉鎮市區_文山區  \\\n",
       "0  ...         0         0         0         0         0         0         0   \n",
       "1  ...         0         0         0         1         0         0         0   \n",
       "2  ...         0         0         1         0         0         0         0   \n",
       "3  ...         1         0         0         0         0         0         0   \n",
       "4  ...         0         0         0         0         0         0         0   \n",
       "\n",
       "   鄉鎮市區_松山區  鄉鎮市區_萬華區         y  \n",
       "0         1         0  266387.0  \n",
       "1         0         0  180696.0  \n",
       "2         0         0  186411.0  \n",
       "3         0         0  204248.0  \n",
       "4         0         0  226522.0  \n",
       "\n",
       "[5 rows x 109 columns]"
      ]
     },
     "execution_count": 12,
     "metadata": {},
     "output_type": "execute_result"
    }
   ],
   "source": [
    "data.head()"
   ]
  },
  {
   "cell_type": "code",
   "execution_count": 13,
   "id": "e1c992ca-2254-4743-9b93-b5a0eb927308",
   "metadata": {},
   "outputs": [
    {
     "name": "stdout",
     "output_type": "stream",
     "text": [
      "109\n"
     ]
    }
   ],
   "source": [
    "feature_count = data.shape[1]\n",
    "print(feature_count)"
   ]
  },
  {
   "cell_type": "code",
   "execution_count": 14,
   "id": "1cd54fa7-bedb-460e-8284-04cea8e49397",
   "metadata": {},
   "outputs": [],
   "source": [
    "#from sklearn.preprocessing import StandardScaler"
   ]
  },
  {
   "cell_type": "code",
   "execution_count": 15,
   "id": "31fe51f4-40c4-452f-8e3a-a682ad7c5ca0",
   "metadata": {},
   "outputs": [],
   "source": [
    "#scaler = StandardScaler()\n",
    "#scaler.fit(train_data)"
   ]
  },
  {
   "cell_type": "code",
   "execution_count": 16,
   "id": "b735bfb7-e41a-42db-9ea4-24b48da490de",
   "metadata": {},
   "outputs": [],
   "source": [
    "#data_norm = scaler.transform(train_data)\n",
    "#pd.DataFrame(data_norm).describe()"
   ]
  },
  {
   "cell_type": "code",
   "execution_count": 17,
   "id": "da3d6e9f-34fd-4b68-b8da-c9bff3d6a5ef",
   "metadata": {},
   "outputs": [],
   "source": [
    "#X = data_norm[:,0:115]\n",
    "#y = data_norm[:,115]\n",
    "#X = data_norm[:,0:feature_count-1]\n",
    "#y = data_norm[:,feature_count-1]"
   ]
  },
  {
   "cell_type": "markdown",
   "id": "a7e1e213-3b3e-404d-a0c2-3b7cc6045a09",
   "metadata": {},
   "source": [
    "### Python scikit-learn 屬性挑選"
   ]
  },
  {
   "cell_type": "code",
   "execution_count": 18,
   "id": "a28dbbda-0294-407b-b58f-de88ab41a805",
   "metadata": {},
   "outputs": [],
   "source": [
    "from sklearn.feature_selection import SelectKBest # Part 1: 選用屬性排名法，挑前K佳的\n",
    "# chi-square test is going to be our criteria to select the K best features\n",
    "from sklearn.feature_selection import chi2 # Part 2: 選用挑選準則 - chi2 卡方統計量"
   ]
  },
  {
   "cell_type": "code",
   "execution_count": 19,
   "id": "23948e13-587f-43d8-87df-4f1f04c70596",
   "metadata": {},
   "outputs": [],
   "source": [
    "X = data.drop('y', axis='columns')\n",
    "y = data['y']"
   ]
  },
  {
   "cell_type": "code",
   "execution_count": 20,
   "id": "13739511-ee29-4a9e-9bd1-9909399f145d",
   "metadata": {},
   "outputs": [
    {
     "name": "stdout",
     "output_type": "stream",
     "text": [
      "0        266387.0\n",
      "1        180696.0\n",
      "2        186411.0\n",
      "3        204248.0\n",
      "4        226522.0\n",
      "           ...   \n",
      "59057    223673.0\n",
      "59058    292603.0\n",
      "59060    206983.0\n",
      "59061    170404.0\n",
      "59062    179635.0\n",
      "Name: y, Length: 33097, dtype: float64\n"
     ]
    }
   ],
   "source": [
    "print(y)"
   ]
  },
  {
   "cell_type": "code",
   "execution_count": 21,
   "id": "473d331c-33b0-4f14-a88e-e801c402909e",
   "metadata": {},
   "outputs": [
    {
     "data": {
      "text/html": [
       "<style>#sk-container-id-1 {color: black;background-color: white;}#sk-container-id-1 pre{padding: 0;}#sk-container-id-1 div.sk-toggleable {background-color: white;}#sk-container-id-1 label.sk-toggleable__label {cursor: pointer;display: block;width: 100%;margin-bottom: 0;padding: 0.3em;box-sizing: border-box;text-align: center;}#sk-container-id-1 label.sk-toggleable__label-arrow:before {content: \"▸\";float: left;margin-right: 0.25em;color: #696969;}#sk-container-id-1 label.sk-toggleable__label-arrow:hover:before {color: black;}#sk-container-id-1 div.sk-estimator:hover label.sk-toggleable__label-arrow:before {color: black;}#sk-container-id-1 div.sk-toggleable__content {max-height: 0;max-width: 0;overflow: hidden;text-align: left;background-color: #f0f8ff;}#sk-container-id-1 div.sk-toggleable__content pre {margin: 0.2em;color: black;border-radius: 0.25em;background-color: #f0f8ff;}#sk-container-id-1 input.sk-toggleable__control:checked~div.sk-toggleable__content {max-height: 200px;max-width: 100%;overflow: auto;}#sk-container-id-1 input.sk-toggleable__control:checked~label.sk-toggleable__label-arrow:before {content: \"▾\";}#sk-container-id-1 div.sk-estimator input.sk-toggleable__control:checked~label.sk-toggleable__label {background-color: #d4ebff;}#sk-container-id-1 div.sk-label input.sk-toggleable__control:checked~label.sk-toggleable__label {background-color: #d4ebff;}#sk-container-id-1 input.sk-hidden--visually {border: 0;clip: rect(1px 1px 1px 1px);clip: rect(1px, 1px, 1px, 1px);height: 1px;margin: -1px;overflow: hidden;padding: 0;position: absolute;width: 1px;}#sk-container-id-1 div.sk-estimator {font-family: monospace;background-color: #f0f8ff;border: 1px dotted black;border-radius: 0.25em;box-sizing: border-box;margin-bottom: 0.5em;}#sk-container-id-1 div.sk-estimator:hover {background-color: #d4ebff;}#sk-container-id-1 div.sk-parallel-item::after {content: \"\";width: 100%;border-bottom: 1px solid gray;flex-grow: 1;}#sk-container-id-1 div.sk-label:hover label.sk-toggleable__label {background-color: #d4ebff;}#sk-container-id-1 div.sk-serial::before {content: \"\";position: absolute;border-left: 1px solid gray;box-sizing: border-box;top: 0;bottom: 0;left: 50%;z-index: 0;}#sk-container-id-1 div.sk-serial {display: flex;flex-direction: column;align-items: center;background-color: white;padding-right: 0.2em;padding-left: 0.2em;position: relative;}#sk-container-id-1 div.sk-item {position: relative;z-index: 1;}#sk-container-id-1 div.sk-parallel {display: flex;align-items: stretch;justify-content: center;background-color: white;position: relative;}#sk-container-id-1 div.sk-item::before, #sk-container-id-1 div.sk-parallel-item::before {content: \"\";position: absolute;border-left: 1px solid gray;box-sizing: border-box;top: 0;bottom: 0;left: 50%;z-index: -1;}#sk-container-id-1 div.sk-parallel-item {display: flex;flex-direction: column;z-index: 1;position: relative;background-color: white;}#sk-container-id-1 div.sk-parallel-item:first-child::after {align-self: flex-end;width: 50%;}#sk-container-id-1 div.sk-parallel-item:last-child::after {align-self: flex-start;width: 50%;}#sk-container-id-1 div.sk-parallel-item:only-child::after {width: 0;}#sk-container-id-1 div.sk-dashed-wrapped {border: 1px dashed gray;margin: 0 0.4em 0.5em 0.4em;box-sizing: border-box;padding-bottom: 0.4em;background-color: white;}#sk-container-id-1 div.sk-label label {font-family: monospace;font-weight: bold;display: inline-block;line-height: 1.2em;}#sk-container-id-1 div.sk-label-container {text-align: center;}#sk-container-id-1 div.sk-container {/* jupyter's `normalize.less` sets `[hidden] { display: none; }` but bootstrap.min.css set `[hidden] { display: none !important; }` so we also need the `!important` here to be able to override the default hidden behavior on the sphinx rendered scikit-learn.org. See: https://github.com/scikit-learn/scikit-learn/issues/21755 */display: inline-block !important;position: relative;}#sk-container-id-1 div.sk-text-repr-fallback {display: none;}</style><div id=\"sk-container-id-1\" class=\"sk-top-container\"><div class=\"sk-text-repr-fallback\"><pre>SelectKBest(k=&#x27;all&#x27;, score_func=&lt;function chi2 at 0x000001C9B8717490&gt;)</pre><b>In a Jupyter environment, please rerun this cell to show the HTML representation or trust the notebook. <br />On GitHub, the HTML representation is unable to render, please try loading this page with nbviewer.org.</b></div><div class=\"sk-container\" hidden><div class=\"sk-item\"><div class=\"sk-estimator sk-toggleable\"><input class=\"sk-toggleable__control sk-hidden--visually\" id=\"sk-estimator-id-1\" type=\"checkbox\" checked><label for=\"sk-estimator-id-1\" class=\"sk-toggleable__label sk-toggleable__label-arrow\">SelectKBest</label><div class=\"sk-toggleable__content\"><pre>SelectKBest(k=&#x27;all&#x27;, score_func=&lt;function chi2 at 0x000001C9B8717490&gt;)</pre></div></div></div></div></div>"
      ],
      "text/plain": [
       "SelectKBest(k='all', score_func=<function chi2 at 0x000001C9B8717490>)"
      ]
     },
     "execution_count": 21,
     "metadata": {},
     "output_type": "execute_result"
    }
   ],
   "source": [
    "fs = SelectKBest(chi2, k='all')\n",
    "fs.fit(X, y) "
   ]
  },
  {
   "cell_type": "code",
   "execution_count": 22,
   "id": "9060fbe8-c83a-4d4b-bc77-0d148cd018bf",
   "metadata": {},
   "outputs": [
    {
     "data": {
      "text/plain": [
       "array([ True,  True,  True,  True,  True,  True,  True,  True,  True,\n",
       "        True,  True,  True,  True,  True,  True,  True,  True,  True,\n",
       "        True,  True,  True,  True,  True,  True,  True,  True,  True,\n",
       "        True,  True,  True,  True,  True,  True,  True,  True,  True,\n",
       "        True,  True,  True,  True,  True,  True,  True,  True,  True,\n",
       "        True,  True,  True,  True,  True,  True,  True,  True,  True,\n",
       "        True,  True,  True,  True,  True,  True,  True,  True,  True,\n",
       "        True,  True,  True,  True,  True,  True,  True,  True,  True,\n",
       "        True,  True,  True,  True,  True,  True,  True,  True,  True,\n",
       "        True,  True,  True,  True,  True,  True,  True,  True,  True,\n",
       "        True,  True,  True,  True,  True,  True,  True,  True,  True,\n",
       "        True,  True,  True,  True,  True,  True,  True,  True,  True])"
      ]
     },
     "execution_count": 22,
     "metadata": {},
     "output_type": "execute_result"
    }
   ],
   "source": [
    "dir(fs) # 做出來的東西都藏在實模fs裡\n",
    "fs.get_support()"
   ]
  },
  {
   "cell_type": "code",
   "execution_count": 23,
   "id": "86c17309-7551-4e35-94ae-545dbd68a459",
   "metadata": {},
   "outputs": [
    {
     "data": {
      "text/plain": [
       "(33097, 108)"
      ]
     },
     "execution_count": 23,
     "metadata": {},
     "output_type": "execute_result"
    }
   ],
   "source": [
    "X_new = fs.transform(X) # Python資料導向程式設計輸入輸出不同調的常見現象(X is a pandas DataFrame, X_new is a numpy ndarray.)\n",
    "X_new.shape"
   ]
  },
  {
   "cell_type": "code",
   "execution_count": 24,
   "id": "91f70bcc-4b0b-4146-b429-684125e41a9d",
   "metadata": {},
   "outputs": [],
   "source": [
    "Ｘ_new = pd.DataFrame(X_new, columns = X.columns[fs.get_support()])"
   ]
  },
  {
   "cell_type": "code",
   "execution_count": 25,
   "id": "3455b4b0-0d76-4e2c-9c9b-04224165dc7b",
   "metadata": {},
   "outputs": [
    {
     "data": {
      "text/html": [
       "<div>\n",
       "<style scoped>\n",
       "    .dataframe tbody tr th:only-of-type {\n",
       "        vertical-align: middle;\n",
       "    }\n",
       "\n",
       "    .dataframe tbody tr th {\n",
       "        vertical-align: top;\n",
       "    }\n",
       "\n",
       "    .dataframe thead th {\n",
       "        text-align: right;\n",
       "    }\n",
       "</style>\n",
       "<table border=\"1\" class=\"dataframe\">\n",
       "  <thead>\n",
       "    <tr style=\"text-align: right;\">\n",
       "      <th></th>\n",
       "      <th>交易標的</th>\n",
       "      <th>建物現況格局-房</th>\n",
       "      <th>建物現況格局-廳</th>\n",
       "      <th>建物現況格局-衛</th>\n",
       "      <th>有無管理組織</th>\n",
       "      <th>車位總價元</th>\n",
       "      <th>電梯</th>\n",
       "      <th>屋齡</th>\n",
       "      <th>交易年份</th>\n",
       "      <th>floor</th>\n",
       "      <th>...</th>\n",
       "      <th>鄉鎮市區_信義區</th>\n",
       "      <th>鄉鎮市區_內湖區</th>\n",
       "      <th>鄉鎮市區_北投區</th>\n",
       "      <th>鄉鎮市區_南港區</th>\n",
       "      <th>鄉鎮市區_士林區</th>\n",
       "      <th>鄉鎮市區_大同區</th>\n",
       "      <th>鄉鎮市區_大安區</th>\n",
       "      <th>鄉鎮市區_文山區</th>\n",
       "      <th>鄉鎮市區_松山區</th>\n",
       "      <th>鄉鎮市區_萬華區</th>\n",
       "    </tr>\n",
       "  </thead>\n",
       "  <tbody>\n",
       "    <tr>\n",
       "      <th>0</th>\n",
       "      <td>1.0</td>\n",
       "      <td>3.0</td>\n",
       "      <td>2.0</td>\n",
       "      <td>2.0</td>\n",
       "      <td>1.0</td>\n",
       "      <td>0.0</td>\n",
       "      <td>1.0</td>\n",
       "      <td>1.0</td>\n",
       "      <td>111.0</td>\n",
       "      <td>10.0</td>\n",
       "      <td>...</td>\n",
       "      <td>0.0</td>\n",
       "      <td>0.0</td>\n",
       "      <td>0.0</td>\n",
       "      <td>0.0</td>\n",
       "      <td>0.0</td>\n",
       "      <td>0.0</td>\n",
       "      <td>0.0</td>\n",
       "      <td>0.0</td>\n",
       "      <td>1.0</td>\n",
       "      <td>0.0</td>\n",
       "    </tr>\n",
       "    <tr>\n",
       "      <th>1</th>\n",
       "      <td>1.0</td>\n",
       "      <td>1.0</td>\n",
       "      <td>1.0</td>\n",
       "      <td>1.0</td>\n",
       "      <td>1.0</td>\n",
       "      <td>0.0</td>\n",
       "      <td>0.0</td>\n",
       "      <td>7.0</td>\n",
       "      <td>111.0</td>\n",
       "      <td>5.0</td>\n",
       "      <td>...</td>\n",
       "      <td>0.0</td>\n",
       "      <td>0.0</td>\n",
       "      <td>0.0</td>\n",
       "      <td>0.0</td>\n",
       "      <td>1.0</td>\n",
       "      <td>0.0</td>\n",
       "      <td>0.0</td>\n",
       "      <td>0.0</td>\n",
       "      <td>0.0</td>\n",
       "      <td>0.0</td>\n",
       "    </tr>\n",
       "    <tr>\n",
       "      <th>2</th>\n",
       "      <td>1.0</td>\n",
       "      <td>3.0</td>\n",
       "      <td>2.0</td>\n",
       "      <td>2.0</td>\n",
       "      <td>1.0</td>\n",
       "      <td>0.0</td>\n",
       "      <td>1.0</td>\n",
       "      <td>2.0</td>\n",
       "      <td>111.0</td>\n",
       "      <td>7.0</td>\n",
       "      <td>...</td>\n",
       "      <td>0.0</td>\n",
       "      <td>0.0</td>\n",
       "      <td>0.0</td>\n",
       "      <td>1.0</td>\n",
       "      <td>0.0</td>\n",
       "      <td>0.0</td>\n",
       "      <td>0.0</td>\n",
       "      <td>0.0</td>\n",
       "      <td>0.0</td>\n",
       "      <td>0.0</td>\n",
       "    </tr>\n",
       "    <tr>\n",
       "      <th>3</th>\n",
       "      <td>1.0</td>\n",
       "      <td>4.0</td>\n",
       "      <td>2.0</td>\n",
       "      <td>4.0</td>\n",
       "      <td>1.0</td>\n",
       "      <td>0.0</td>\n",
       "      <td>1.0</td>\n",
       "      <td>7.0</td>\n",
       "      <td>111.0</td>\n",
       "      <td>1.0</td>\n",
       "      <td>...</td>\n",
       "      <td>0.0</td>\n",
       "      <td>1.0</td>\n",
       "      <td>0.0</td>\n",
       "      <td>0.0</td>\n",
       "      <td>0.0</td>\n",
       "      <td>0.0</td>\n",
       "      <td>0.0</td>\n",
       "      <td>0.0</td>\n",
       "      <td>0.0</td>\n",
       "      <td>0.0</td>\n",
       "    </tr>\n",
       "    <tr>\n",
       "      <th>4</th>\n",
       "      <td>0.0</td>\n",
       "      <td>1.0</td>\n",
       "      <td>1.0</td>\n",
       "      <td>1.0</td>\n",
       "      <td>1.0</td>\n",
       "      <td>0.0</td>\n",
       "      <td>1.0</td>\n",
       "      <td>10.0</td>\n",
       "      <td>111.0</td>\n",
       "      <td>6.0</td>\n",
       "      <td>...</td>\n",
       "      <td>0.0</td>\n",
       "      <td>0.0</td>\n",
       "      <td>0.0</td>\n",
       "      <td>0.0</td>\n",
       "      <td>0.0</td>\n",
       "      <td>0.0</td>\n",
       "      <td>0.0</td>\n",
       "      <td>0.0</td>\n",
       "      <td>0.0</td>\n",
       "      <td>0.0</td>\n",
       "    </tr>\n",
       "  </tbody>\n",
       "</table>\n",
       "<p>5 rows × 108 columns</p>\n",
       "</div>"
      ],
      "text/plain": [
       "   交易標的  建物現況格局-房  建物現況格局-廳  建物現況格局-衛  有無管理組織  車位總價元   電梯    屋齡   交易年份  floor  \\\n",
       "0   1.0       3.0       2.0       2.0     1.0    0.0  1.0   1.0  111.0   10.0   \n",
       "1   1.0       1.0       1.0       1.0     1.0    0.0  0.0   7.0  111.0    5.0   \n",
       "2   1.0       3.0       2.0       2.0     1.0    0.0  1.0   2.0  111.0    7.0   \n",
       "3   1.0       4.0       2.0       4.0     1.0    0.0  1.0   7.0  111.0    1.0   \n",
       "4   0.0       1.0       1.0       1.0     1.0    0.0  1.0  10.0  111.0    6.0   \n",
       "\n",
       "   ...  鄉鎮市區_信義區  鄉鎮市區_內湖區  鄉鎮市區_北投區  鄉鎮市區_南港區  鄉鎮市區_士林區  鄉鎮市區_大同區  鄉鎮市區_大安區  \\\n",
       "0  ...       0.0       0.0       0.0       0.0       0.0       0.0       0.0   \n",
       "1  ...       0.0       0.0       0.0       0.0       1.0       0.0       0.0   \n",
       "2  ...       0.0       0.0       0.0       1.0       0.0       0.0       0.0   \n",
       "3  ...       0.0       1.0       0.0       0.0       0.0       0.0       0.0   \n",
       "4  ...       0.0       0.0       0.0       0.0       0.0       0.0       0.0   \n",
       "\n",
       "   鄉鎮市區_文山區  鄉鎮市區_松山區  鄉鎮市區_萬華區  \n",
       "0       0.0       1.0       0.0  \n",
       "1       0.0       0.0       0.0  \n",
       "2       0.0       0.0       0.0  \n",
       "3       0.0       0.0       0.0  \n",
       "4       0.0       0.0       0.0  \n",
       "\n",
       "[5 rows x 108 columns]"
      ]
     },
     "execution_count": 25,
     "metadata": {},
     "output_type": "execute_result"
    }
   ],
   "source": [
    "Ｘ_new.head()"
   ]
  },
  {
   "cell_type": "code",
   "execution_count": 26,
   "id": "cfae0ce0-cbd2-4e45-b4e7-869f306cca76",
   "metadata": {},
   "outputs": [],
   "source": [
    "data_new = pd.concat([Ｘ_new,y], axis=1)"
   ]
  },
  {
   "cell_type": "code",
   "execution_count": 27,
   "id": "d736ab91-0f53-4f49-9644-70a044196d25",
   "metadata": {},
   "outputs": [
    {
     "data": {
      "text/html": [
       "<div>\n",
       "<style scoped>\n",
       "    .dataframe tbody tr th:only-of-type {\n",
       "        vertical-align: middle;\n",
       "    }\n",
       "\n",
       "    .dataframe tbody tr th {\n",
       "        vertical-align: top;\n",
       "    }\n",
       "\n",
       "    .dataframe thead th {\n",
       "        text-align: right;\n",
       "    }\n",
       "</style>\n",
       "<table border=\"1\" class=\"dataframe\">\n",
       "  <thead>\n",
       "    <tr style=\"text-align: right;\">\n",
       "      <th></th>\n",
       "      <th>交易標的</th>\n",
       "      <th>建物現況格局-房</th>\n",
       "      <th>建物現況格局-廳</th>\n",
       "      <th>建物現況格局-衛</th>\n",
       "      <th>有無管理組織</th>\n",
       "      <th>車位總價元</th>\n",
       "      <th>電梯</th>\n",
       "      <th>屋齡</th>\n",
       "      <th>交易年份</th>\n",
       "      <th>floor</th>\n",
       "      <th>...</th>\n",
       "      <th>鄉鎮市區_內湖區</th>\n",
       "      <th>鄉鎮市區_北投區</th>\n",
       "      <th>鄉鎮市區_南港區</th>\n",
       "      <th>鄉鎮市區_士林區</th>\n",
       "      <th>鄉鎮市區_大同區</th>\n",
       "      <th>鄉鎮市區_大安區</th>\n",
       "      <th>鄉鎮市區_文山區</th>\n",
       "      <th>鄉鎮市區_松山區</th>\n",
       "      <th>鄉鎮市區_萬華區</th>\n",
       "      <th>y</th>\n",
       "    </tr>\n",
       "  </thead>\n",
       "  <tbody>\n",
       "    <tr>\n",
       "      <th>0</th>\n",
       "      <td>1.0</td>\n",
       "      <td>3.0</td>\n",
       "      <td>2.0</td>\n",
       "      <td>2.0</td>\n",
       "      <td>1.0</td>\n",
       "      <td>0.0</td>\n",
       "      <td>1.0</td>\n",
       "      <td>1.0</td>\n",
       "      <td>111.0</td>\n",
       "      <td>10.0</td>\n",
       "      <td>...</td>\n",
       "      <td>0.0</td>\n",
       "      <td>0.0</td>\n",
       "      <td>0.0</td>\n",
       "      <td>0.0</td>\n",
       "      <td>0.0</td>\n",
       "      <td>0.0</td>\n",
       "      <td>0.0</td>\n",
       "      <td>1.0</td>\n",
       "      <td>0.0</td>\n",
       "      <td>266387.0</td>\n",
       "    </tr>\n",
       "    <tr>\n",
       "      <th>1</th>\n",
       "      <td>1.0</td>\n",
       "      <td>1.0</td>\n",
       "      <td>1.0</td>\n",
       "      <td>1.0</td>\n",
       "      <td>1.0</td>\n",
       "      <td>0.0</td>\n",
       "      <td>0.0</td>\n",
       "      <td>7.0</td>\n",
       "      <td>111.0</td>\n",
       "      <td>5.0</td>\n",
       "      <td>...</td>\n",
       "      <td>0.0</td>\n",
       "      <td>0.0</td>\n",
       "      <td>0.0</td>\n",
       "      <td>1.0</td>\n",
       "      <td>0.0</td>\n",
       "      <td>0.0</td>\n",
       "      <td>0.0</td>\n",
       "      <td>0.0</td>\n",
       "      <td>0.0</td>\n",
       "      <td>180696.0</td>\n",
       "    </tr>\n",
       "    <tr>\n",
       "      <th>2</th>\n",
       "      <td>1.0</td>\n",
       "      <td>3.0</td>\n",
       "      <td>2.0</td>\n",
       "      <td>2.0</td>\n",
       "      <td>1.0</td>\n",
       "      <td>0.0</td>\n",
       "      <td>1.0</td>\n",
       "      <td>2.0</td>\n",
       "      <td>111.0</td>\n",
       "      <td>7.0</td>\n",
       "      <td>...</td>\n",
       "      <td>0.0</td>\n",
       "      <td>0.0</td>\n",
       "      <td>1.0</td>\n",
       "      <td>0.0</td>\n",
       "      <td>0.0</td>\n",
       "      <td>0.0</td>\n",
       "      <td>0.0</td>\n",
       "      <td>0.0</td>\n",
       "      <td>0.0</td>\n",
       "      <td>186411.0</td>\n",
       "    </tr>\n",
       "    <tr>\n",
       "      <th>3</th>\n",
       "      <td>1.0</td>\n",
       "      <td>4.0</td>\n",
       "      <td>2.0</td>\n",
       "      <td>4.0</td>\n",
       "      <td>1.0</td>\n",
       "      <td>0.0</td>\n",
       "      <td>1.0</td>\n",
       "      <td>7.0</td>\n",
       "      <td>111.0</td>\n",
       "      <td>1.0</td>\n",
       "      <td>...</td>\n",
       "      <td>1.0</td>\n",
       "      <td>0.0</td>\n",
       "      <td>0.0</td>\n",
       "      <td>0.0</td>\n",
       "      <td>0.0</td>\n",
       "      <td>0.0</td>\n",
       "      <td>0.0</td>\n",
       "      <td>0.0</td>\n",
       "      <td>0.0</td>\n",
       "      <td>204248.0</td>\n",
       "    </tr>\n",
       "    <tr>\n",
       "      <th>4</th>\n",
       "      <td>0.0</td>\n",
       "      <td>1.0</td>\n",
       "      <td>1.0</td>\n",
       "      <td>1.0</td>\n",
       "      <td>1.0</td>\n",
       "      <td>0.0</td>\n",
       "      <td>1.0</td>\n",
       "      <td>10.0</td>\n",
       "      <td>111.0</td>\n",
       "      <td>6.0</td>\n",
       "      <td>...</td>\n",
       "      <td>0.0</td>\n",
       "      <td>0.0</td>\n",
       "      <td>0.0</td>\n",
       "      <td>0.0</td>\n",
       "      <td>0.0</td>\n",
       "      <td>0.0</td>\n",
       "      <td>0.0</td>\n",
       "      <td>0.0</td>\n",
       "      <td>0.0</td>\n",
       "      <td>226522.0</td>\n",
       "    </tr>\n",
       "  </tbody>\n",
       "</table>\n",
       "<p>5 rows × 109 columns</p>\n",
       "</div>"
      ],
      "text/plain": [
       "   交易標的  建物現況格局-房  建物現況格局-廳  建物現況格局-衛  有無管理組織  車位總價元   電梯    屋齡   交易年份  floor  \\\n",
       "0   1.0       3.0       2.0       2.0     1.0    0.0  1.0   1.0  111.0   10.0   \n",
       "1   1.0       1.0       1.0       1.0     1.0    0.0  0.0   7.0  111.0    5.0   \n",
       "2   1.0       3.0       2.0       2.0     1.0    0.0  1.0   2.0  111.0    7.0   \n",
       "3   1.0       4.0       2.0       4.0     1.0    0.0  1.0   7.0  111.0    1.0   \n",
       "4   0.0       1.0       1.0       1.0     1.0    0.0  1.0  10.0  111.0    6.0   \n",
       "\n",
       "   ...  鄉鎮市區_內湖區  鄉鎮市區_北投區  鄉鎮市區_南港區  鄉鎮市區_士林區  鄉鎮市區_大同區  鄉鎮市區_大安區  鄉鎮市區_文山區  \\\n",
       "0  ...       0.0       0.0       0.0       0.0       0.0       0.0       0.0   \n",
       "1  ...       0.0       0.0       0.0       1.0       0.0       0.0       0.0   \n",
       "2  ...       0.0       0.0       1.0       0.0       0.0       0.0       0.0   \n",
       "3  ...       1.0       0.0       0.0       0.0       0.0       0.0       0.0   \n",
       "4  ...       0.0       0.0       0.0       0.0       0.0       0.0       0.0   \n",
       "\n",
       "   鄉鎮市區_松山區  鄉鎮市區_萬華區         y  \n",
       "0       1.0       0.0  266387.0  \n",
       "1       0.0       0.0  180696.0  \n",
       "2       0.0       0.0  186411.0  \n",
       "3       0.0       0.0  204248.0  \n",
       "4       0.0       0.0  226522.0  \n",
       "\n",
       "[5 rows x 109 columns]"
      ]
     },
     "execution_count": 27,
     "metadata": {},
     "output_type": "execute_result"
    }
   ],
   "source": [
    "data_new.head()"
   ]
  },
  {
   "cell_type": "code",
   "execution_count": null,
   "id": "920ac2ec-3145-4166-9d1c-5855c47532b2",
   "metadata": {},
   "outputs": [],
   "source": []
  }
 ],
 "metadata": {
  "kernelspec": {
   "display_name": "Python 3 (ipykernel)",
   "language": "python",
   "name": "python3"
  },
  "language_info": {
   "codemirror_mode": {
    "name": "ipython",
    "version": 3
   },
   "file_extension": ".py",
   "mimetype": "text/x-python",
   "name": "python",
   "nbconvert_exporter": "python",
   "pygments_lexer": "ipython3",
   "version": "3.10.5"
  }
 },
 "nbformat": 4,
 "nbformat_minor": 5
}
