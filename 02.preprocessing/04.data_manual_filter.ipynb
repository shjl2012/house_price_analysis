{
 "cells": [
  {
   "cell_type": "code",
   "execution_count": 1,
   "id": "0987a26a-821c-410e-b84a-3424fe46d90d",
   "metadata": {},
   "outputs": [],
   "source": [
    "import pandas as pd\n",
    "import geopandas as gpd\n",
    "import csv"
   ]
  },
  {
   "cell_type": "code",
   "execution_count": null,
   "id": "d2477bed-e141-400e-af1d-ddd80aaccf87",
   "metadata": {},
   "outputs": [],
   "source": [
    "df2 = gpd.read_file('./--temp--/TPE_realprice.json', encoding = 'utf-8')\n",
    "df2.drop(['車位總價元','建物現況格局-隔間','lon','lat'],axis=1,inplace=True)`"
   ]
  },
  {
   "cell_type": "code",
   "execution_count": null,
   "id": "3c88d164-383a-4497-8a86-e8f999d6eec5",
   "metadata": {},
   "outputs": [],
   "source": [
    "df_lsit = df2.columns.values.tolist()\n",
    "for c in df_lsit:\n",
    "    print(f'{c}: {df2[c].unique()}')"
   ]
  },
  {
   "cell_type": "code",
   "execution_count": null,
   "id": "59dae153-681b-4009-8662-37056ba3df44",
   "metadata": {},
   "outputs": [],
   "source": [
    "df2 = df2.loc[df2['建物現況格局-房'] < 25]\n",
    "df2 = df2.loc[df2['floor'] < 50]\n",
    "df2 = df2.loc[df2['建物現況格局-廳'] < 21]\n",
    "df2 = df2.loc[df2['建物現況格局-衛'] < 41]\n",
    "df2 = df2.loc[df2['屋齡'] < 100]\n",
    "df2 = df2.loc[df2['交易年份'] < 112]\n",
    "df2 = df2.loc[df2['單價元平方公尺'] > 0]\n",
    "df2.to_csv('../dataset/TPE_model_features_test.csv')"
   ]
  }
 ],
 "metadata": {
  "kernelspec": {
   "display_name": "Python 3 (ipykernel)",
   "language": "python",
   "name": "python3"
  },
  "language_info": {
   "codemirror_mode": {
    "name": "ipython",
    "version": 3
   },
   "file_extension": ".py",
   "mimetype": "text/x-python",
   "name": "python",
   "nbconvert_exporter": "python",
   "pygments_lexer": "ipython3",
   "version": "3.10.5"
  }
 },
 "nbformat": 4,
 "nbformat_minor": 5
}
