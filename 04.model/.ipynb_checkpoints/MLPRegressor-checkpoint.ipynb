{
 "cells": [
  {
   "cell_type": "code",
   "execution_count": 1,
   "id": "64644cc3-0e8a-464a-92d1-f1dc0665eb0d",
   "metadata": {},
   "outputs": [],
   "source": [
    "import pandas as pd\n",
    "import numpy as np"
   ]
  },
  {
   "cell_type": "code",
   "execution_count": 2,
   "id": "425da3ed-78c3-4a0e-8e44-90e35d637760",
   "metadata": {},
   "outputs": [],
   "source": [
    "data=pd.read_csv(f'../03.dataset/KEL_model_features_clean.csv')"
   ]
  },
  {
   "cell_type": "code",
   "execution_count": 3,
   "id": "e6c56901-cb90-4713-8167-27e512effdc0",
   "metadata": {},
   "outputs": [
    {
     "name": "stdout",
     "output_type": "stream",
     "text": [
      "110\n"
     ]
    }
   ],
   "source": [
    "data_class = pd.get_dummies(data['鄉鎮市區'])\n",
    "#data = data.loc[data['交易標的'] == 0]\n",
    "data_class.columns = ['鄉鎮市區_' + str(x) for x in data_class.columns]\n",
    "data = pd.concat([data, data_class], axis = 1)\n",
    "print(data.shape[1])"
   ]
  },
  {
   "cell_type": "code",
   "execution_count": 4,
   "id": "d88900db-91a1-4d2d-81d3-ac0b29e4280c",
   "metadata": {},
   "outputs": [],
   "source": [
    "data.insert(data.shape[1], 'y', data['單價元平方公尺'])\n",
    "data.drop(['單價元平方公尺'],axis=1,inplace=True)\n",
    "data.drop(['Unnamed: 0'],axis=1,inplace=True)\n",
    "data.drop(['Unnamed: 0.1'],axis=1,inplace=True)\n",
    "data.drop(['Unnamed: 0.2'],axis=1,inplace=True)\n",
    "data.drop(['鄉鎮市區'],axis=1,inplace=True)\n",
    "#data = data.loc[data['備註'].isnull()]\n",
    "#data.drop(['備註'],axis=1,inplace=True)\n",
    "data.drop(['geometry'],axis=1,inplace=True)"
   ]
  },
  {
   "cell_type": "code",
   "execution_count": 5,
   "id": "6f27f78b-fab9-4cf6-b447-c0a1f002f3fd",
   "metadata": {},
   "outputs": [],
   "source": [
    "data = data.loc[:, data.std() > 0]\n",
    "data = data.dropna()"
   ]
  },
  {
   "cell_type": "code",
   "execution_count": 6,
   "id": "71c2163a-2a8d-453f-9805-efa386dab553",
   "metadata": {},
   "outputs": [
    {
     "data": {
      "text/html": [
       "<div>\n",
       "<style scoped>\n",
       "    .dataframe tbody tr th:only-of-type {\n",
       "        vertical-align: middle;\n",
       "    }\n",
       "\n",
       "    .dataframe tbody tr th {\n",
       "        vertical-align: top;\n",
       "    }\n",
       "\n",
       "    .dataframe thead th {\n",
       "        text-align: right;\n",
       "    }\n",
       "</style>\n",
       "<table border=\"1\" class=\"dataframe\">\n",
       "  <thead>\n",
       "    <tr style=\"text-align: right;\">\n",
       "      <th></th>\n",
       "      <th>交易標的</th>\n",
       "      <th>建物現況格局-房</th>\n",
       "      <th>建物現況格局-廳</th>\n",
       "      <th>建物現況格局-衛</th>\n",
       "      <th>有無管理組織</th>\n",
       "      <th>主建物面積</th>\n",
       "      <th>附屬建物面積</th>\n",
       "      <th>陽台面積</th>\n",
       "      <th>電梯</th>\n",
       "      <th>屋齡</th>\n",
       "      <th>...</th>\n",
       "      <th>NEAR_TRA_750</th>\n",
       "      <th>near_tra_dist</th>\n",
       "      <th>鄉鎮市區_七堵區</th>\n",
       "      <th>鄉鎮市區_中山區</th>\n",
       "      <th>鄉鎮市區_中正區</th>\n",
       "      <th>鄉鎮市區_仁愛區</th>\n",
       "      <th>鄉鎮市區_信義區</th>\n",
       "      <th>鄉鎮市區_安樂區</th>\n",
       "      <th>鄉鎮市區_暖暖區</th>\n",
       "      <th>y</th>\n",
       "    </tr>\n",
       "  </thead>\n",
       "  <tbody>\n",
       "    <tr>\n",
       "      <th>0</th>\n",
       "      <td>0</td>\n",
       "      <td>2</td>\n",
       "      <td>2</td>\n",
       "      <td>2</td>\n",
       "      <td>1</td>\n",
       "      <td>73.71</td>\n",
       "      <td>0.00</td>\n",
       "      <td>8.68</td>\n",
       "      <td>1</td>\n",
       "      <td>18.0</td>\n",
       "      <td>...</td>\n",
       "      <td>0</td>\n",
       "      <td>800.642015</td>\n",
       "      <td>1</td>\n",
       "      <td>0</td>\n",
       "      <td>0</td>\n",
       "      <td>0</td>\n",
       "      <td>0</td>\n",
       "      <td>0</td>\n",
       "      <td>0</td>\n",
       "      <td>31451.0</td>\n",
       "    </tr>\n",
       "    <tr>\n",
       "      <th>1</th>\n",
       "      <td>1</td>\n",
       "      <td>3</td>\n",
       "      <td>2</td>\n",
       "      <td>2</td>\n",
       "      <td>1</td>\n",
       "      <td>79.01</td>\n",
       "      <td>1.27</td>\n",
       "      <td>8.66</td>\n",
       "      <td>1</td>\n",
       "      <td>14.0</td>\n",
       "      <td>...</td>\n",
       "      <td>1</td>\n",
       "      <td>748.240108</td>\n",
       "      <td>0</td>\n",
       "      <td>0</td>\n",
       "      <td>0</td>\n",
       "      <td>0</td>\n",
       "      <td>0</td>\n",
       "      <td>0</td>\n",
       "      <td>1</td>\n",
       "      <td>28918.0</td>\n",
       "    </tr>\n",
       "    <tr>\n",
       "      <th>2</th>\n",
       "      <td>0</td>\n",
       "      <td>3</td>\n",
       "      <td>2</td>\n",
       "      <td>2</td>\n",
       "      <td>1</td>\n",
       "      <td>68.57</td>\n",
       "      <td>0.00</td>\n",
       "      <td>11.48</td>\n",
       "      <td>1</td>\n",
       "      <td>18.0</td>\n",
       "      <td>...</td>\n",
       "      <td>0</td>\n",
       "      <td>1001.932636</td>\n",
       "      <td>0</td>\n",
       "      <td>0</td>\n",
       "      <td>0</td>\n",
       "      <td>0</td>\n",
       "      <td>0</td>\n",
       "      <td>1</td>\n",
       "      <td>0</td>\n",
       "      <td>29632.0</td>\n",
       "    </tr>\n",
       "    <tr>\n",
       "      <th>3</th>\n",
       "      <td>0</td>\n",
       "      <td>4</td>\n",
       "      <td>2</td>\n",
       "      <td>2</td>\n",
       "      <td>1</td>\n",
       "      <td>81.02</td>\n",
       "      <td>1.37</td>\n",
       "      <td>16.44</td>\n",
       "      <td>1</td>\n",
       "      <td>16.0</td>\n",
       "      <td>...</td>\n",
       "      <td>0</td>\n",
       "      <td>1592.215439</td>\n",
       "      <td>0</td>\n",
       "      <td>0</td>\n",
       "      <td>0</td>\n",
       "      <td>0</td>\n",
       "      <td>0</td>\n",
       "      <td>0</td>\n",
       "      <td>1</td>\n",
       "      <td>15193.0</td>\n",
       "    </tr>\n",
       "    <tr>\n",
       "      <th>4</th>\n",
       "      <td>0</td>\n",
       "      <td>3</td>\n",
       "      <td>2</td>\n",
       "      <td>1</td>\n",
       "      <td>1</td>\n",
       "      <td>75.73</td>\n",
       "      <td>0.98</td>\n",
       "      <td>9.72</td>\n",
       "      <td>1</td>\n",
       "      <td>17.0</td>\n",
       "      <td>...</td>\n",
       "      <td>0</td>\n",
       "      <td>1180.482220</td>\n",
       "      <td>1</td>\n",
       "      <td>0</td>\n",
       "      <td>0</td>\n",
       "      <td>0</td>\n",
       "      <td>0</td>\n",
       "      <td>0</td>\n",
       "      <td>0</td>\n",
       "      <td>31456.0</td>\n",
       "    </tr>\n",
       "  </tbody>\n",
       "</table>\n",
       "<p>5 rows × 99 columns</p>\n",
       "</div>"
      ],
      "text/plain": [
       "   交易標的  建物現況格局-房  建物現況格局-廳  建物現況格局-衛  有無管理組織  主建物面積  附屬建物面積   陽台面積  電梯    屋齡  \\\n",
       "0     0         2         2         2       1  73.71    0.00   8.68   1  18.0   \n",
       "1     1         3         2         2       1  79.01    1.27   8.66   1  14.0   \n",
       "2     0         3         2         2       1  68.57    0.00  11.48   1  18.0   \n",
       "3     0         4         2         2       1  81.02    1.37  16.44   1  16.0   \n",
       "4     0         3         2         1       1  75.73    0.98   9.72   1  17.0   \n",
       "\n",
       "   ...  NEAR_TRA_750  near_tra_dist  鄉鎮市區_七堵區  鄉鎮市區_中山區  鄉鎮市區_中正區  鄉鎮市區_仁愛區  \\\n",
       "0  ...             0     800.642015         1         0         0         0   \n",
       "1  ...             1     748.240108         0         0         0         0   \n",
       "2  ...             0    1001.932636         0         0         0         0   \n",
       "3  ...             0    1592.215439         0         0         0         0   \n",
       "4  ...             0    1180.482220         1         0         0         0   \n",
       "\n",
       "   鄉鎮市區_信義區  鄉鎮市區_安樂區  鄉鎮市區_暖暖區        y  \n",
       "0         0         0         0  31451.0  \n",
       "1         0         0         1  28918.0  \n",
       "2         0         1         0  29632.0  \n",
       "3         0         0         1  15193.0  \n",
       "4         0         0         0  31456.0  \n",
       "\n",
       "[5 rows x 99 columns]"
      ]
     },
     "execution_count": 6,
     "metadata": {},
     "output_type": "execute_result"
    }
   ],
   "source": [
    "data.head()"
   ]
  },
  {
   "cell_type": "code",
   "execution_count": 7,
   "id": "81a26a24-a1b9-4d46-9521-2d983e864949",
   "metadata": {},
   "outputs": [],
   "source": [
    "test_data = data.loc[data['交易年份'] == 110]\n",
    "train_data =  data.loc[data['交易年份'] < 110]\n",
    "#train_data = train_data.loc[data['交易年份'] > 107]"
   ]
  },
  {
   "cell_type": "code",
   "execution_count": 8,
   "id": "e1c992ca-2254-4743-9b93-b5a0eb927308",
   "metadata": {},
   "outputs": [
    {
     "name": "stdout",
     "output_type": "stream",
     "text": [
      "99\n"
     ]
    }
   ],
   "source": [
    "feature_count = data.shape[1]\n",
    "print(feature_count)"
   ]
  },
  {
   "cell_type": "code",
   "execution_count": 9,
   "id": "1cd54fa7-bedb-460e-8284-04cea8e49397",
   "metadata": {},
   "outputs": [],
   "source": [
    "#from sklearn.preprocessing import StandardScaler"
   ]
  },
  {
   "cell_type": "code",
   "execution_count": 10,
   "id": "31fe51f4-40c4-452f-8e3a-a682ad7c5ca0",
   "metadata": {},
   "outputs": [],
   "source": [
    "#scaler = StandardScaler()\n",
    "#scaler.fit(train_data)"
   ]
  },
  {
   "cell_type": "code",
   "execution_count": 11,
   "id": "b735bfb7-e41a-42db-9ea4-24b48da490de",
   "metadata": {},
   "outputs": [],
   "source": [
    "#data_norm = scaler.transform(train_data)\n",
    "#pd.DataFrame(data_norm).describe()"
   ]
  },
  {
   "cell_type": "code",
   "execution_count": 12,
   "id": "da3d6e9f-34fd-4b68-b8da-c9bff3d6a5ef",
   "metadata": {},
   "outputs": [],
   "source": [
    "#X = data_norm[:,0:115]\n",
    "#y = data_norm[:,115]\n",
    "#X = data_norm[:,0:feature_count-1]\n",
    "#y = data_norm[:,feature_count-1]"
   ]
  },
  {
   "cell_type": "code",
   "execution_count": 13,
   "id": "570b77a8-ec83-43a8-9fdb-44a07084d0b0",
   "metadata": {},
   "outputs": [],
   "source": [
    "mean = train_data.mean()\n",
    "std = train_data.std()\n",
    "train_data = (train_data-mean)/std"
   ]
  },
  {
   "cell_type": "code",
   "execution_count": 14,
   "id": "c1f8875e-c256-42de-ab35-ae1a3bb9a532",
   "metadata": {},
   "outputs": [],
   "source": [
    "X_train = np.array(train_data.drop('y', axis='columns'))\n",
    "y_train = np.array(train_data['y'])"
   ]
  },
  {
   "cell_type": "code",
   "execution_count": 15,
   "id": "ac4d7c54-f51d-4fbb-bb93-2392b9890efe",
   "metadata": {},
   "outputs": [],
   "source": [
    "from sklearn.model_selection import train_test_split"
   ]
  },
  {
   "cell_type": "code",
   "execution_count": 16,
   "id": "60c08719-bb8a-4e81-a276-bd73caf6579a",
   "metadata": {},
   "outputs": [],
   "source": [
    "#X_train, X_test, y_train, y_test = train_test_split(X, y, test_size=0.2,random_state=4)"
   ]
  },
  {
   "cell_type": "code",
   "execution_count": 17,
   "id": "33325314-ba31-44d1-ac70-7ceafab29e32",
   "metadata": {},
   "outputs": [],
   "source": [
    "from sklearn.neural_network import MLPRegressor"
   ]
  },
  {
   "cell_type": "code",
   "execution_count": 18,
   "id": "469390a7-fac8-4fa2-9dd1-baa4a21f205a",
   "metadata": {},
   "outputs": [],
   "source": [
    "model_mlp = MLPRegressor(max_iter = 400,activation='relu', hidden_layer_sizes=(int(data.shape[1]*1/2),int(data.shape[1]*1/4)))\n",
    "model_mlp.fit(X_train, y_train)\n",
    "mlp_score=model_mlp.score(X_train,y_train)"
   ]
  },
  {
   "cell_type": "code",
   "execution_count": 19,
   "id": "f7447cc6-be08-4ff4-abf9-1af722ea7467",
   "metadata": {},
   "outputs": [],
   "source": [
    "test_data = (test_data - mean) / std\n",
    "test_data = test_data.loc[test_data['y'] >= 3]\n",
    "X_test = np.array(test_data.drop('y', axis='columns'))\n",
    "y_test = np.array(test_data['y'])"
   ]
  },
  {
   "cell_type": "code",
   "execution_count": 20,
   "id": "20b63d48-0012-48c1-86d4-71c46da3343e",
   "metadata": {},
   "outputs": [
    {
     "name": "stdout",
     "output_type": "stream",
     "text": [
      "score: 0.8891858859786589\n"
     ]
    }
   ],
   "source": [
    "print('score:',mlp_score)\n",
    "result = model_mlp.predict(X_test)"
   ]
  },
  {
   "cell_type": "code",
   "execution_count": 21,
   "id": "427accc1-85b0-4def-9234-268e31910a56",
   "metadata": {},
   "outputs": [
    {
     "data": {
      "text/html": [
       "<div>\n",
       "<style scoped>\n",
       "    .dataframe tbody tr th:only-of-type {\n",
       "        vertical-align: middle;\n",
       "    }\n",
       "\n",
       "    .dataframe tbody tr th {\n",
       "        vertical-align: top;\n",
       "    }\n",
       "\n",
       "    .dataframe thead th {\n",
       "        text-align: right;\n",
       "    }\n",
       "</style>\n",
       "<table border=\"1\" class=\"dataframe\">\n",
       "  <thead>\n",
       "    <tr style=\"text-align: right;\">\n",
       "      <th></th>\n",
       "      <th>Actual</th>\n",
       "      <th>Predicted</th>\n",
       "    </tr>\n",
       "  </thead>\n",
       "  <tbody>\n",
       "    <tr>\n",
       "      <th>0</th>\n",
       "      <td>3.026242</td>\n",
       "      <td>1.284576</td>\n",
       "    </tr>\n",
       "    <tr>\n",
       "      <th>1</th>\n",
       "      <td>3.022660</td>\n",
       "      <td>0.375193</td>\n",
       "    </tr>\n",
       "    <tr>\n",
       "      <th>2</th>\n",
       "      <td>3.022660</td>\n",
       "      <td>0.750226</td>\n",
       "    </tr>\n",
       "    <tr>\n",
       "      <th>3</th>\n",
       "      <td>3.022660</td>\n",
       "      <td>1.113569</td>\n",
       "    </tr>\n",
       "    <tr>\n",
       "      <th>4</th>\n",
       "      <td>5.251319</td>\n",
       "      <td>5.421071</td>\n",
       "    </tr>\n",
       "    <tr>\n",
       "      <th>5</th>\n",
       "      <td>4.235138</td>\n",
       "      <td>1.904404</td>\n",
       "    </tr>\n",
       "    <tr>\n",
       "      <th>6</th>\n",
       "      <td>2.519310</td>\n",
       "      <td>1.881682</td>\n",
       "    </tr>\n",
       "    <tr>\n",
       "      <th>7</th>\n",
       "      <td>2.910922</td>\n",
       "      <td>1.753509</td>\n",
       "    </tr>\n",
       "    <tr>\n",
       "      <th>8</th>\n",
       "      <td>2.849680</td>\n",
       "      <td>1.895840</td>\n",
       "    </tr>\n",
       "    <tr>\n",
       "      <th>9</th>\n",
       "      <td>2.434822</td>\n",
       "      <td>1.618401</td>\n",
       "    </tr>\n",
       "  </tbody>\n",
       "</table>\n",
       "</div>"
      ],
      "text/plain": [
       "     Actual  Predicted\n",
       "0  3.026242   1.284576\n",
       "1  3.022660   0.375193\n",
       "2  3.022660   0.750226\n",
       "3  3.022660   1.113569\n",
       "4  5.251319   5.421071\n",
       "5  4.235138   1.904404\n",
       "6  2.519310   1.881682\n",
       "7  2.910922   1.753509\n",
       "8  2.849680   1.895840\n",
       "9  2.434822   1.618401"
      ]
     },
     "execution_count": 21,
     "metadata": {},
     "output_type": "execute_result"
    }
   ],
   "source": [
    "df = pd.DataFrame({'Actual': y_test, 'Predicted': result})\n",
    "df1 = df.head(10)\n",
    "df1"
   ]
  },
  {
   "cell_type": "code",
   "execution_count": 22,
   "id": "faa693e7-e1d1-4efd-9594-7390f9eff281",
   "metadata": {},
   "outputs": [
    {
     "name": "stderr",
     "output_type": "stream",
     "text": [
      "C:\\Users\\tazz4\\anaconda3\\envs\\ox\\lib\\site-packages\\seaborn\\distributions.py:2619: FutureWarning: `distplot` is a deprecated function and will be removed in a future version. Please adapt your code to use either `displot` (a figure-level function with similar flexibility) or `histplot` (an axes-level function for histograms).\n",
      "  warnings.warn(msg, FutureWarning)\n"
     ]
    },
    {
     "data": {
      "text/plain": [
       "<AxesSubplot:ylabel='Density'>"
      ]
     },
     "execution_count": 22,
     "metadata": {},
     "output_type": "execute_result"
    },
    {
     "data": {
      "image/png": "[encoded data removed]",
      "text/plain": [
       "<Figure size 1000x500 with 1 Axes>"
      ]
     },
     "metadata": {},
     "output_type": "display_data"
    }
   ],
   "source": [
    "import matplotlib.pyplot as plt\n",
    "import seaborn as sns\n",
    "fig = plt.figure(figsize=(10,5))\n",
    "residuals = (y_test- result)\n",
    "sns.distplot(residuals)"
   ]
  },
  {
   "cell_type": "code",
   "execution_count": 23,
   "id": "5e533c0c-bcba-4690-a975-c0213561af93",
   "metadata": {},
   "outputs": [
    {
     "data": {
      "text/plain": [
       "[<matplotlib.lines.Line2D at 0x22d217ad1b0>]"
      ]
     },
     "execution_count": 23,
     "metadata": {},
     "output_type": "execute_result"
    },
    {
     "data": {
      "image/png": "[encoded data removed]",
      "text/plain": [
       "<Figure size 640x480 with 1 Axes>"
      ]
     },
     "metadata": {},
     "output_type": "display_data"
    }
   ],
   "source": [
    "plt.scatter(y_test, result)\n",
    "plt.plot([0,1],[0,1])"
   ]
  },
  {
   "cell_type": "code",
   "execution_count": 24,
   "id": "15340eae-0344-4775-9fde-f03f0216950f",
   "metadata": {},
   "outputs": [
    {
     "name": "stdout",
     "output_type": "stream",
     "text": [
      "       origin        predict      residual  residual_abs  y10  y20  y30\n",
      "0     79448.0   54649.100258  24798.899742  24798.899742  0.0  0.0  0.0\n",
      "1     79397.0   41700.751572  37696.248428  37696.248428  0.0  0.0  0.0\n",
      "2     79397.0   47040.708516  32356.291484  32356.291484  0.0  0.0  0.0\n",
      "3     79397.0   52214.209636  27182.790364  27182.790364  0.0  0.0  0.0\n",
      "4    111130.0  113547.029129  -2417.029129   2417.029129  1.0  1.0  1.0\n",
      "..        ...            ...           ...           ...  ...  ...  ...\n",
      "271   70502.0   58848.752660  11653.247340  11653.247340  0.0  1.0  1.0\n",
      "272   99017.0   71945.213062  27071.786938  27071.786938  0.0  0.0  1.0\n",
      "273   72763.0   59190.590539  13572.409461  13572.409461  0.0  1.0  1.0\n",
      "274   67950.0   55154.256384  12795.743616  12795.743616  0.0  1.0  1.0\n",
      "275   76698.0   59873.135679  16824.864321  16824.864321  0.0  0.0  1.0\n",
      "\n",
      "[276 rows x 7 columns]\n",
      "預測房價落在實際房價+-10%內的機率為:0.39492753623188404\n",
      "預測房價落在實際房價+-20%內的機率為:0.7101449275362319\n",
      "預測房價落在實際房價+-30%內的機率為:0.8876811594202898\n",
      "Model Percentage Error: 15.28%\n"
     ]
    }
   ],
   "source": [
    "data1 = pd.DataFrame({'origin':y_test * std['y'] + mean['y'],'predict':result* std['y'] + mean['y'],\n",
    "                     'residual':(y_test * std['y'] + mean['y']) - (result* std['y'] + mean['y'])})\n",
    "percentage_error = np.mean(np.abs(data1['origin'] - data1['predict'])) / np.mean(data1['origin']) * 100\n",
    "data1['residual_abs'] = data1['residual'].abs()\n",
    "data1['y10'] = data1['origin'] / 10 - data1['residual_abs']\n",
    "data1['y20'] = data1['origin'] / 5 - data1['residual_abs']\n",
    "data1['y30'] = data1['origin'] / 3.333 - data1['residual_abs']\n",
    "data1.loc[data1['y10'] >= 0, 'y10'] = 1\n",
    "data1.loc[data1['y10'] < 0 , 'y10'] = 0\n",
    "data1.loc[data1['y20'] >= 0, 'y20'] = 1\n",
    "data1.loc[data1['y20'] < 0 , 'y20'] = 0\n",
    "data1.loc[data1['y30'] >= 0, 'y30'] = 1\n",
    "data1.loc[data1['y30'] < 0 , 'y30'] = 0\n",
    "print(data1)\n",
    "print(f'預測房價落在實際房價+-10%內的機率為:{data1[\"y10\"].mean()}')\n",
    "print(f'預測房價落在實際房價+-20%內的機率為:{data1[\"y20\"].mean()}')\n",
    "print(f'預測房價落在實際房價+-30%內的機率為:{data1[\"y30\"].mean()}')\n",
    "print(\"Model Percentage Error: {:.2f}%\".format(percentage_error))"
   ]
  },
  {
   "cell_type": "code",
   "execution_count": 25,
   "id": "f024d162-1b92-4cc7-9799-29871215eee1",
   "metadata": {},
   "outputs": [
    {
     "name": "stdout",
     "output_type": "stream",
     "text": [
      "mean_absolute_error: 0.8584208013786343\n",
      "mean_absolute_percentage_error: 0.29509994984256077\n",
      "mean_squared_error: 1.1551960748664192\n",
      "explained_variance_score: 0.26582094343926355\n",
      "r2_score: -0.39616369761562265\n"
     ]
    }
   ],
   "source": [
    "from sklearn.metrics import explained_variance_score, mean_absolute_error, mean_squared_error, r2_score, mean_absolute_percentage_error\n",
    "print(f\"mean_absolute_error: {mean_absolute_error(y_test, result)}\")\n",
    "print(f\"mean_absolute_percentage_error: {mean_absolute_percentage_error(y_test, result)}\")\n",
    "print(f\"mean_squared_error: {mean_squared_error(y_test, result)}\")\n",
    "print(f\"explained_variance_score: {explained_variance_score(y_test, result)}\")\n",
    "print(f\"r2_score: {r2_score(y_test, result)}\")\n",
    "#print(f\"r2_adj_score: {1 - (1 - r2_score(y_test, result)) * (feature_count - 1) / (df.shape[0] - feature_count - 1)}\")"
   ]
  },
  {
   "cell_type": "code",
   "execution_count": null,
   "id": "d6c2e860-2d8d-4d7a-aa62-a7fd51b9b71b",
   "metadata": {},
   "outputs": [],
   "source": []
  }
 ],
 "metadata": {
  "kernelspec": {
   "display_name": "Python 3 (ipykernel)",
   "language": "python",
   "name": "python3"
  },
  "language_info": {
   "codemirror_mode": {
    "name": "ipython",
    "version": 3
   },
   "file_extension": ".py",
   "mimetype": "text/x-python",
   "name": "python",
   "nbconvert_exporter": "python",
   "pygments_lexer": "ipython3",
   "version": "3.10.5"
  }
 },
 "nbformat": 4,
 "nbformat_minor": 5
}
