{
 "cells": [
  {
   "cell_type": "code",
   "execution_count": 1,
   "id": "64644cc3-0e8a-464a-92d1-f1dc0665eb0d",
   "metadata": {},
   "outputs": [],
   "source": [
    "import pandas as pd\n",
    "import numpy as np"
   ]
  },
  {
   "cell_type": "code",
   "execution_count": 2,
   "id": "425da3ed-78c3-4a0e-8e44-90e35d637760",
   "metadata": {},
   "outputs": [],
   "source": [
    "data=pd.read_csv(f'../03.dataset/TPE_model_features_clean.csv')"
   ]
  },
  {
   "cell_type": "code",
   "execution_count": 3,
   "id": "e6c56901-cb90-4713-8167-27e512effdc0",
   "metadata": {},
   "outputs": [
    {
     "name": "stdout",
     "output_type": "stream",
     "text": [
      "116\n"
     ]
    }
   ],
   "source": [
    "data_class = pd.get_dummies(data['鄉鎮市區'])\n",
    "#data = data.loc[data['交易標的'] == 0]\n",
    "data_class.columns = ['鄉鎮市區_' + str(x) for x in data_class.columns]\n",
    "data = pd.concat([data, data_class], axis = 1)\n",
    "print(data.shape[1])"
   ]
  },
  {
   "cell_type": "code",
   "execution_count": 4,
   "id": "d88900db-91a1-4d2d-81d3-ac0b29e4280c",
   "metadata": {},
   "outputs": [],
   "source": [
    "data.insert(data.shape[1], 'y', data['單價元平方公尺'])\n",
    "data.drop(['單價元平方公尺'],axis=1,inplace=True)\n",
    "data.drop(['Unnamed: 0'],axis=1,inplace=True)\n",
    "data.drop(['Unnamed: 0.1'],axis=1,inplace=True)\n",
    "data.drop(['Unnamed: 0.2'],axis=1,inplace=True)\n",
    "data.drop(['鄉鎮市區'],axis=1,inplace=True)\n",
    "#data = data.loc[data['備註'].isnull()]\n",
    "#data.drop(['備註'],axis=1,inplace=True)\n",
    "data.drop(['geometry'],axis=1,inplace=True)"
   ]
  },
  {
   "cell_type": "code",
   "execution_count": 5,
   "id": "6f27f78b-fab9-4cf6-b447-c0a1f002f3fd",
   "metadata": {},
   "outputs": [],
   "source": [
    "data = data.loc[:, data.std() > 0]\n",
    "data = data.dropna()"
   ]
  },
  {
   "cell_type": "code",
   "execution_count": 6,
   "id": "71c2163a-2a8d-453f-9805-efa386dab553",
   "metadata": {},
   "outputs": [
    {
     "data": {
      "text/html": [
       "<div>\n",
       "<style scoped>\n",
       "    .dataframe tbody tr th:only-of-type {\n",
       "        vertical-align: middle;\n",
       "    }\n",
       "\n",
       "    .dataframe tbody tr th {\n",
       "        vertical-align: top;\n",
       "    }\n",
       "\n",
       "    .dataframe thead th {\n",
       "        text-align: right;\n",
       "    }\n",
       "</style>\n",
       "<table border=\"1\" class=\"dataframe\">\n",
       "  <thead>\n",
       "    <tr style=\"text-align: right;\">\n",
       "      <th></th>\n",
       "      <th>交易標的</th>\n",
       "      <th>建物現況格局-房</th>\n",
       "      <th>建物現況格局-廳</th>\n",
       "      <th>建物現況格局-衛</th>\n",
       "      <th>有無管理組織</th>\n",
       "      <th>主建物面積</th>\n",
       "      <th>附屬建物面積</th>\n",
       "      <th>陽台面積</th>\n",
       "      <th>電梯</th>\n",
       "      <th>屋齡</th>\n",
       "      <th>...</th>\n",
       "      <th>鄉鎮市區_內湖區</th>\n",
       "      <th>鄉鎮市區_北投區</th>\n",
       "      <th>鄉鎮市區_南港區</th>\n",
       "      <th>鄉鎮市區_士林區</th>\n",
       "      <th>鄉鎮市區_大同區</th>\n",
       "      <th>鄉鎮市區_大安區</th>\n",
       "      <th>鄉鎮市區_文山區</th>\n",
       "      <th>鄉鎮市區_松山區</th>\n",
       "      <th>鄉鎮市區_萬華區</th>\n",
       "      <th>y</th>\n",
       "    </tr>\n",
       "  </thead>\n",
       "  <tbody>\n",
       "    <tr>\n",
       "      <th>0</th>\n",
       "      <td>0</td>\n",
       "      <td>3</td>\n",
       "      <td>1</td>\n",
       "      <td>1</td>\n",
       "      <td>0</td>\n",
       "      <td>89.66</td>\n",
       "      <td>0.00</td>\n",
       "      <td>14.45</td>\n",
       "      <td>0</td>\n",
       "      <td>32.0</td>\n",
       "      <td>...</td>\n",
       "      <td>1</td>\n",
       "      <td>0</td>\n",
       "      <td>0</td>\n",
       "      <td>0</td>\n",
       "      <td>0</td>\n",
       "      <td>0</td>\n",
       "      <td>0</td>\n",
       "      <td>0</td>\n",
       "      <td>0</td>\n",
       "      <td>134473.0</td>\n",
       "    </tr>\n",
       "    <tr>\n",
       "      <th>1</th>\n",
       "      <td>0</td>\n",
       "      <td>3</td>\n",
       "      <td>2</td>\n",
       "      <td>2</td>\n",
       "      <td>0</td>\n",
       "      <td>116.82</td>\n",
       "      <td>0.00</td>\n",
       "      <td>13.56</td>\n",
       "      <td>0</td>\n",
       "      <td>40.0</td>\n",
       "      <td>...</td>\n",
       "      <td>0</td>\n",
       "      <td>0</td>\n",
       "      <td>0</td>\n",
       "      <td>0</td>\n",
       "      <td>0</td>\n",
       "      <td>1</td>\n",
       "      <td>0</td>\n",
       "      <td>0</td>\n",
       "      <td>0</td>\n",
       "      <td>107378.0</td>\n",
       "    </tr>\n",
       "    <tr>\n",
       "      <th>2</th>\n",
       "      <td>0</td>\n",
       "      <td>1</td>\n",
       "      <td>1</td>\n",
       "      <td>1</td>\n",
       "      <td>1</td>\n",
       "      <td>19.08</td>\n",
       "      <td>1.82</td>\n",
       "      <td>4.56</td>\n",
       "      <td>0</td>\n",
       "      <td>15.0</td>\n",
       "      <td>...</td>\n",
       "      <td>0</td>\n",
       "      <td>0</td>\n",
       "      <td>0</td>\n",
       "      <td>0</td>\n",
       "      <td>0</td>\n",
       "      <td>0</td>\n",
       "      <td>0</td>\n",
       "      <td>0</td>\n",
       "      <td>0</td>\n",
       "      <td>159670.0</td>\n",
       "    </tr>\n",
       "    <tr>\n",
       "      <th>3</th>\n",
       "      <td>0</td>\n",
       "      <td>1</td>\n",
       "      <td>0</td>\n",
       "      <td>1</td>\n",
       "      <td>1</td>\n",
       "      <td>30.81</td>\n",
       "      <td>0.00</td>\n",
       "      <td>0.00</td>\n",
       "      <td>0</td>\n",
       "      <td>33.0</td>\n",
       "      <td>...</td>\n",
       "      <td>0</td>\n",
       "      <td>0</td>\n",
       "      <td>0</td>\n",
       "      <td>0</td>\n",
       "      <td>0</td>\n",
       "      <td>0</td>\n",
       "      <td>0</td>\n",
       "      <td>0</td>\n",
       "      <td>0</td>\n",
       "      <td>105030.0</td>\n",
       "    </tr>\n",
       "    <tr>\n",
       "      <th>4</th>\n",
       "      <td>0</td>\n",
       "      <td>2</td>\n",
       "      <td>2</td>\n",
       "      <td>1</td>\n",
       "      <td>0</td>\n",
       "      <td>61.15</td>\n",
       "      <td>1.72</td>\n",
       "      <td>14.90</td>\n",
       "      <td>1</td>\n",
       "      <td>0.0</td>\n",
       "      <td>...</td>\n",
       "      <td>0</td>\n",
       "      <td>0</td>\n",
       "      <td>0</td>\n",
       "      <td>1</td>\n",
       "      <td>0</td>\n",
       "      <td>0</td>\n",
       "      <td>0</td>\n",
       "      <td>0</td>\n",
       "      <td>0</td>\n",
       "      <td>178855.0</td>\n",
       "    </tr>\n",
       "  </tbody>\n",
       "</table>\n",
       "<p>5 rows × 108 columns</p>\n",
       "</div>"
      ],
      "text/plain": [
       "   交易標的  建物現況格局-房  建物現況格局-廳  建物現況格局-衛  有無管理組織   主建物面積  附屬建物面積   陽台面積  電梯  \\\n",
       "0     0         3         1         1       0   89.66    0.00  14.45   0   \n",
       "1     0         3         2         2       0  116.82    0.00  13.56   0   \n",
       "2     0         1         1         1       1   19.08    1.82   4.56   0   \n",
       "3     0         1         0         1       1   30.81    0.00   0.00   0   \n",
       "4     0         2         2         1       0   61.15    1.72  14.90   1   \n",
       "\n",
       "     屋齡  ...  鄉鎮市區_內湖區  鄉鎮市區_北投區  鄉鎮市區_南港區  鄉鎮市區_士林區  鄉鎮市區_大同區  鄉鎮市區_大安區  \\\n",
       "0  32.0  ...         1         0         0         0         0         0   \n",
       "1  40.0  ...         0         0         0         0         0         1   \n",
       "2  15.0  ...         0         0         0         0         0         0   \n",
       "3  33.0  ...         0         0         0         0         0         0   \n",
       "4   0.0  ...         0         0         0         1         0         0   \n",
       "\n",
       "   鄉鎮市區_文山區  鄉鎮市區_松山區  鄉鎮市區_萬華區         y  \n",
       "0         0         0         0  134473.0  \n",
       "1         0         0         0  107378.0  \n",
       "2         0         0         0  159670.0  \n",
       "3         0         0         0  105030.0  \n",
       "4         0         0         0  178855.0  \n",
       "\n",
       "[5 rows x 108 columns]"
      ]
     },
     "execution_count": 6,
     "metadata": {},
     "output_type": "execute_result"
    }
   ],
   "source": [
    "data.head()"
   ]
  },
  {
   "cell_type": "code",
   "execution_count": 7,
   "id": "81a26a24-a1b9-4d46-9521-2d983e864949",
   "metadata": {},
   "outputs": [],
   "source": [
    "test_data = data.loc[data['交易年份'] == 111]\n",
    "train_data =  data.loc[data['交易年份'] < 111]\n",
    "#train_data = train_data.loc[data['交易年份'] > 107]"
   ]
  },
  {
   "cell_type": "code",
   "execution_count": 8,
   "id": "e1c992ca-2254-4743-9b93-b5a0eb927308",
   "metadata": {},
   "outputs": [
    {
     "name": "stdout",
     "output_type": "stream",
     "text": [
      "108\n"
     ]
    }
   ],
   "source": [
    "feature_count = data.shape[1]\n",
    "print(feature_count)"
   ]
  },
  {
   "cell_type": "code",
   "execution_count": 9,
   "id": "1cd54fa7-bedb-460e-8284-04cea8e49397",
   "metadata": {},
   "outputs": [],
   "source": [
    "#from sklearn.preprocessing import StandardScaler"
   ]
  },
  {
   "cell_type": "code",
   "execution_count": 10,
   "id": "31fe51f4-40c4-452f-8e3a-a682ad7c5ca0",
   "metadata": {},
   "outputs": [],
   "source": [
    "#scaler = StandardScaler()\n",
    "#scaler.fit(train_data)"
   ]
  },
  {
   "cell_type": "code",
   "execution_count": 11,
   "id": "b735bfb7-e41a-42db-9ea4-24b48da490de",
   "metadata": {},
   "outputs": [],
   "source": [
    "#data_norm = scaler.transform(train_data)\n",
    "#pd.DataFrame(data_norm).describe()"
   ]
  },
  {
   "cell_type": "code",
   "execution_count": 12,
   "id": "da3d6e9f-34fd-4b68-b8da-c9bff3d6a5ef",
   "metadata": {},
   "outputs": [],
   "source": [
    "#X = data_norm[:,0:115]\n",
    "#y = data_norm[:,115]\n",
    "#X = data_norm[:,0:feature_count-1]\n",
    "#y = data_norm[:,feature_count-1]"
   ]
  },
  {
   "cell_type": "code",
   "execution_count": 13,
   "id": "570b77a8-ec83-43a8-9fdb-44a07084d0b0",
   "metadata": {},
   "outputs": [],
   "source": [
    "mean = train_data.mean()\n",
    "std = train_data.std()\n",
    "train_data = (train_data-mean)/std"
   ]
  },
  {
   "cell_type": "code",
   "execution_count": 14,
   "id": "c1f8875e-c256-42de-ab35-ae1a3bb9a532",
   "metadata": {},
   "outputs": [],
   "source": [
    "X_train = np.array(train_data.drop('y', axis='columns'))\n",
    "y_train = np.array(train_data['y'])"
   ]
  },
  {
   "cell_type": "code",
   "execution_count": 15,
   "id": "ac4d7c54-f51d-4fbb-bb93-2392b9890efe",
   "metadata": {},
   "outputs": [],
   "source": [
    "from sklearn.model_selection import train_test_split"
   ]
  },
  {
   "cell_type": "code",
   "execution_count": 16,
   "id": "60c08719-bb8a-4e81-a276-bd73caf6579a",
   "metadata": {},
   "outputs": [],
   "source": [
    "#X_train, X_test, y_train, y_test = train_test_split(X, y, test_size=0.2,random_state=4)"
   ]
  },
  {
   "cell_type": "code",
   "execution_count": 17,
   "id": "33325314-ba31-44d1-ac70-7ceafab29e32",
   "metadata": {},
   "outputs": [],
   "source": [
    "from sklearn.ensemble import RandomForestRegressor"
   ]
  },
  {
   "cell_type": "code",
   "execution_count": 18,
   "id": "469390a7-fac8-4fa2-9dd1-baa4a21f205a",
   "metadata": {},
   "outputs": [],
   "source": [
    "model_mlp = RandomForestRegressor(n_estimators=20,min_samples_leaf=3)\n",
    "model_mlp.fit(X_train, y_train)\n",
    "mlp_score=model_mlp.score(X_train,y_train)"
   ]
  },
  {
   "cell_type": "code",
   "execution_count": 19,
   "id": "f7447cc6-be08-4ff4-abf9-1af722ea7467",
   "metadata": {},
   "outputs": [],
   "source": [
    "test_data = (test_data - mean) / std\n",
    "#test_data = test_data.loc[test_data['y'] < 3]\n",
    "X_test = np.array(test_data.drop('y', axis='columns'))\n",
    "y_test = np.array(test_data['y'])"
   ]
  },
  {
   "cell_type": "code",
   "execution_count": 20,
   "id": "20b63d48-0012-48c1-86d4-71c46da3343e",
   "metadata": {},
   "outputs": [
    {
     "name": "stdout",
     "output_type": "stream",
     "text": [
      "score: 0.9633605959716958\n"
     ]
    }
   ],
   "source": [
    "print('score:',mlp_score)\n",
    "result = model_mlp.predict(X_test)"
   ]
  },
  {
   "cell_type": "code",
   "execution_count": 21,
   "id": "427accc1-85b0-4def-9234-268e31910a56",
   "metadata": {},
   "outputs": [
    {
     "data": {
      "text/html": [
       "<div>\n",
       "<style scoped>\n",
       "    .dataframe tbody tr th:only-of-type {\n",
       "        vertical-align: middle;\n",
       "    }\n",
       "\n",
       "    .dataframe tbody tr th {\n",
       "        vertical-align: top;\n",
       "    }\n",
       "\n",
       "    .dataframe thead th {\n",
       "        text-align: right;\n",
       "    }\n",
       "</style>\n",
       "<table border=\"1\" class=\"dataframe\">\n",
       "  <thead>\n",
       "    <tr style=\"text-align: right;\">\n",
       "      <th></th>\n",
       "      <th>Actual</th>\n",
       "      <th>Predicted</th>\n",
       "    </tr>\n",
       "  </thead>\n",
       "  <tbody>\n",
       "    <tr>\n",
       "      <th>0</th>\n",
       "      <td>-0.989609</td>\n",
       "      <td>-1.157203</td>\n",
       "    </tr>\n",
       "    <tr>\n",
       "      <th>1</th>\n",
       "      <td>1.315207</td>\n",
       "      <td>0.972189</td>\n",
       "    </tr>\n",
       "    <tr>\n",
       "      <th>2</th>\n",
       "      <td>-0.092233</td>\n",
       "      <td>-0.029566</td>\n",
       "    </tr>\n",
       "    <tr>\n",
       "      <th>3</th>\n",
       "      <td>0.651603</td>\n",
       "      <td>0.201757</td>\n",
       "    </tr>\n",
       "    <tr>\n",
       "      <th>4</th>\n",
       "      <td>-0.314002</td>\n",
       "      <td>-0.616053</td>\n",
       "    </tr>\n",
       "    <tr>\n",
       "      <th>5</th>\n",
       "      <td>0.686459</td>\n",
       "      <td>0.574753</td>\n",
       "    </tr>\n",
       "    <tr>\n",
       "      <th>6</th>\n",
       "      <td>0.053831</td>\n",
       "      <td>0.254089</td>\n",
       "    </tr>\n",
       "    <tr>\n",
       "      <th>7</th>\n",
       "      <td>0.500445</td>\n",
       "      <td>0.409569</td>\n",
       "    </tr>\n",
       "    <tr>\n",
       "      <th>8</th>\n",
       "      <td>-1.220115</td>\n",
       "      <td>-0.767876</td>\n",
       "    </tr>\n",
       "    <tr>\n",
       "      <th>9</th>\n",
       "      <td>1.236394</td>\n",
       "      <td>0.937073</td>\n",
       "    </tr>\n",
       "  </tbody>\n",
       "</table>\n",
       "</div>"
      ],
      "text/plain": [
       "     Actual  Predicted\n",
       "0 -0.989609  -1.157203\n",
       "1  1.315207   0.972189\n",
       "2 -0.092233  -0.029566\n",
       "3  0.651603   0.201757\n",
       "4 -0.314002  -0.616053\n",
       "5  0.686459   0.574753\n",
       "6  0.053831   0.254089\n",
       "7  0.500445   0.409569\n",
       "8 -1.220115  -0.767876\n",
       "9  1.236394   0.937073"
      ]
     },
     "execution_count": 21,
     "metadata": {},
     "output_type": "execute_result"
    }
   ],
   "source": [
    "df = pd.DataFrame({'Actual': y_test, 'Predicted': result})\n",
    "df1 = df.head(10)\n",
    "df1"
   ]
  },
  {
   "cell_type": "code",
   "execution_count": 22,
   "id": "faa693e7-e1d1-4efd-9594-7390f9eff281",
   "metadata": {},
   "outputs": [
    {
     "name": "stderr",
     "output_type": "stream",
     "text": [
      "C:\\Users\\tazz4\\anaconda3\\envs\\ox\\lib\\site-packages\\seaborn\\distributions.py:2619: FutureWarning: `distplot` is a deprecated function and will be removed in a future version. Please adapt your code to use either `displot` (a figure-level function with similar flexibility) or `histplot` (an axes-level function for histograms).\n",
      "  warnings.warn(msg, FutureWarning)\n"
     ]
    },
    {
     "data": {
      "text/plain": [
       "<AxesSubplot:ylabel='Density'>"
      ]
     },
     "execution_count": 22,
     "metadata": {},
     "output_type": "execute_result"
    },
    {
     "data": {
      "image/png": "[encoded data removed]",
      "text/plain": [
       "<Figure size 1000x500 with 1 Axes>"
      ]
     },
     "metadata": {},
     "output_type": "display_data"
    }
   ],
   "source": [
    "import matplotlib.pyplot as plt\n",
    "import seaborn as sns\n",
    "fig = plt.figure(figsize=(10,5))\n",
    "residuals = (y_test- result)\n",
    "sns.distplot(residuals)"
   ]
  },
  {
   "cell_type": "code",
   "execution_count": 23,
   "id": "5e533c0c-bcba-4690-a975-c0213561af93",
   "metadata": {},
   "outputs": [
    {
     "data": {
      "text/plain": [
       "[<matplotlib.lines.Line2D at 0x1bd83212ec0>]"
      ]
     },
     "execution_count": 23,
     "metadata": {},
     "output_type": "execute_result"
    },
    {
     "data": {
      "image/png": "[encoded data removed]",
      "text/plain": [
       "<Figure size 640x480 with 1 Axes>"
      ]
     },
     "metadata": {},
     "output_type": "display_data"
    }
   ],
   "source": [
    "plt.scatter(y_test, result)\n",
    "plt.plot([0,1],[0,1])"
   ]
  },
  {
   "cell_type": "code",
   "execution_count": 24,
   "id": "15340eae-0344-4775-9fde-f03f0216950f",
   "metadata": {},
   "outputs": [
    {
     "name": "stdout",
     "output_type": "stream",
     "text": [
      "        origin        predict      residual  residual_abs  y10  y20  y30\n",
      "0     120253.0  109626.858988  10626.141012  10626.141012  1.0  1.0  1.0\n",
      "1     266387.0  244638.350617  21748.649383  21748.649383  1.0  1.0  1.0\n",
      "2     177150.0  181123.329141  -3973.329141   3973.329141  1.0  1.0  1.0\n",
      "3     224312.0  195790.077109  28521.922891  28521.922891  0.0  1.0  1.0\n",
      "4     163089.0  143937.860128  19151.139872  19151.139872  0.0  1.0  1.0\n",
      "...        ...            ...           ...           ...  ...  ...  ...\n",
      "3162  114342.0  114992.278481   -650.278481    650.278481  1.0  1.0  1.0\n",
      "3163  191966.0  188958.183710   3007.816290   3007.816290  1.0  1.0  1.0\n",
      "3164  199075.0  185159.485575  13915.514425  13915.514425  1.0  1.0  1.0\n",
      "3165  225828.0  214418.287908  11409.712092  11409.712092  1.0  1.0  1.0\n",
      "3166  350368.0  278760.429187  71607.570813  71607.570813  0.0  0.0  1.0\n",
      "\n",
      "[3167 rows x 7 columns]\n",
      "預測房價落在實際房價+-10%內的機率為:0.4881591411430376\n",
      "預測房價落在實際房價+-20%內的機率為:0.8629617934954216\n",
      "預測房價落在實際房價+-30%內的機率為:0.9782128197031892\n",
      "Model Percentage Error: 11.67%\n"
     ]
    }
   ],
   "source": [
    "data1 = pd.DataFrame({'origin':y_test * std['y'] + mean['y'],'predict':result* std['y'] + mean['y'],\n",
    "                     'residual':(y_test * std['y'] + mean['y']) - (result* std['y'] + mean['y'])})\n",
    "percentage_error = np.mean(np.abs(data1['origin'] - data1['predict'])) / np.mean(data1['origin']) * 100\n",
    "data1['residual_abs'] = data1['residual'].abs()\n",
    "data1['y10'] = data1['origin'] / 10 - data1['residual_abs']\n",
    "data1['y20'] = data1['origin'] / 5 - data1['residual_abs']\n",
    "data1['y30'] = data1['origin'] / 3.333 - data1['residual_abs']\n",
    "data1.loc[data1['y10'] >= 0, 'y10'] = 1\n",
    "data1.loc[data1['y10'] < 0 , 'y10'] = 0\n",
    "data1.loc[data1['y20'] >= 0, 'y20'] = 1\n",
    "data1.loc[data1['y20'] < 0 , 'y20'] = 0\n",
    "data1.loc[data1['y30'] >= 0, 'y30'] = 1\n",
    "data1.loc[data1['y30'] < 0 , 'y30'] = 0\n",
    "print(data1)\n",
    "print(f'預測房價落在實際房價+-10%內的機率為:{data1[\"y10\"].mean()}')\n",
    "print(f'預測房價落在實際房價+-20%內的機率為:{data1[\"y20\"].mean()}')\n",
    "print(f'預測房價落在實際房價+-30%內的機率為:{data1[\"y30\"].mean()}')\n",
    "print(\"Model Percentage Error: {:.2f}%\".format(percentage_error))"
   ]
  },
  {
   "cell_type": "code",
   "execution_count": 25,
   "id": "f024d162-1b92-4cc7-9799-29871215eee1",
   "metadata": {},
   "outputs": [
    {
     "name": "stdout",
     "output_type": "stream",
     "text": [
      "mean_absolute_error: 0.39549904359319216\n",
      "mean_absolute_percentage_error: 3.044254488625023\n",
      "mean_squared_error: 0.2784103040894849\n",
      "explained_variance_score: 0.8590552630746515\n",
      "r2_score: 0.808948003461065\n"
     ]
    }
   ],
   "source": [
    "from sklearn.metrics import explained_variance_score, mean_absolute_error, mean_squared_error, r2_score, mean_absolute_percentage_error\n",
    "print(f\"mean_absolute_error: {mean_absolute_error(y_test, result)}\")\n",
    "print(f\"mean_absolute_percentage_error: {mean_absolute_percentage_error(y_test, result)}\")\n",
    "print(f\"mean_squared_error: {mean_squared_error(y_test, result)}\")\n",
    "print(f\"explained_variance_score: {explained_variance_score(y_test, result)}\")\n",
    "print(f\"r2_score: {r2_score(y_test, result)}\")\n",
    "#print(f\"r2_adj_score: {1 - (1 - r2_score(y_test, result)) * (feature_count - 1) / (df.shape[0] - feature_count - 1)}\")"
   ]
  },
  {
   "cell_type": "code",
   "execution_count": null,
   "id": "d6c2e860-2d8d-4d7a-aa62-a7fd51b9b71b",
   "metadata": {},
   "outputs": [],
   "source": []
  }
 ],
 "metadata": {
  "kernelspec": {
   "display_name": "Python 3 (ipykernel)",
   "language": "python",
   "name": "python3"
  },
  "language_info": {
   "codemirror_mode": {
    "name": "ipython",
    "version": 3
   },
   "file_extension": ".py",
   "mimetype": "text/x-python",
   "name": "python",
   "nbconvert_exporter": "python",
   "pygments_lexer": "ipython3",
   "version": "3.10.5"
  }
 },
 "nbformat": 4,
 "nbformat_minor": 5
}
