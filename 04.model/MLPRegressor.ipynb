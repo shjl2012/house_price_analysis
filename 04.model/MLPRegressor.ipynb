{
 "cells": [
  {
   "cell_type": "code",
   "execution_count": 1,
   "id": "64644cc3-0e8a-464a-92d1-f1dc0665eb0d",
   "metadata": {},
   "outputs": [],
   "source": [
    "import pandas as pd\n",
    "import numpy as np"
   ]
  },
  {
   "cell_type": "code",
   "execution_count": 2,
   "id": "425da3ed-78c3-4a0e-8e44-90e35d637760",
   "metadata": {},
   "outputs": [],
   "source": [
    "data=pd.read_csv(f'../03.dataset/NTPC_model_features_clean.csv')"
   ]
  },
  {
   "cell_type": "code",
   "execution_count": 3,
   "id": "e6c56901-cb90-4713-8167-27e512effdc0",
   "metadata": {},
   "outputs": [
    {
     "name": "stdout",
     "output_type": "stream",
     "text": [
      "131\n"
     ]
    }
   ],
   "source": [
    "data_class = pd.get_dummies(data['鄉鎮市區'])\n",
    "#data = data.loc[data['交易標的'] == 0]\n",
    "data_class.columns = ['鄉鎮市區_' + str(x) for x in data_class.columns]\n",
    "data = pd.concat([data, data_class], axis = 1)\n",
    "print(data.shape[1])"
   ]
  },
  {
   "cell_type": "code",
   "execution_count": 4,
   "id": "d88900db-91a1-4d2d-81d3-ac0b29e4280c",
   "metadata": {},
   "outputs": [],
   "source": [
    "data.insert(data.shape[1], 'y', data['單價元平方公尺'])\n",
    "data.drop(['單價元平方公尺'],axis=1,inplace=True)\n",
    "data.drop(['Unnamed: 0'],axis=1,inplace=True)\n",
    "data.drop(['Unnamed: 0.1'],axis=1,inplace=True)\n",
    "data.drop(['Unnamed: 0.2'],axis=1,inplace=True)\n",
    "data.drop(['鄉鎮市區'],axis=1,inplace=True)\n",
    "#data = data.loc[data['備註'].isnull()]\n",
    "#data.drop(['備註'],axis=1,inplace=True)\n",
    "data.drop(['geometry'],axis=1,inplace=True)"
   ]
  },
  {
   "cell_type": "code",
   "execution_count": 5,
   "id": "6f27f78b-fab9-4cf6-b447-c0a1f002f3fd",
   "metadata": {},
   "outputs": [],
   "source": [
    "data = data.loc[:, data.std() > 0]\n",
    "data = data.dropna()"
   ]
  },
  {
   "cell_type": "code",
   "execution_count": 6,
   "id": "71c2163a-2a8d-453f-9805-efa386dab553",
   "metadata": {},
   "outputs": [
    {
     "data": {
      "text/html": [
       "<div>\n",
       "<style scoped>\n",
       "    .dataframe tbody tr th:only-of-type {\n",
       "        vertical-align: middle;\n",
       "    }\n",
       "\n",
       "    .dataframe tbody tr th {\n",
       "        vertical-align: top;\n",
       "    }\n",
       "\n",
       "    .dataframe thead th {\n",
       "        text-align: right;\n",
       "    }\n",
       "</style>\n",
       "<table border=\"1\" class=\"dataframe\">\n",
       "  <thead>\n",
       "    <tr style=\"text-align: right;\">\n",
       "      <th></th>\n",
       "      <th>交易標的</th>\n",
       "      <th>建物現況格局-房</th>\n",
       "      <th>建物現況格局-廳</th>\n",
       "      <th>建物現況格局-衛</th>\n",
       "      <th>有無管理組織</th>\n",
       "      <th>主建物面積</th>\n",
       "      <th>附屬建物面積</th>\n",
       "      <th>陽台面積</th>\n",
       "      <th>電梯</th>\n",
       "      <th>屋齡</th>\n",
       "      <th>...</th>\n",
       "      <th>鄉鎮市區_瑞芳區</th>\n",
       "      <th>鄉鎮市區_石碇區</th>\n",
       "      <th>鄉鎮市區_石門區</th>\n",
       "      <th>鄉鎮市區_萬里區</th>\n",
       "      <th>鄉鎮市區_蘆洲區</th>\n",
       "      <th>鄉鎮市區_貢寮區</th>\n",
       "      <th>鄉鎮市區_金山區</th>\n",
       "      <th>鄉鎮市區_雙溪區</th>\n",
       "      <th>鄉鎮市區_鶯歌區</th>\n",
       "      <th>y</th>\n",
       "    </tr>\n",
       "  </thead>\n",
       "  <tbody>\n",
       "    <tr>\n",
       "      <th>0</th>\n",
       "      <td>0</td>\n",
       "      <td>2</td>\n",
       "      <td>1</td>\n",
       "      <td>1</td>\n",
       "      <td>0</td>\n",
       "      <td>0.00</td>\n",
       "      <td>0.00</td>\n",
       "      <td>0.00</td>\n",
       "      <td>1</td>\n",
       "      <td>3.0</td>\n",
       "      <td>...</td>\n",
       "      <td>0</td>\n",
       "      <td>0</td>\n",
       "      <td>0</td>\n",
       "      <td>0</td>\n",
       "      <td>0</td>\n",
       "      <td>0</td>\n",
       "      <td>0</td>\n",
       "      <td>0</td>\n",
       "      <td>0</td>\n",
       "      <td>44517.0</td>\n",
       "    </tr>\n",
       "    <tr>\n",
       "      <th>1</th>\n",
       "      <td>0</td>\n",
       "      <td>3</td>\n",
       "      <td>1</td>\n",
       "      <td>2</td>\n",
       "      <td>0</td>\n",
       "      <td>70.47</td>\n",
       "      <td>0.00</td>\n",
       "      <td>9.72</td>\n",
       "      <td>0</td>\n",
       "      <td>15.0</td>\n",
       "      <td>...</td>\n",
       "      <td>0</td>\n",
       "      <td>0</td>\n",
       "      <td>0</td>\n",
       "      <td>0</td>\n",
       "      <td>1</td>\n",
       "      <td>0</td>\n",
       "      <td>0</td>\n",
       "      <td>0</td>\n",
       "      <td>0</td>\n",
       "      <td>96624.0</td>\n",
       "    </tr>\n",
       "    <tr>\n",
       "      <th>2</th>\n",
       "      <td>0</td>\n",
       "      <td>2</td>\n",
       "      <td>2</td>\n",
       "      <td>1</td>\n",
       "      <td>1</td>\n",
       "      <td>53.43</td>\n",
       "      <td>1.42</td>\n",
       "      <td>5.36</td>\n",
       "      <td>1</td>\n",
       "      <td>17.0</td>\n",
       "      <td>...</td>\n",
       "      <td>0</td>\n",
       "      <td>0</td>\n",
       "      <td>0</td>\n",
       "      <td>0</td>\n",
       "      <td>0</td>\n",
       "      <td>0</td>\n",
       "      <td>0</td>\n",
       "      <td>0</td>\n",
       "      <td>0</td>\n",
       "      <td>48820.0</td>\n",
       "    </tr>\n",
       "    <tr>\n",
       "      <th>3</th>\n",
       "      <td>0</td>\n",
       "      <td>1</td>\n",
       "      <td>1</td>\n",
       "      <td>1</td>\n",
       "      <td>1</td>\n",
       "      <td>29.31</td>\n",
       "      <td>0.00</td>\n",
       "      <td>3.92</td>\n",
       "      <td>1</td>\n",
       "      <td>16.0</td>\n",
       "      <td>...</td>\n",
       "      <td>0</td>\n",
       "      <td>0</td>\n",
       "      <td>0</td>\n",
       "      <td>0</td>\n",
       "      <td>0</td>\n",
       "      <td>0</td>\n",
       "      <td>0</td>\n",
       "      <td>0</td>\n",
       "      <td>0</td>\n",
       "      <td>42345.0</td>\n",
       "    </tr>\n",
       "    <tr>\n",
       "      <th>4</th>\n",
       "      <td>0</td>\n",
       "      <td>3</td>\n",
       "      <td>2</td>\n",
       "      <td>2</td>\n",
       "      <td>1</td>\n",
       "      <td>71.74</td>\n",
       "      <td>0.00</td>\n",
       "      <td>8.90</td>\n",
       "      <td>1</td>\n",
       "      <td>10.0</td>\n",
       "      <td>...</td>\n",
       "      <td>0</td>\n",
       "      <td>0</td>\n",
       "      <td>0</td>\n",
       "      <td>0</td>\n",
       "      <td>0</td>\n",
       "      <td>0</td>\n",
       "      <td>0</td>\n",
       "      <td>0</td>\n",
       "      <td>0</td>\n",
       "      <td>99863.0</td>\n",
       "    </tr>\n",
       "  </tbody>\n",
       "</table>\n",
       "<p>5 rows × 126 columns</p>\n",
       "</div>"
      ],
      "text/plain": [
       "   交易標的  建物現況格局-房  建物現況格局-廳  建物現況格局-衛  有無管理組織  主建物面積  附屬建物面積  陽台面積  電梯    屋齡  \\\n",
       "0     0         2         1         1       0   0.00    0.00  0.00   1   3.0   \n",
       "1     0         3         1         2       0  70.47    0.00  9.72   0  15.0   \n",
       "2     0         2         2         1       1  53.43    1.42  5.36   1  17.0   \n",
       "3     0         1         1         1       1  29.31    0.00  3.92   1  16.0   \n",
       "4     0         3         2         2       1  71.74    0.00  8.90   1  10.0   \n",
       "\n",
       "   ...  鄉鎮市區_瑞芳區  鄉鎮市區_石碇區  鄉鎮市區_石門區  鄉鎮市區_萬里區  鄉鎮市區_蘆洲區  鄉鎮市區_貢寮區  鄉鎮市區_金山區  \\\n",
       "0  ...         0         0         0         0         0         0         0   \n",
       "1  ...         0         0         0         0         1         0         0   \n",
       "2  ...         0         0         0         0         0         0         0   \n",
       "3  ...         0         0         0         0         0         0         0   \n",
       "4  ...         0         0         0         0         0         0         0   \n",
       "\n",
       "   鄉鎮市區_雙溪區  鄉鎮市區_鶯歌區        y  \n",
       "0         0         0  44517.0  \n",
       "1         0         0  96624.0  \n",
       "2         0         0  48820.0  \n",
       "3         0         0  42345.0  \n",
       "4         0         0  99863.0  \n",
       "\n",
       "[5 rows x 126 columns]"
      ]
     },
     "execution_count": 6,
     "metadata": {},
     "output_type": "execute_result"
    }
   ],
   "source": [
    "data.head()"
   ]
  },
  {
   "cell_type": "code",
   "execution_count": 7,
   "id": "81a26a24-a1b9-4d46-9521-2d983e864949",
   "metadata": {},
   "outputs": [],
   "source": [
    "test_data = data.loc[data['交易年份'] >= 111]\n",
    "train_data =  data.loc[data['交易年份'] < 111]\n",
    "#train_data = train_data.loc[data['交易年份'] > 107]"
   ]
  },
  {
   "cell_type": "code",
   "execution_count": 8,
   "id": "e1c992ca-2254-4743-9b93-b5a0eb927308",
   "metadata": {},
   "outputs": [
    {
     "name": "stdout",
     "output_type": "stream",
     "text": [
      "126\n"
     ]
    }
   ],
   "source": [
    "feature_count = data.shape[1]\n",
    "print(feature_count)"
   ]
  },
  {
   "cell_type": "code",
   "execution_count": 9,
   "id": "1cd54fa7-bedb-460e-8284-04cea8e49397",
   "metadata": {},
   "outputs": [],
   "source": [
    "#from sklearn.preprocessing import StandardScaler"
   ]
  },
  {
   "cell_type": "code",
   "execution_count": 10,
   "id": "31fe51f4-40c4-452f-8e3a-a682ad7c5ca0",
   "metadata": {},
   "outputs": [],
   "source": [
    "#scaler = StandardScaler()\n",
    "#scaler.fit(train_data)"
   ]
  },
  {
   "cell_type": "code",
   "execution_count": 11,
   "id": "b735bfb7-e41a-42db-9ea4-24b48da490de",
   "metadata": {},
   "outputs": [],
   "source": [
    "#data_norm = scaler.transform(train_data)\n",
    "#pd.DataFrame(data_norm).describe()"
   ]
  },
  {
   "cell_type": "code",
   "execution_count": 12,
   "id": "da3d6e9f-34fd-4b68-b8da-c9bff3d6a5ef",
   "metadata": {},
   "outputs": [],
   "source": [
    "#X = data_norm[:,0:115]\n",
    "#y = data_norm[:,115]\n",
    "#X = data_norm[:,0:feature_count-1]\n",
    "#y = data_norm[:,feature_count-1]"
   ]
  },
  {
   "cell_type": "code",
   "execution_count": 13,
   "id": "570b77a8-ec83-43a8-9fdb-44a07084d0b0",
   "metadata": {},
   "outputs": [],
   "source": [
    "mean = train_data.mean()\n",
    "std = train_data.std()\n",
    "train_data = (train_data-mean)/std"
   ]
  },
  {
   "cell_type": "code",
   "execution_count": 14,
   "id": "c1f8875e-c256-42de-ab35-ae1a3bb9a532",
   "metadata": {},
   "outputs": [],
   "source": [
    "X_train = np.array(train_data.drop('y', axis='columns'))\n",
    "y_train = np.array(train_data['y'])"
   ]
  },
  {
   "cell_type": "code",
   "execution_count": 15,
   "id": "ac4d7c54-f51d-4fbb-bb93-2392b9890efe",
   "metadata": {},
   "outputs": [],
   "source": [
    "from sklearn.model_selection import train_test_split"
   ]
  },
  {
   "cell_type": "code",
   "execution_count": 16,
   "id": "60c08719-bb8a-4e81-a276-bd73caf6579a",
   "metadata": {},
   "outputs": [],
   "source": [
    "#X_train, X_test, y_train, y_test = train_test_split(X, y, test_size=0.2,random_state=4)"
   ]
  },
  {
   "cell_type": "code",
   "execution_count": 17,
   "id": "33325314-ba31-44d1-ac70-7ceafab29e32",
   "metadata": {},
   "outputs": [],
   "source": [
    "from sklearn.neural_network import MLPRegressor"
   ]
  },
  {
   "cell_type": "code",
   "execution_count": 18,
   "id": "469390a7-fac8-4fa2-9dd1-baa4a21f205a",
   "metadata": {},
   "outputs": [],
   "source": [
    "model_mlp = MLPRegressor(random_state=14,max_iter = 400,activation='relu', hidden_layer_sizes=(int(data.shape[1]*1/2),int(data.shape[1]*1/4)))\n",
    "model_mlp.fit(X_train, y_train)\n",
    "mlp_score=model_mlp.score(X_train,y_train)"
   ]
  },
  {
   "cell_type": "code",
   "execution_count": 19,
   "id": "f7447cc6-be08-4ff4-abf9-1af722ea7467",
   "metadata": {},
   "outputs": [],
   "source": [
    "test_data = (test_data - mean) / std\n",
    "#test_data = test_data.loc[test_data['y'] >= 3]\n",
    "X_test = np.array(test_data.drop('y', axis='columns'))\n",
    "y_test = np.array(test_data['y'])"
   ]
  },
  {
   "cell_type": "code",
   "execution_count": 20,
   "id": "20b63d48-0012-48c1-86d4-71c46da3343e",
   "metadata": {},
   "outputs": [
    {
     "name": "stdout",
     "output_type": "stream",
     "text": [
      "score: 0.9157064964301522\n"
     ]
    }
   ],
   "source": [
    "print('score:',mlp_score)\n",
    "result = model_mlp.predict(X_test)"
   ]
  },
  {
   "cell_type": "code",
   "execution_count": 21,
   "id": "427accc1-85b0-4def-9234-268e31910a56",
   "metadata": {},
   "outputs": [
    {
     "data": {
      "text/html": [
       "<div>\n",
       "<style scoped>\n",
       "    .dataframe tbody tr th:only-of-type {\n",
       "        vertical-align: middle;\n",
       "    }\n",
       "\n",
       "    .dataframe tbody tr th {\n",
       "        vertical-align: top;\n",
       "    }\n",
       "\n",
       "    .dataframe thead th {\n",
       "        text-align: right;\n",
       "    }\n",
       "</style>\n",
       "<table border=\"1\" class=\"dataframe\">\n",
       "  <thead>\n",
       "    <tr style=\"text-align: right;\">\n",
       "      <th></th>\n",
       "      <th>Actual</th>\n",
       "      <th>Predicted</th>\n",
       "    </tr>\n",
       "  </thead>\n",
       "  <tbody>\n",
       "    <tr>\n",
       "      <th>0</th>\n",
       "      <td>0.603101</td>\n",
       "      <td>0.689353</td>\n",
       "    </tr>\n",
       "    <tr>\n",
       "      <th>1</th>\n",
       "      <td>2.337506</td>\n",
       "      <td>2.734014</td>\n",
       "    </tr>\n",
       "    <tr>\n",
       "      <th>2</th>\n",
       "      <td>-0.000451</td>\n",
       "      <td>0.558271</td>\n",
       "    </tr>\n",
       "    <tr>\n",
       "      <th>3</th>\n",
       "      <td>-1.799081</td>\n",
       "      <td>-1.920494</td>\n",
       "    </tr>\n",
       "    <tr>\n",
       "      <th>4</th>\n",
       "      <td>-1.353926</td>\n",
       "      <td>-1.112805</td>\n",
       "    </tr>\n",
       "    <tr>\n",
       "      <th>5</th>\n",
       "      <td>2.903241</td>\n",
       "      <td>1.379405</td>\n",
       "    </tr>\n",
       "    <tr>\n",
       "      <th>6</th>\n",
       "      <td>-0.517908</td>\n",
       "      <td>-0.145776</td>\n",
       "    </tr>\n",
       "    <tr>\n",
       "      <th>7</th>\n",
       "      <td>0.552110</td>\n",
       "      <td>0.880702</td>\n",
       "    </tr>\n",
       "    <tr>\n",
       "      <th>8</th>\n",
       "      <td>0.015082</td>\n",
       "      <td>0.135052</td>\n",
       "    </tr>\n",
       "    <tr>\n",
       "      <th>9</th>\n",
       "      <td>-0.215026</td>\n",
       "      <td>-0.155148</td>\n",
       "    </tr>\n",
       "  </tbody>\n",
       "</table>\n",
       "</div>"
      ],
      "text/plain": [
       "     Actual  Predicted\n",
       "0  0.603101   0.689353\n",
       "1  2.337506   2.734014\n",
       "2 -0.000451   0.558271\n",
       "3 -1.799081  -1.920494\n",
       "4 -1.353926  -1.112805\n",
       "5  2.903241   1.379405\n",
       "6 -0.517908  -0.145776\n",
       "7  0.552110   0.880702\n",
       "8  0.015082   0.135052\n",
       "9 -0.215026  -0.155148"
      ]
     },
     "execution_count": 21,
     "metadata": {},
     "output_type": "execute_result"
    }
   ],
   "source": [
    "df = pd.DataFrame({'Actual': y_test, 'Predicted': result})\n",
    "df1 = df.head(10)\n",
    "df1"
   ]
  },
  {
   "cell_type": "code",
   "execution_count": 22,
   "id": "faa693e7-e1d1-4efd-9594-7390f9eff281",
   "metadata": {},
   "outputs": [
    {
     "name": "stderr",
     "output_type": "stream",
     "text": [
      "C:\\Users\\tazz4\\anaconda3\\envs\\ox\\lib\\site-packages\\seaborn\\distributions.py:2619: FutureWarning: `distplot` is a deprecated function and will be removed in a future version. Please adapt your code to use either `displot` (a figure-level function with similar flexibility) or `histplot` (an axes-level function for histograms).\n",
      "  warnings.warn(msg, FutureWarning)\n"
     ]
    },
    {
     "data": {
      "text/plain": [
       "<AxesSubplot:ylabel='Density'>"
      ]
     },
     "execution_count": 22,
     "metadata": {},
     "output_type": "execute_result"
    },
    {
     "data": {
      "image/png": "[encoded data removed]",
      "text/plain": [
       "<Figure size 1000x500 with 1 Axes>"
      ]
     },
     "metadata": {},
     "output_type": "display_data"
    }
   ],
   "source": [
    "import matplotlib.pyplot as plt\n",
    "import seaborn as sns\n",
    "fig = plt.figure(figsize=(10,5))\n",
    "residuals = (y_test- result)\n",
    "sns.distplot(residuals)"
   ]
  },
  {
   "cell_type": "code",
   "execution_count": 23,
   "id": "5e533c0c-bcba-4690-a975-c0213561af93",
   "metadata": {},
   "outputs": [
    {
     "data": {
      "text/plain": [
       "[<matplotlib.lines.Line2D at 0x12990438880>]"
      ]
     },
     "execution_count": 23,
     "metadata": {},
     "output_type": "execute_result"
    },
    {
     "data": {
      "image/png": "[encoded data removed]",
      "text/plain": [
       "<Figure size 640x480 with 1 Axes>"
      ]
     },
     "metadata": {},
     "output_type": "display_data"
    }
   ],
   "source": [
    "plt.scatter(y_test, result)\n",
    "plt.plot([0,1],[0,1])"
   ]
  },
  {
   "cell_type": "code",
   "execution_count": 24,
   "id": "15340eae-0344-4775-9fde-f03f0216950f",
   "metadata": {
    "tags": []
   },
   "outputs": [
    {
     "name": "stdout",
     "output_type": "stream",
     "text": [
      "        origin        predict      residual  residual_abs  y10  y20  y30\n",
      "0     111940.0  114866.314395  -2926.314395   2926.314395  1.0  1.0  1.0\n",
      "1     170784.0  184236.536459 -13452.536459  13452.536459  1.0  1.0  1.0\n",
      "2      91463.0  110419.042234 -18956.042234  18956.042234  0.0  0.0  1.0\n",
      "3      30440.0   26320.752686   4119.247314   4119.247314  0.0  1.0  1.0\n",
      "4      45543.0   53723.629607  -8180.629607   8180.629607  0.0  1.0  1.0\n",
      "...        ...            ...           ...           ...  ...  ...  ...\n",
      "8022  115590.0   97751.112130  17838.887870  17838.887870  0.0  1.0  1.0\n",
      "8023  132443.0  119282.467729  13160.532271  13160.532271  1.0  1.0  1.0\n",
      "8024  121065.0  107929.031502  13135.968498  13135.968498  0.0  1.0  1.0\n",
      "8025  179111.0  181685.567608  -2574.567608   2574.567608  1.0  1.0  1.0\n",
      "8026  158356.0  152376.103720   5979.896280   5979.896280  1.0  1.0  1.0\n",
      "\n",
      "[8027 rows x 7 columns]\n",
      "預測房價落在實際房價+-10%內的機率為:0.6146754702877787\n",
      "預測房價落在實際房價+-20%內的機率為:0.8906191603338732\n",
      "預測房價落在實際房價+-30%內的機率為:0.9681076367260496\n",
      "Model Percentage Error: 9.31%\n"
     ]
    }
   ],
   "source": [
    "data1 = pd.DataFrame({'origin':y_test * std['y'] + mean['y'],'predict':result* std['y'] + mean['y'],\n",
    "                     'residual':(y_test * std['y'] + mean['y']) - (result* std['y'] + mean['y'])})\n",
    "percentage_error = np.mean(np.abs(data1['origin'] - data1['predict'])) / np.mean(data1['origin']) * 100\n",
    "data1['residual_abs'] = data1['residual'].abs()\n",
    "data1['y10'] = data1['origin'] / 10 - data1['residual_abs']\n",
    "data1['y20'] = data1['origin'] / 5 - data1['residual_abs']\n",
    "data1['y30'] = data1['origin'] / 3.333 - data1['residual_abs']\n",
    "data1.loc[data1['y10'] >= 0, 'y10'] = 1\n",
    "data1.loc[data1['y10'] < 0 , 'y10'] = 0\n",
    "data1.loc[data1['y20'] >= 0, 'y20'] = 1\n",
    "data1.loc[data1['y20'] < 0 , 'y20'] = 0\n",
    "data1.loc[data1['y30'] >= 0, 'y30'] = 1\n",
    "data1.loc[data1['y30'] < 0 , 'y30'] = 0\n",
    "print(data1)\n",
    "print(f'預測房價落在實際房價+-10%內的機率為:{data1[\"y10\"].mean()}')\n",
    "print(f'預測房價落在實際房價+-20%內的機率為:{data1[\"y20\"].mean()}')\n",
    "print(f'預測房價落在實際房價+-30%內的機率為:{data1[\"y30\"].mean()}')\n",
    "print(\"Model Percentage Error: {:.2f}%\".format(percentage_error))"
   ]
  },
  {
   "cell_type": "code",
   "execution_count": 25,
   "id": "f024d162-1b92-4cc7-9799-29871215eee1",
   "metadata": {},
   "outputs": [
    {
     "name": "stdout",
     "output_type": "stream",
     "text": [
      "mean_absolute_error: 0.3113072518928279\n",
      "mean_absolute_percentage_error: 2.46646568698977\n",
      "mean_squared_error: 0.17066676478170317\n",
      "explained_variance_score: 0.869288674136772\n",
      "r2_score: 0.8689420961877236\n"
     ]
    }
   ],
   "source": [
    "from sklearn.metrics import explained_variance_score, mean_absolute_error, mean_squared_error, r2_score, mean_absolute_percentage_error\n",
    "print(f\"mean_absolute_error: {mean_absolute_error(y_test, result)}\")\n",
    "print(f\"mean_absolute_percentage_error: {mean_absolute_percentage_error(y_test, result)}\")\n",
    "print(f\"mean_squared_error: {mean_squared_error(y_test, result)}\")\n",
    "print(f\"explained_variance_score: {explained_variance_score(y_test, result)}\")\n",
    "print(f\"r2_score: {r2_score(y_test, result)}\")\n",
    "#print(f\"r2_adj_score: {1 - (1 - r2_score(y_test, result)) * (feature_count - 1) / (df.shape[0] - feature_count - 1)}\")"
   ]
  },
  {
   "cell_type": "code",
   "execution_count": null,
   "id": "d6c2e860-2d8d-4d7a-aa62-a7fd51b9b71b",
   "metadata": {},
   "outputs": [],
   "source": []
  }
 ],
 "metadata": {
  "kernelspec": {
   "display_name": "Python 3 (ipykernel)",
   "language": "python",
   "name": "python3"
  },
  "language_info": {
   "codemirror_mode": {
    "name": "ipython",
    "version": 3
   },
   "file_extension": ".py",
   "mimetype": "text/x-python",
   "name": "python",
   "nbconvert_exporter": "python",
   "pygments_lexer": "ipython3",
   "version": "3.10.5"
  }
 },
 "nbformat": 4,
 "nbformat_minor": 5
}
