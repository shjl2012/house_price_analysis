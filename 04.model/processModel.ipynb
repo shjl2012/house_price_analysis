{
 "cells": [
  {
   "cell_type": "code",
   "execution_count": null,
   "metadata": {},
   "outputs": [],
   "source": [
    "from house_price_MLP import HousePriceModel\n",
    "import warnings\n",
    "warnings.filterwarnings(\"ignore\")\n",
    "warnings.warn(\"ignore\")\n",
    "\n",
    "\n",
    "NTPC_model = HousePriceModel('NTPC')\n",
    "TPE_model = HousePriceModel('TPE')\n",
    "KEL_model = HousePriceModel('KEL')"
   ]
  },
  {
   "cell_type": "code",
   "execution_count": null,
   "metadata": {},
   "outputs": [],
   "source": [
    "NTPC_model.trainModel()\n",
    "TPE_model.trainModel()\n",
    "KEL_model.trainModel()"
   ]
  },
  {
   "cell_type": "code",
   "execution_count": null,
   "metadata": {},
   "outputs": [],
   "source": [
    "NTPC_model.testModel('test_data')\n",
    "TPE_model.testModel('test_data')\n",
    "KEL_model.testModel('test_data')"
   ]
  }
 ],
 "metadata": {
  "kernelspec": {
   "display_name": "Python 3.10.5 ('ox')",
   "language": "python",
   "name": "python3"
  },
  "language_info": {
   "codemirror_mode": {
    "name": "ipython",
    "version": 3
   },
   "file_extension": ".py",
   "mimetype": "text/x-python",
   "name": "python",
   "nbconvert_exporter": "python",
   "pygments_lexer": "ipython3",
   "version": "3.10.5"
  },
  "orig_nbformat": 4,
  "vscode": {
   "interpreter": {
    "hash": "a4e443fd1ca7fd3350a7a0b185f6306b13e34ba6181eeb3fd780c1d7ec31010d"
   }
  }
 },
 "nbformat": 4,
 "nbformat_minor": 2
}
