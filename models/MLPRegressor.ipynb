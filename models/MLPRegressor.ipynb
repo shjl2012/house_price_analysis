{
 "cells": [
  {
   "cell_type": "code",
   "execution_count": 1,
   "id": "64644cc3-0e8a-464a-92d1-f1dc0665eb0d",
   "metadata": {},
   "outputs": [],
   "source": [
    "import pandas as pd\n",
    "import numpy as np"
   ]
  },
  {
   "cell_type": "code",
   "execution_count": 2,
   "id": "425da3ed-78c3-4a0e-8e44-90e35d637760",
   "metadata": {},
   "outputs": [],
   "source": [
    "data=pd.read_csv(f'../dataset/TPE_model_features_add_history_price.csv')"
   ]
  },
  {
   "cell_type": "code",
   "execution_count": 3,
   "id": "e6c56901-cb90-4713-8167-27e512effdc0",
   "metadata": {},
   "outputs": [
    {
     "name": "stdout",
     "output_type": "stream",
     "text": [
      "131\n"
     ]
    }
   ],
   "source": [
    "data_class = pd.get_dummies(data['鄉鎮市區'])\n",
    "#data = data.loc[data['鄉鎮市區'] == '文山區']\n",
    "data_class.columns = ['鄉鎮市區_' + str(x) for x in data_class.columns]\n",
    "data = pd.concat([data, data_class], axis = 1)\n",
    "print(data.shape[1])"
   ]
  },
  {
   "cell_type": "code",
   "execution_count": 4,
   "id": "d88900db-91a1-4d2d-81d3-ac0b29e4280c",
   "metadata": {},
   "outputs": [],
   "source": [
    "#data.insert(105, 'y', data['單價元平方公尺'])\n",
    "data.insert(data.shape[1], 'y', data['單價元平方公尺'])\n",
    "#data = data[data['交易標的'] == 1]\n",
    "data.drop(['單價元平方公尺'],axis=1,inplace=True)\n",
    "data.drop(['土地位置建物門牌'],axis=1,inplace=True)\n",
    "data.drop(['建物現況格局-隔間'],axis=1,inplace=True)\n",
    "data.drop(['Unnamed: 0'],axis=1,inplace=True)\n",
    "data.drop(['Unnamed: 0.1'],axis=1,inplace=True)\n",
    "data.drop(['lon'],axis=1,inplace=True)\n",
    "data.drop(['lat'],axis=1,inplace=True)\n",
    "#data.drop(['Unnamed: 0.2'],axis=1,inplace=True)\n",
    "data.drop(['主要建材'],axis=1,inplace=True)\n",
    "data.drop(['鄉鎮市區'],axis=1,inplace=True)\n",
    "data = data.loc[data['備註'].isnull()]\n",
    "data.drop(['備註'],axis=1,inplace=True)\n",
    "#data.drop(['near_hospital_dist'],axis=1,inplace=True)\n",
    "#data.drop(['near_school_dist'],axis=1,inplace=True)\n",
    "#data.drop(['near_university_dist_dist'],axis=1,inplace=True)\n",
    "#data.drop(['near_firestation_dist'],axis=1,inplace=True)\n",
    "#data.drop(['near_police_dist'],axis=1,inplace=True)\n",
    "#data.drop(['near_lrt_dist'],axis=1,inplace=True)\n",
    "#data['near_tra_dist_dist**2'] = data.apply(lambda x: x['near_tra_dist_dist'] * x['near_tra_dist_dist'], axis = 1)\n",
    "#data.drop(['near_tra_dist'],axis=1,inplace=True)\n",
    "#data['near_mrt_dist_dist**2'] = data.apply(lambda x: x['near_mrt_dist_dist'] * x['near_mrt_dist_dist'], axis = 1)\n",
    "#data.drop(['near_mrt_dist'],axis=1,inplace=True)\n",
    "data.drop(['geometry'],axis=1,inplace=True)"
   ]
  },
  {
   "cell_type": "markdown",
   "id": "7e3f7c7d-3923-4b98-acb3-485959e2fbdb",
   "metadata": {},
   "source": [
    "### 低變異過濾"
   ]
  },
  {
   "cell_type": "code",
   "execution_count": 5,
   "id": "6f27f78b-fab9-4cf6-b447-c0a1f002f3fd",
   "metadata": {},
   "outputs": [],
   "source": [
    "data = data.loc[:, data.std() > 0]\n",
    "data = data.dropna()"
   ]
  },
  {
   "cell_type": "markdown",
   "id": "23f04fab-d892-4538-b042-a350f4a64ca1",
   "metadata": {},
   "source": [
    "### 處理偏態係數(絕對值)"
   ]
  },
  {
   "cell_type": "code",
   "execution_count": 6,
   "id": "b21a0c02-d929-4f7a-92f8-aca34b72ee92",
   "metadata": {},
   "outputs": [
    {
     "data": {
      "text/plain": [
       "array(['建物現況格局-房', '建物現況格局-廳', '建物現況格局-衛', '車位總價元', '車位類別_一樓平面',\n",
       "       '車位類別_其他', '車位類別_升降平面', '車位類別_塔式車位', '建物型態-透天', '主要建材_石', '主要建材_磚',\n",
       "       '都市土地使用分區_工', '都市土地使用分區_農', 'CEMETERY_AREA_250',\n",
       "       'CEMETERY_AREA_500', 'NEAR_TRA_250', 'NEAR_TRA_500'], dtype=object)"
      ]
     },
     "execution_count": 6,
     "metadata": {},
     "output_type": "execute_result"
    }
   ],
   "source": [
    "data.skew(axis=0).sort_values(ascending=False)\n",
    "data.skew(axis=0).sort_values(ascending=False).head()\n",
    "data.skew(axis=0).sort_values(ascending=False).tail()\n",
    "\n",
    "data.skew(axis=0)[data.skew(axis=0) > 5].sort_values(ascending=False)\n",
    "data.skew(axis=0)[data.skew(axis=0) > 5].index.values # 偏態係數(絕對值)高於3的屬性"
   ]
  },
  {
   "cell_type": "code",
   "execution_count": 7,
   "id": "272808eb-7a76-43df-9823-771be7aff653",
   "metadata": {},
   "outputs": [],
   "source": [
    "highlyLeftSkewed = data.skew(axis=0).sort_values(ascending=False).tail(n=9).index.values"
   ]
  },
  {
   "cell_type": "code",
   "execution_count": 8,
   "id": "743e3d41-3108-41bb-a7b4-2dd87ecab300",
   "metadata": {},
   "outputs": [
    {
     "name": "stdout",
     "output_type": "stream",
     "text": [
      "['NEAR_UNIVERSITY_750' 'NEAR_MARKET_500' 'NEAR_SCHOOL_250' 'NEAR_FUEL_750'\n",
      " '主要建材_鋼筋' '主要建材_混凝土' 'NEAR_MARKET_750' 'NEAR_SCHOOL_500'\n",
      " 'NEAR_SCHOOL_750']\n"
     ]
    }
   ],
   "source": [
    "print(highlyLeftSkewed)"
   ]
  },
  {
   "cell_type": "code",
   "execution_count": 9,
   "id": "e249aec4-2c78-4211-bc5d-06a0113bbd9a",
   "metadata": {},
   "outputs": [],
   "source": [
    "highlyRightSkewed = data.skew(axis=0).sort_values(ascending=False).head(n=9).index.values"
   ]
  },
  {
   "cell_type": "code",
   "execution_count": 10,
   "id": "649618ed-8439-4e0b-8e3b-088a7131c11f",
   "metadata": {},
   "outputs": [
    {
     "name": "stdout",
     "output_type": "stream",
     "text": [
      "['都市土地使用分區_農' '主要建材_石' '都市土地使用分區_工' '車位總價元' '建物現況格局-廳' '建物現況格局-房'\n",
      " '車位類別_一樓平面' '建物現況格局-衛' 'NEAR_TRA_250']\n"
     ]
    }
   ],
   "source": [
    "print(highlyRightSkewed)"
   ]
  },
  {
   "cell_type": "code",
   "execution_count": 11,
   "id": "53eb6b9c-fb95-4e4c-a9e1-b58c5aa110f7",
   "metadata": {
    "tags": []
   },
   "outputs": [],
   "source": [
    "# drop_list = ['NEAR_UNIVERSITY_750', 'NEAR_MARKET_500', 'NEAR_SCHOOL_250', 'NEAR_FUEL_750',\n",
    "#              'NEAR_MARKET_750','NEAR_SCHOOL_500','NEAR_SCHOOL_750','NEAR_TRA_250']\n",
    "# for d in drop_list:\n",
    "#     data.drop([d],axis=1,inplace=True)"
   ]
  },
  {
   "cell_type": "markdown",
   "id": "dd66faac-8ecb-40b1-9079-d3f3c1792700",
   "metadata": {},
   "source": [
    "### PCA 主成份分析維度縮減"
   ]
  },
  {
   "cell_type": "markdown",
   "id": "52277f5f-6029-46b8-9200-ae1ae6ec4cc7",
   "metadata": {},
   "source": [
    "### PCA只能針對量化變數計算"
   ]
  },
  {
   "cell_type": "code",
   "execution_count": null,
   "id": "fe33a11a-fc6f-4c55-a62c-c50afe8f552b",
   "metadata": {},
   "outputs": [],
   "source": []
  },
  {
   "cell_type": "code",
   "execution_count": 12,
   "id": "71c2163a-2a8d-453f-9805-efa386dab553",
   "metadata": {},
   "outputs": [
    {
     "data": {
      "text/html": [
       "<div>\n",
       "<style scoped>\n",
       "    .dataframe tbody tr th:only-of-type {\n",
       "        vertical-align: middle;\n",
       "    }\n",
       "\n",
       "    .dataframe tbody tr th {\n",
       "        vertical-align: top;\n",
       "    }\n",
       "\n",
       "    .dataframe thead th {\n",
       "        text-align: right;\n",
       "    }\n",
       "</style>\n",
       "<table border=\"1\" class=\"dataframe\">\n",
       "  <thead>\n",
       "    <tr style=\"text-align: right;\">\n",
       "      <th></th>\n",
       "      <th>交易標的</th>\n",
       "      <th>建物現況格局-房</th>\n",
       "      <th>建物現況格局-廳</th>\n",
       "      <th>建物現況格局-衛</th>\n",
       "      <th>有無管理組織</th>\n",
       "      <th>車位總價元</th>\n",
       "      <th>電梯</th>\n",
       "      <th>屋齡</th>\n",
       "      <th>交易年份</th>\n",
       "      <th>floor</th>\n",
       "      <th>...</th>\n",
       "      <th>鄉鎮市區_內湖區</th>\n",
       "      <th>鄉鎮市區_北投區</th>\n",
       "      <th>鄉鎮市區_南港區</th>\n",
       "      <th>鄉鎮市區_士林區</th>\n",
       "      <th>鄉鎮市區_大同區</th>\n",
       "      <th>鄉鎮市區_大安區</th>\n",
       "      <th>鄉鎮市區_文山區</th>\n",
       "      <th>鄉鎮市區_松山區</th>\n",
       "      <th>鄉鎮市區_萬華區</th>\n",
       "      <th>y</th>\n",
       "    </tr>\n",
       "  </thead>\n",
       "  <tbody>\n",
       "    <tr>\n",
       "      <th>0</th>\n",
       "      <td>0</td>\n",
       "      <td>2</td>\n",
       "      <td>2</td>\n",
       "      <td>1</td>\n",
       "      <td>1</td>\n",
       "      <td>0</td>\n",
       "      <td>1</td>\n",
       "      <td>0.0</td>\n",
       "      <td>111</td>\n",
       "      <td>6.0</td>\n",
       "      <td>...</td>\n",
       "      <td>1</td>\n",
       "      <td>0</td>\n",
       "      <td>0</td>\n",
       "      <td>0</td>\n",
       "      <td>0</td>\n",
       "      <td>0</td>\n",
       "      <td>0</td>\n",
       "      <td>0</td>\n",
       "      <td>0</td>\n",
       "      <td>175767.0</td>\n",
       "    </tr>\n",
       "    <tr>\n",
       "      <th>1</th>\n",
       "      <td>0</td>\n",
       "      <td>2</td>\n",
       "      <td>1</td>\n",
       "      <td>1</td>\n",
       "      <td>0</td>\n",
       "      <td>0</td>\n",
       "      <td>1</td>\n",
       "      <td>0.0</td>\n",
       "      <td>111</td>\n",
       "      <td>5.0</td>\n",
       "      <td>...</td>\n",
       "      <td>0</td>\n",
       "      <td>0</td>\n",
       "      <td>0</td>\n",
       "      <td>0</td>\n",
       "      <td>0</td>\n",
       "      <td>0</td>\n",
       "      <td>0</td>\n",
       "      <td>0</td>\n",
       "      <td>1</td>\n",
       "      <td>213653.0</td>\n",
       "    </tr>\n",
       "    <tr>\n",
       "      <th>2</th>\n",
       "      <td>0</td>\n",
       "      <td>2</td>\n",
       "      <td>1</td>\n",
       "      <td>1</td>\n",
       "      <td>0</td>\n",
       "      <td>0</td>\n",
       "      <td>1</td>\n",
       "      <td>0.0</td>\n",
       "      <td>111</td>\n",
       "      <td>5.0</td>\n",
       "      <td>...</td>\n",
       "      <td>0</td>\n",
       "      <td>0</td>\n",
       "      <td>0</td>\n",
       "      <td>0</td>\n",
       "      <td>0</td>\n",
       "      <td>0</td>\n",
       "      <td>0</td>\n",
       "      <td>0</td>\n",
       "      <td>1</td>\n",
       "      <td>213391.0</td>\n",
       "    </tr>\n",
       "    <tr>\n",
       "      <th>3</th>\n",
       "      <td>1</td>\n",
       "      <td>3</td>\n",
       "      <td>2</td>\n",
       "      <td>2</td>\n",
       "      <td>1</td>\n",
       "      <td>2300000</td>\n",
       "      <td>1</td>\n",
       "      <td>0.0</td>\n",
       "      <td>111</td>\n",
       "      <td>6.0</td>\n",
       "      <td>...</td>\n",
       "      <td>1</td>\n",
       "      <td>0</td>\n",
       "      <td>0</td>\n",
       "      <td>0</td>\n",
       "      <td>0</td>\n",
       "      <td>0</td>\n",
       "      <td>0</td>\n",
       "      <td>0</td>\n",
       "      <td>0</td>\n",
       "      <td>177250.0</td>\n",
       "    </tr>\n",
       "    <tr>\n",
       "      <th>4</th>\n",
       "      <td>1</td>\n",
       "      <td>1</td>\n",
       "      <td>1</td>\n",
       "      <td>1</td>\n",
       "      <td>1</td>\n",
       "      <td>2300000</td>\n",
       "      <td>1</td>\n",
       "      <td>0.0</td>\n",
       "      <td>111</td>\n",
       "      <td>5.0</td>\n",
       "      <td>...</td>\n",
       "      <td>0</td>\n",
       "      <td>0</td>\n",
       "      <td>0</td>\n",
       "      <td>0</td>\n",
       "      <td>0</td>\n",
       "      <td>0</td>\n",
       "      <td>0</td>\n",
       "      <td>0</td>\n",
       "      <td>0</td>\n",
       "      <td>394850.0</td>\n",
       "    </tr>\n",
       "  </tbody>\n",
       "</table>\n",
       "<p>5 rows × 118 columns</p>\n",
       "</div>"
      ],
      "text/plain": [
       "   交易標的  建物現況格局-房  建物現況格局-廳  建物現況格局-衛  有無管理組織    車位總價元  電梯   屋齡  交易年份  floor  \\\n",
       "0     0         2         2         1       1        0   1  0.0   111    6.0   \n",
       "1     0         2         1         1       0        0   1  0.0   111    5.0   \n",
       "2     0         2         1         1       0        0   1  0.0   111    5.0   \n",
       "3     1         3         2         2       1  2300000   1  0.0   111    6.0   \n",
       "4     1         1         1         1       1  2300000   1  0.0   111    5.0   \n",
       "\n",
       "   ...  鄉鎮市區_內湖區  鄉鎮市區_北投區  鄉鎮市區_南港區  鄉鎮市區_士林區  鄉鎮市區_大同區  鄉鎮市區_大安區  鄉鎮市區_文山區  \\\n",
       "0  ...         1         0         0         0         0         0         0   \n",
       "1  ...         0         0         0         0         0         0         0   \n",
       "2  ...         0         0         0         0         0         0         0   \n",
       "3  ...         1         0         0         0         0         0         0   \n",
       "4  ...         0         0         0         0         0         0         0   \n",
       "\n",
       "   鄉鎮市區_松山區  鄉鎮市區_萬華區         y  \n",
       "0         0         0  175767.0  \n",
       "1         0         1  213653.0  \n",
       "2         0         1  213391.0  \n",
       "3         0         0  177250.0  \n",
       "4         0         0  394850.0  \n",
       "\n",
       "[5 rows x 118 columns]"
      ]
     },
     "execution_count": 12,
     "metadata": {},
     "output_type": "execute_result"
    }
   ],
   "source": [
    "data.head()"
   ]
  },
  {
   "cell_type": "code",
   "execution_count": 13,
   "id": "e1c992ca-2254-4743-9b93-b5a0eb927308",
   "metadata": {},
   "outputs": [
    {
     "name": "stdout",
     "output_type": "stream",
     "text": [
      "118\n"
     ]
    }
   ],
   "source": [
    "feature_count = data.shape[1]\n",
    "print(feature_count)"
   ]
  },
  {
   "cell_type": "code",
   "execution_count": 14,
   "id": "1cd54fa7-bedb-460e-8284-04cea8e49397",
   "metadata": {},
   "outputs": [],
   "source": [
    "#from sklearn.preprocessing import StandardScaler"
   ]
  },
  {
   "cell_type": "code",
   "execution_count": 15,
   "id": "31fe51f4-40c4-452f-8e3a-a682ad7c5ca0",
   "metadata": {},
   "outputs": [],
   "source": [
    "#scaler = StandardScaler()\n",
    "#scaler.fit(train_data)"
   ]
  },
  {
   "cell_type": "code",
   "execution_count": 16,
   "id": "b735bfb7-e41a-42db-9ea4-24b48da490de",
   "metadata": {},
   "outputs": [],
   "source": [
    "#data_norm = scaler.transform(train_data)\n",
    "#pd.DataFrame(data_norm).describe()"
   ]
  },
  {
   "cell_type": "code",
   "execution_count": 17,
   "id": "da3d6e9f-34fd-4b68-b8da-c9bff3d6a5ef",
   "metadata": {},
   "outputs": [],
   "source": [
    "#X = data_norm[:,0:115]\n",
    "#y = data_norm[:,115]\n",
    "#X = data_norm[:,0:feature_count-1]\n",
    "#y = data_norm[:,feature_count-1]"
   ]
  },
  {
   "cell_type": "markdown",
   "id": "a7e1e213-3b3e-404d-a0c2-3b7cc6045a09",
   "metadata": {},
   "source": [
    "### Python scikit-learn 屬性挑選"
   ]
  },
  {
   "cell_type": "code",
   "execution_count": 18,
   "id": "a28dbbda-0294-407b-b58f-de88ab41a805",
   "metadata": {},
   "outputs": [],
   "source": [
    "from sklearn.feature_selection import SelectKBest # Part 1: 選用屬性排名法，挑前K佳的\n",
    "# chi-square test is going to be our criteria to select the K best features\n",
    "from sklearn.feature_selection import chi2 # Part 2: 選用挑選準則 - chi2 卡方統計量"
   ]
  },
  {
   "cell_type": "code",
   "execution_count": 19,
   "id": "23948e13-587f-43d8-87df-4f1f04c70596",
   "metadata": {},
   "outputs": [],
   "source": [
    "X = data.drop('y', axis='columns')\n",
    "y = data['y']"
   ]
  },
  {
   "cell_type": "code",
   "execution_count": 20,
   "id": "13739511-ee29-4a9e-9bd1-9909399f145d",
   "metadata": {},
   "outputs": [
    {
     "name": "stdout",
     "output_type": "stream",
     "text": [
      "0        175767.0\n",
      "1        213653.0\n",
      "2        213391.0\n",
      "3        177250.0\n",
      "4        394850.0\n",
      "           ...   \n",
      "59042    155127.0\n",
      "59043    181969.0\n",
      "59044    625782.0\n",
      "59045    281311.0\n",
      "59046    306633.0\n",
      "Name: y, Length: 33090, dtype: float64\n"
     ]
    }
   ],
   "source": [
    "print(y)"
   ]
  },
  {
   "cell_type": "code",
   "execution_count": 21,
   "id": "473d331c-33b0-4f14-a88e-e801c402909e",
   "metadata": {},
   "outputs": [
    {
     "data": {
      "text/html": [
       "<style>#sk-container-id-1 {color: black;background-color: white;}#sk-container-id-1 pre{padding: 0;}#sk-container-id-1 div.sk-toggleable {background-color: white;}#sk-container-id-1 label.sk-toggleable__label {cursor: pointer;display: block;width: 100%;margin-bottom: 0;padding: 0.3em;box-sizing: border-box;text-align: center;}#sk-container-id-1 label.sk-toggleable__label-arrow:before {content: \"▸\";float: left;margin-right: 0.25em;color: #696969;}#sk-container-id-1 label.sk-toggleable__label-arrow:hover:before {color: black;}#sk-container-id-1 div.sk-estimator:hover label.sk-toggleable__label-arrow:before {color: black;}#sk-container-id-1 div.sk-toggleable__content {max-height: 0;max-width: 0;overflow: hidden;text-align: left;background-color: #f0f8ff;}#sk-container-id-1 div.sk-toggleable__content pre {margin: 0.2em;color: black;border-radius: 0.25em;background-color: #f0f8ff;}#sk-container-id-1 input.sk-toggleable__control:checked~div.sk-toggleable__content {max-height: 200px;max-width: 100%;overflow: auto;}#sk-container-id-1 input.sk-toggleable__control:checked~label.sk-toggleable__label-arrow:before {content: \"▾\";}#sk-container-id-1 div.sk-estimator input.sk-toggleable__control:checked~label.sk-toggleable__label {background-color: #d4ebff;}#sk-container-id-1 div.sk-label input.sk-toggleable__control:checked~label.sk-toggleable__label {background-color: #d4ebff;}#sk-container-id-1 input.sk-hidden--visually {border: 0;clip: rect(1px 1px 1px 1px);clip: rect(1px, 1px, 1px, 1px);height: 1px;margin: -1px;overflow: hidden;padding: 0;position: absolute;width: 1px;}#sk-container-id-1 div.sk-estimator {font-family: monospace;background-color: #f0f8ff;border: 1px dotted black;border-radius: 0.25em;box-sizing: border-box;margin-bottom: 0.5em;}#sk-container-id-1 div.sk-estimator:hover {background-color: #d4ebff;}#sk-container-id-1 div.sk-parallel-item::after {content: \"\";width: 100%;border-bottom: 1px solid gray;flex-grow: 1;}#sk-container-id-1 div.sk-label:hover label.sk-toggleable__label {background-color: #d4ebff;}#sk-container-id-1 div.sk-serial::before {content: \"\";position: absolute;border-left: 1px solid gray;box-sizing: border-box;top: 0;bottom: 0;left: 50%;z-index: 0;}#sk-container-id-1 div.sk-serial {display: flex;flex-direction: column;align-items: center;background-color: white;padding-right: 0.2em;padding-left: 0.2em;position: relative;}#sk-container-id-1 div.sk-item {position: relative;z-index: 1;}#sk-container-id-1 div.sk-parallel {display: flex;align-items: stretch;justify-content: center;background-color: white;position: relative;}#sk-container-id-1 div.sk-item::before, #sk-container-id-1 div.sk-parallel-item::before {content: \"\";position: absolute;border-left: 1px solid gray;box-sizing: border-box;top: 0;bottom: 0;left: 50%;z-index: -1;}#sk-container-id-1 div.sk-parallel-item {display: flex;flex-direction: column;z-index: 1;position: relative;background-color: white;}#sk-container-id-1 div.sk-parallel-item:first-child::after {align-self: flex-end;width: 50%;}#sk-container-id-1 div.sk-parallel-item:last-child::after {align-self: flex-start;width: 50%;}#sk-container-id-1 div.sk-parallel-item:only-child::after {width: 0;}#sk-container-id-1 div.sk-dashed-wrapped {border: 1px dashed gray;margin: 0 0.4em 0.5em 0.4em;box-sizing: border-box;padding-bottom: 0.4em;background-color: white;}#sk-container-id-1 div.sk-label label {font-family: monospace;font-weight: bold;display: inline-block;line-height: 1.2em;}#sk-container-id-1 div.sk-label-container {text-align: center;}#sk-container-id-1 div.sk-container {/* jupyter's `normalize.less` sets `[hidden] { display: none; }` but bootstrap.min.css set `[hidden] { display: none !important; }` so we also need the `!important` here to be able to override the default hidden behavior on the sphinx rendered scikit-learn.org. See: https://github.com/scikit-learn/scikit-learn/issues/21755 */display: inline-block !important;position: relative;}#sk-container-id-1 div.sk-text-repr-fallback {display: none;}</style><div id=\"sk-container-id-1\" class=\"sk-top-container\"><div class=\"sk-text-repr-fallback\"><pre>SelectKBest(k=&#x27;all&#x27;, score_func=&lt;function chi2 at 0x000001B8B5C0B490&gt;)</pre><b>In a Jupyter environment, please rerun this cell to show the HTML representation or trust the notebook. <br />On GitHub, the HTML representation is unable to render, please try loading this page with nbviewer.org.</b></div><div class=\"sk-container\" hidden><div class=\"sk-item\"><div class=\"sk-estimator sk-toggleable\"><input class=\"sk-toggleable__control sk-hidden--visually\" id=\"sk-estimator-id-1\" type=\"checkbox\" checked><label for=\"sk-estimator-id-1\" class=\"sk-toggleable__label sk-toggleable__label-arrow\">SelectKBest</label><div class=\"sk-toggleable__content\"><pre>SelectKBest(k=&#x27;all&#x27;, score_func=&lt;function chi2 at 0x000001B8B5C0B490&gt;)</pre></div></div></div></div></div>"
      ],
      "text/plain": [
       "SelectKBest(k='all', score_func=<function chi2 at 0x000001B8B5C0B490>)"
      ]
     },
     "execution_count": 21,
     "metadata": {},
     "output_type": "execute_result"
    }
   ],
   "source": [
    "fs = SelectKBest(chi2, k='all')\n",
    "fs.fit(X, y) "
   ]
  },
  {
   "cell_type": "code",
   "execution_count": 22,
   "id": "9060fbe8-c83a-4d4b-bc77-0d148cd018bf",
   "metadata": {},
   "outputs": [
    {
     "data": {
      "text/plain": [
       "array([ True,  True,  True,  True,  True,  True,  True,  True,  True,\n",
       "        True,  True,  True,  True,  True,  True,  True,  True,  True,\n",
       "        True,  True,  True,  True,  True,  True,  True,  True,  True,\n",
       "        True,  True,  True,  True,  True,  True,  True,  True,  True,\n",
       "        True,  True,  True,  True,  True,  True,  True,  True,  True,\n",
       "        True,  True,  True,  True,  True,  True,  True,  True,  True,\n",
       "        True,  True,  True,  True,  True,  True,  True,  True,  True,\n",
       "        True,  True,  True,  True,  True,  True,  True,  True,  True,\n",
       "        True,  True,  True,  True,  True,  True,  True,  True,  True,\n",
       "        True,  True,  True,  True,  True,  True,  True,  True,  True,\n",
       "        True,  True,  True,  True,  True,  True,  True,  True,  True,\n",
       "        True,  True,  True,  True,  True,  True,  True,  True,  True,\n",
       "        True,  True,  True,  True,  True,  True,  True,  True,  True])"
      ]
     },
     "execution_count": 22,
     "metadata": {},
     "output_type": "execute_result"
    }
   ],
   "source": [
    "dir(fs) # 做出來的東西都藏在實模fs裡\n",
    "fs.get_support()"
   ]
  },
  {
   "cell_type": "code",
   "execution_count": 23,
   "id": "86c17309-7551-4e35-94ae-545dbd68a459",
   "metadata": {},
   "outputs": [
    {
     "data": {
      "text/plain": [
       "(33090, 117)"
      ]
     },
     "execution_count": 23,
     "metadata": {},
     "output_type": "execute_result"
    }
   ],
   "source": [
    "X_new = fs.transform(X) # Python資料導向程式設計輸入輸出不同調的常見現象(X is a pandas DataFrame, X_new is a numpy ndarray.)\n",
    "X_new.shape"
   ]
  },
  {
   "cell_type": "code",
   "execution_count": 24,
   "id": "91f70bcc-4b0b-4146-b429-684125e41a9d",
   "metadata": {},
   "outputs": [],
   "source": [
    "Ｘ_new = pd.DataFrame(X_new, columns = X.columns[fs.get_support()])"
   ]
  },
  {
   "cell_type": "code",
   "execution_count": 25,
   "id": "3455b4b0-0d76-4e2c-9c9b-04224165dc7b",
   "metadata": {},
   "outputs": [
    {
     "data": {
      "text/html": [
       "<div>\n",
       "<style scoped>\n",
       "    .dataframe tbody tr th:only-of-type {\n",
       "        vertical-align: middle;\n",
       "    }\n",
       "\n",
       "    .dataframe tbody tr th {\n",
       "        vertical-align: top;\n",
       "    }\n",
       "\n",
       "    .dataframe thead th {\n",
       "        text-align: right;\n",
       "    }\n",
       "</style>\n",
       "<table border=\"1\" class=\"dataframe\">\n",
       "  <thead>\n",
       "    <tr style=\"text-align: right;\">\n",
       "      <th></th>\n",
       "      <th>交易標的</th>\n",
       "      <th>建物現況格局-房</th>\n",
       "      <th>建物現況格局-廳</th>\n",
       "      <th>建物現況格局-衛</th>\n",
       "      <th>有無管理組織</th>\n",
       "      <th>車位總價元</th>\n",
       "      <th>電梯</th>\n",
       "      <th>屋齡</th>\n",
       "      <th>交易年份</th>\n",
       "      <th>floor</th>\n",
       "      <th>...</th>\n",
       "      <th>鄉鎮市區_信義區</th>\n",
       "      <th>鄉鎮市區_內湖區</th>\n",
       "      <th>鄉鎮市區_北投區</th>\n",
       "      <th>鄉鎮市區_南港區</th>\n",
       "      <th>鄉鎮市區_士林區</th>\n",
       "      <th>鄉鎮市區_大同區</th>\n",
       "      <th>鄉鎮市區_大安區</th>\n",
       "      <th>鄉鎮市區_文山區</th>\n",
       "      <th>鄉鎮市區_松山區</th>\n",
       "      <th>鄉鎮市區_萬華區</th>\n",
       "    </tr>\n",
       "  </thead>\n",
       "  <tbody>\n",
       "    <tr>\n",
       "      <th>0</th>\n",
       "      <td>0.0</td>\n",
       "      <td>2.0</td>\n",
       "      <td>2.0</td>\n",
       "      <td>1.0</td>\n",
       "      <td>1.0</td>\n",
       "      <td>0.0</td>\n",
       "      <td>1.0</td>\n",
       "      <td>0.0</td>\n",
       "      <td>111.0</td>\n",
       "      <td>6.0</td>\n",
       "      <td>...</td>\n",
       "      <td>0.0</td>\n",
       "      <td>1.0</td>\n",
       "      <td>0.0</td>\n",
       "      <td>0.0</td>\n",
       "      <td>0.0</td>\n",
       "      <td>0.0</td>\n",
       "      <td>0.0</td>\n",
       "      <td>0.0</td>\n",
       "      <td>0.0</td>\n",
       "      <td>0.0</td>\n",
       "    </tr>\n",
       "    <tr>\n",
       "      <th>1</th>\n",
       "      <td>0.0</td>\n",
       "      <td>2.0</td>\n",
       "      <td>1.0</td>\n",
       "      <td>1.0</td>\n",
       "      <td>0.0</td>\n",
       "      <td>0.0</td>\n",
       "      <td>1.0</td>\n",
       "      <td>0.0</td>\n",
       "      <td>111.0</td>\n",
       "      <td>5.0</td>\n",
       "      <td>...</td>\n",
       "      <td>0.0</td>\n",
       "      <td>0.0</td>\n",
       "      <td>0.0</td>\n",
       "      <td>0.0</td>\n",
       "      <td>0.0</td>\n",
       "      <td>0.0</td>\n",
       "      <td>0.0</td>\n",
       "      <td>0.0</td>\n",
       "      <td>0.0</td>\n",
       "      <td>1.0</td>\n",
       "    </tr>\n",
       "    <tr>\n",
       "      <th>2</th>\n",
       "      <td>0.0</td>\n",
       "      <td>2.0</td>\n",
       "      <td>1.0</td>\n",
       "      <td>1.0</td>\n",
       "      <td>0.0</td>\n",
       "      <td>0.0</td>\n",
       "      <td>1.0</td>\n",
       "      <td>0.0</td>\n",
       "      <td>111.0</td>\n",
       "      <td>5.0</td>\n",
       "      <td>...</td>\n",
       "      <td>0.0</td>\n",
       "      <td>0.0</td>\n",
       "      <td>0.0</td>\n",
       "      <td>0.0</td>\n",
       "      <td>0.0</td>\n",
       "      <td>0.0</td>\n",
       "      <td>0.0</td>\n",
       "      <td>0.0</td>\n",
       "      <td>0.0</td>\n",
       "      <td>1.0</td>\n",
       "    </tr>\n",
       "    <tr>\n",
       "      <th>3</th>\n",
       "      <td>1.0</td>\n",
       "      <td>3.0</td>\n",
       "      <td>2.0</td>\n",
       "      <td>2.0</td>\n",
       "      <td>1.0</td>\n",
       "      <td>2300000.0</td>\n",
       "      <td>1.0</td>\n",
       "      <td>0.0</td>\n",
       "      <td>111.0</td>\n",
       "      <td>6.0</td>\n",
       "      <td>...</td>\n",
       "      <td>0.0</td>\n",
       "      <td>1.0</td>\n",
       "      <td>0.0</td>\n",
       "      <td>0.0</td>\n",
       "      <td>0.0</td>\n",
       "      <td>0.0</td>\n",
       "      <td>0.0</td>\n",
       "      <td>0.0</td>\n",
       "      <td>0.0</td>\n",
       "      <td>0.0</td>\n",
       "    </tr>\n",
       "    <tr>\n",
       "      <th>4</th>\n",
       "      <td>1.0</td>\n",
       "      <td>1.0</td>\n",
       "      <td>1.0</td>\n",
       "      <td>1.0</td>\n",
       "      <td>1.0</td>\n",
       "      <td>2300000.0</td>\n",
       "      <td>1.0</td>\n",
       "      <td>0.0</td>\n",
       "      <td>111.0</td>\n",
       "      <td>5.0</td>\n",
       "      <td>...</td>\n",
       "      <td>0.0</td>\n",
       "      <td>0.0</td>\n",
       "      <td>0.0</td>\n",
       "      <td>0.0</td>\n",
       "      <td>0.0</td>\n",
       "      <td>0.0</td>\n",
       "      <td>0.0</td>\n",
       "      <td>0.0</td>\n",
       "      <td>0.0</td>\n",
       "      <td>0.0</td>\n",
       "    </tr>\n",
       "  </tbody>\n",
       "</table>\n",
       "<p>5 rows × 117 columns</p>\n",
       "</div>"
      ],
      "text/plain": [
       "   交易標的  建物現況格局-房  建物現況格局-廳  建物現況格局-衛  有無管理組織      車位總價元   電梯   屋齡   交易年份  \\\n",
       "0   0.0       2.0       2.0       1.0     1.0        0.0  1.0  0.0  111.0   \n",
       "1   0.0       2.0       1.0       1.0     0.0        0.0  1.0  0.0  111.0   \n",
       "2   0.0       2.0       1.0       1.0     0.0        0.0  1.0  0.0  111.0   \n",
       "3   1.0       3.0       2.0       2.0     1.0  2300000.0  1.0  0.0  111.0   \n",
       "4   1.0       1.0       1.0       1.0     1.0  2300000.0  1.0  0.0  111.0   \n",
       "\n",
       "   floor  ...  鄉鎮市區_信義區  鄉鎮市區_內湖區  鄉鎮市區_北投區  鄉鎮市區_南港區  鄉鎮市區_士林區  鄉鎮市區_大同區  \\\n",
       "0    6.0  ...       0.0       1.0       0.0       0.0       0.0       0.0   \n",
       "1    5.0  ...       0.0       0.0       0.0       0.0       0.0       0.0   \n",
       "2    5.0  ...       0.0       0.0       0.0       0.0       0.0       0.0   \n",
       "3    6.0  ...       0.0       1.0       0.0       0.0       0.0       0.0   \n",
       "4    5.0  ...       0.0       0.0       0.0       0.0       0.0       0.0   \n",
       "\n",
       "   鄉鎮市區_大安區  鄉鎮市區_文山區  鄉鎮市區_松山區  鄉鎮市區_萬華區  \n",
       "0       0.0       0.0       0.0       0.0  \n",
       "1       0.0       0.0       0.0       1.0  \n",
       "2       0.0       0.0       0.0       1.0  \n",
       "3       0.0       0.0       0.0       0.0  \n",
       "4       0.0       0.0       0.0       0.0  \n",
       "\n",
       "[5 rows x 117 columns]"
      ]
     },
     "execution_count": 25,
     "metadata": {},
     "output_type": "execute_result"
    }
   ],
   "source": [
    "Ｘ_new.head()"
   ]
  },
  {
   "cell_type": "code",
   "execution_count": 26,
   "id": "cfae0ce0-cbd2-4e45-b4e7-869f306cca76",
   "metadata": {},
   "outputs": [],
   "source": [
    "data_new = pd.concat([Ｘ_new,y], axis=1)"
   ]
  },
  {
   "cell_type": "code",
   "execution_count": 27,
   "id": "d736ab91-0f53-4f49-9644-70a044196d25",
   "metadata": {},
   "outputs": [
    {
     "data": {
      "text/html": [
       "<div>\n",
       "<style scoped>\n",
       "    .dataframe tbody tr th:only-of-type {\n",
       "        vertical-align: middle;\n",
       "    }\n",
       "\n",
       "    .dataframe tbody tr th {\n",
       "        vertical-align: top;\n",
       "    }\n",
       "\n",
       "    .dataframe thead th {\n",
       "        text-align: right;\n",
       "    }\n",
       "</style>\n",
       "<table border=\"1\" class=\"dataframe\">\n",
       "  <thead>\n",
       "    <tr style=\"text-align: right;\">\n",
       "      <th></th>\n",
       "      <th>交易標的</th>\n",
       "      <th>建物現況格局-房</th>\n",
       "      <th>建物現況格局-廳</th>\n",
       "      <th>建物現況格局-衛</th>\n",
       "      <th>有無管理組織</th>\n",
       "      <th>車位總價元</th>\n",
       "      <th>電梯</th>\n",
       "      <th>屋齡</th>\n",
       "      <th>交易年份</th>\n",
       "      <th>floor</th>\n",
       "      <th>...</th>\n",
       "      <th>鄉鎮市區_內湖區</th>\n",
       "      <th>鄉鎮市區_北投區</th>\n",
       "      <th>鄉鎮市區_南港區</th>\n",
       "      <th>鄉鎮市區_士林區</th>\n",
       "      <th>鄉鎮市區_大同區</th>\n",
       "      <th>鄉鎮市區_大安區</th>\n",
       "      <th>鄉鎮市區_文山區</th>\n",
       "      <th>鄉鎮市區_松山區</th>\n",
       "      <th>鄉鎮市區_萬華區</th>\n",
       "      <th>y</th>\n",
       "    </tr>\n",
       "  </thead>\n",
       "  <tbody>\n",
       "    <tr>\n",
       "      <th>0</th>\n",
       "      <td>0.0</td>\n",
       "      <td>2.0</td>\n",
       "      <td>2.0</td>\n",
       "      <td>1.0</td>\n",
       "      <td>1.0</td>\n",
       "      <td>0.0</td>\n",
       "      <td>1.0</td>\n",
       "      <td>0.0</td>\n",
       "      <td>111.0</td>\n",
       "      <td>6.0</td>\n",
       "      <td>...</td>\n",
       "      <td>1.0</td>\n",
       "      <td>0.0</td>\n",
       "      <td>0.0</td>\n",
       "      <td>0.0</td>\n",
       "      <td>0.0</td>\n",
       "      <td>0.0</td>\n",
       "      <td>0.0</td>\n",
       "      <td>0.0</td>\n",
       "      <td>0.0</td>\n",
       "      <td>175767.0</td>\n",
       "    </tr>\n",
       "    <tr>\n",
       "      <th>1</th>\n",
       "      <td>0.0</td>\n",
       "      <td>2.0</td>\n",
       "      <td>1.0</td>\n",
       "      <td>1.0</td>\n",
       "      <td>0.0</td>\n",
       "      <td>0.0</td>\n",
       "      <td>1.0</td>\n",
       "      <td>0.0</td>\n",
       "      <td>111.0</td>\n",
       "      <td>5.0</td>\n",
       "      <td>...</td>\n",
       "      <td>0.0</td>\n",
       "      <td>0.0</td>\n",
       "      <td>0.0</td>\n",
       "      <td>0.0</td>\n",
       "      <td>0.0</td>\n",
       "      <td>0.0</td>\n",
       "      <td>0.0</td>\n",
       "      <td>0.0</td>\n",
       "      <td>1.0</td>\n",
       "      <td>213653.0</td>\n",
       "    </tr>\n",
       "    <tr>\n",
       "      <th>2</th>\n",
       "      <td>0.0</td>\n",
       "      <td>2.0</td>\n",
       "      <td>1.0</td>\n",
       "      <td>1.0</td>\n",
       "      <td>0.0</td>\n",
       "      <td>0.0</td>\n",
       "      <td>1.0</td>\n",
       "      <td>0.0</td>\n",
       "      <td>111.0</td>\n",
       "      <td>5.0</td>\n",
       "      <td>...</td>\n",
       "      <td>0.0</td>\n",
       "      <td>0.0</td>\n",
       "      <td>0.0</td>\n",
       "      <td>0.0</td>\n",
       "      <td>0.0</td>\n",
       "      <td>0.0</td>\n",
       "      <td>0.0</td>\n",
       "      <td>0.0</td>\n",
       "      <td>1.0</td>\n",
       "      <td>213391.0</td>\n",
       "    </tr>\n",
       "    <tr>\n",
       "      <th>3</th>\n",
       "      <td>1.0</td>\n",
       "      <td>3.0</td>\n",
       "      <td>2.0</td>\n",
       "      <td>2.0</td>\n",
       "      <td>1.0</td>\n",
       "      <td>2300000.0</td>\n",
       "      <td>1.0</td>\n",
       "      <td>0.0</td>\n",
       "      <td>111.0</td>\n",
       "      <td>6.0</td>\n",
       "      <td>...</td>\n",
       "      <td>1.0</td>\n",
       "      <td>0.0</td>\n",
       "      <td>0.0</td>\n",
       "      <td>0.0</td>\n",
       "      <td>0.0</td>\n",
       "      <td>0.0</td>\n",
       "      <td>0.0</td>\n",
       "      <td>0.0</td>\n",
       "      <td>0.0</td>\n",
       "      <td>177250.0</td>\n",
       "    </tr>\n",
       "    <tr>\n",
       "      <th>4</th>\n",
       "      <td>1.0</td>\n",
       "      <td>1.0</td>\n",
       "      <td>1.0</td>\n",
       "      <td>1.0</td>\n",
       "      <td>1.0</td>\n",
       "      <td>2300000.0</td>\n",
       "      <td>1.0</td>\n",
       "      <td>0.0</td>\n",
       "      <td>111.0</td>\n",
       "      <td>5.0</td>\n",
       "      <td>...</td>\n",
       "      <td>0.0</td>\n",
       "      <td>0.0</td>\n",
       "      <td>0.0</td>\n",
       "      <td>0.0</td>\n",
       "      <td>0.0</td>\n",
       "      <td>0.0</td>\n",
       "      <td>0.0</td>\n",
       "      <td>0.0</td>\n",
       "      <td>0.0</td>\n",
       "      <td>394850.0</td>\n",
       "    </tr>\n",
       "  </tbody>\n",
       "</table>\n",
       "<p>5 rows × 118 columns</p>\n",
       "</div>"
      ],
      "text/plain": [
       "   交易標的  建物現況格局-房  建物現況格局-廳  建物現況格局-衛  有無管理組織      車位總價元   電梯   屋齡   交易年份  \\\n",
       "0   0.0       2.0       2.0       1.0     1.0        0.0  1.0  0.0  111.0   \n",
       "1   0.0       2.0       1.0       1.0     0.0        0.0  1.0  0.0  111.0   \n",
       "2   0.0       2.0       1.0       1.0     0.0        0.0  1.0  0.0  111.0   \n",
       "3   1.0       3.0       2.0       2.0     1.0  2300000.0  1.0  0.0  111.0   \n",
       "4   1.0       1.0       1.0       1.0     1.0  2300000.0  1.0  0.0  111.0   \n",
       "\n",
       "   floor  ...  鄉鎮市區_內湖區  鄉鎮市區_北投區  鄉鎮市區_南港區  鄉鎮市區_士林區  鄉鎮市區_大同區  鄉鎮市區_大安區  \\\n",
       "0    6.0  ...       1.0       0.0       0.0       0.0       0.0       0.0   \n",
       "1    5.0  ...       0.0       0.0       0.0       0.0       0.0       0.0   \n",
       "2    5.0  ...       0.0       0.0       0.0       0.0       0.0       0.0   \n",
       "3    6.0  ...       1.0       0.0       0.0       0.0       0.0       0.0   \n",
       "4    5.0  ...       0.0       0.0       0.0       0.0       0.0       0.0   \n",
       "\n",
       "   鄉鎮市區_文山區  鄉鎮市區_松山區  鄉鎮市區_萬華區         y  \n",
       "0       0.0       0.0       0.0  175767.0  \n",
       "1       0.0       0.0       1.0  213653.0  \n",
       "2       0.0       0.0       1.0  213391.0  \n",
       "3       0.0       0.0       0.0  177250.0  \n",
       "4       0.0       0.0       0.0  394850.0  \n",
       "\n",
       "[5 rows x 118 columns]"
      ]
     },
     "execution_count": 27,
     "metadata": {},
     "output_type": "execute_result"
    }
   ],
   "source": [
    "data_new.head()"
   ]
  },
  {
   "cell_type": "code",
   "execution_count": 28,
   "id": "2e5c30ea-85b1-4171-82b9-6134f5429400",
   "metadata": {},
   "outputs": [],
   "source": [
    "feature_count = data_new.shape[1]"
   ]
  },
  {
   "cell_type": "code",
   "execution_count": null,
   "id": "f5d86062-7965-4b8b-8ae7-1e71cd957759",
   "metadata": {},
   "outputs": [],
   "source": []
  },
  {
   "cell_type": "code",
   "execution_count": 29,
   "id": "59a38f24-274e-46ee-a6f5-1c30eda472c5",
   "metadata": {},
   "outputs": [],
   "source": [
    "test_data = data.loc[data['交易年份'] == 111]\n",
    "train_data =  data.loc[data['交易年份'] < 111]\n",
    "#train_data = data_new.loc[:59490]\n",
    "#test_data =  data_new.loc[59490:]"
   ]
  },
  {
   "cell_type": "code",
   "execution_count": 30,
   "id": "570b77a8-ec83-43a8-9fdb-44a07084d0b0",
   "metadata": {},
   "outputs": [],
   "source": [
    "mean = train_data.mean()\n",
    "std = train_data.std()\n",
    "train_data = (train_data-mean)/std"
   ]
  },
  {
   "cell_type": "code",
   "execution_count": 31,
   "id": "c1f8875e-c256-42de-ab35-ae1a3bb9a532",
   "metadata": {},
   "outputs": [],
   "source": [
    "X_train = np.array(train_data.drop('y', axis='columns'))\n",
    "y_train = np.array(train_data['y'])"
   ]
  },
  {
   "cell_type": "code",
   "execution_count": null,
   "id": "117038f3-539b-4167-9843-fa902396ebbc",
   "metadata": {},
   "outputs": [],
   "source": []
  },
  {
   "cell_type": "code",
   "execution_count": 32,
   "id": "ac4d7c54-f51d-4fbb-bb93-2392b9890efe",
   "metadata": {},
   "outputs": [],
   "source": [
    "from sklearn.model_selection import train_test_split"
   ]
  },
  {
   "cell_type": "code",
   "execution_count": 33,
   "id": "60c08719-bb8a-4e81-a276-bd73caf6579a",
   "metadata": {},
   "outputs": [],
   "source": [
    "#X_train, X_test, y_train, y_test = train_test_split(X, y, test_size=0.2,random_state=4)"
   ]
  },
  {
   "cell_type": "code",
   "execution_count": 34,
   "id": "33325314-ba31-44d1-ac70-7ceafab29e32",
   "metadata": {},
   "outputs": [],
   "source": [
    "from sklearn.neural_network import MLPRegressor"
   ]
  },
  {
   "cell_type": "code",
   "execution_count": 35,
   "id": "469390a7-fac8-4fa2-9dd1-baa4a21f205a",
   "metadata": {},
   "outputs": [],
   "source": [
    "model_mlp = MLPRegressor(activation='relu', hidden_layer_sizes=(int(data.shape[1]*2/3),int(data.shape[1]*1/3)))\n",
    "model_mlp.fit(X_train, y_train)\n",
    "mlp_score=model_mlp.score(X_train,y_train)"
   ]
  },
  {
   "cell_type": "code",
   "execution_count": 36,
   "id": "f7447cc6-be08-4ff4-abf9-1af722ea7467",
   "metadata": {},
   "outputs": [],
   "source": [
    "test_data = (test_data - mean) / std\n",
    "X_test = np.array(test_data.drop('y', axis='columns'))\n",
    "y_test = np.array(test_data['y'])"
   ]
  },
  {
   "cell_type": "code",
   "execution_count": 37,
   "id": "20b63d48-0012-48c1-86d4-71c46da3343e",
   "metadata": {},
   "outputs": [
    {
     "name": "stdout",
     "output_type": "stream",
     "text": [
      "score: 0.9404836780980378\n"
     ]
    }
   ],
   "source": [
    "print('score:',mlp_score)\n",
    "result = model_mlp.predict(X_test)"
   ]
  },
  {
   "cell_type": "code",
   "execution_count": 38,
   "id": "427accc1-85b0-4def-9234-268e31910a56",
   "metadata": {},
   "outputs": [
    {
     "data": {
      "text/html": [
       "<div>\n",
       "<style scoped>\n",
       "    .dataframe tbody tr th:only-of-type {\n",
       "        vertical-align: middle;\n",
       "    }\n",
       "\n",
       "    .dataframe tbody tr th {\n",
       "        vertical-align: top;\n",
       "    }\n",
       "\n",
       "    .dataframe thead th {\n",
       "        text-align: right;\n",
       "    }\n",
       "</style>\n",
       "<table border=\"1\" class=\"dataframe\">\n",
       "  <thead>\n",
       "    <tr style=\"text-align: right;\">\n",
       "      <th></th>\n",
       "      <th>Actual</th>\n",
       "      <th>Predicted</th>\n",
       "    </tr>\n",
       "  </thead>\n",
       "  <tbody>\n",
       "    <tr>\n",
       "      <th>0</th>\n",
       "      <td>-0.170479</td>\n",
       "      <td>1.168462</td>\n",
       "    </tr>\n",
       "    <tr>\n",
       "      <th>1</th>\n",
       "      <td>0.363731</td>\n",
       "      <td>0.276841</td>\n",
       "    </tr>\n",
       "    <tr>\n",
       "      <th>2</th>\n",
       "      <td>0.360036</td>\n",
       "      <td>0.822503</td>\n",
       "    </tr>\n",
       "    <tr>\n",
       "      <th>3</th>\n",
       "      <td>-0.149568</td>\n",
       "      <td>1.136833</td>\n",
       "    </tr>\n",
       "    <tr>\n",
       "      <th>4</th>\n",
       "      <td>2.918689</td>\n",
       "      <td>0.861408</td>\n",
       "    </tr>\n",
       "    <tr>\n",
       "      <th>5</th>\n",
       "      <td>0.146837</td>\n",
       "      <td>-0.332597</td>\n",
       "    </tr>\n",
       "    <tr>\n",
       "      <th>6</th>\n",
       "      <td>-0.171311</td>\n",
       "      <td>0.410326</td>\n",
       "    </tr>\n",
       "    <tr>\n",
       "      <th>7</th>\n",
       "      <td>-0.181026</td>\n",
       "      <td>0.074755</td>\n",
       "    </tr>\n",
       "    <tr>\n",
       "      <th>8</th>\n",
       "      <td>-0.175668</td>\n",
       "      <td>0.783286</td>\n",
       "    </tr>\n",
       "    <tr>\n",
       "      <th>9</th>\n",
       "      <td>1.741485</td>\n",
       "      <td>2.495851</td>\n",
       "    </tr>\n",
       "  </tbody>\n",
       "</table>\n",
       "</div>"
      ],
      "text/plain": [
       "     Actual  Predicted\n",
       "0 -0.170479   1.168462\n",
       "1  0.363731   0.276841\n",
       "2  0.360036   0.822503\n",
       "3 -0.149568   1.136833\n",
       "4  2.918689   0.861408\n",
       "5  0.146837  -0.332597\n",
       "6 -0.171311   0.410326\n",
       "7 -0.181026   0.074755\n",
       "8 -0.175668   0.783286\n",
       "9  1.741485   2.495851"
      ]
     },
     "execution_count": 38,
     "metadata": {},
     "output_type": "execute_result"
    }
   ],
   "source": [
    "df = pd.DataFrame({'Actual': y_test, 'Predicted': result})\n",
    "df1 = df.head(10)\n",
    "df1"
   ]
  },
  {
   "cell_type": "code",
   "execution_count": 39,
   "id": "faa693e7-e1d1-4efd-9594-7390f9eff281",
   "metadata": {},
   "outputs": [
    {
     "name": "stderr",
     "output_type": "stream",
     "text": [
      "C:\\Users\\tazz4\\anaconda3\\envs\\ox\\lib\\site-packages\\seaborn\\distributions.py:2619: FutureWarning: `distplot` is a deprecated function and will be removed in a future version. Please adapt your code to use either `displot` (a figure-level function with similar flexibility) or `histplot` (an axes-level function for histograms).\n",
      "  warnings.warn(msg, FutureWarning)\n"
     ]
    },
    {
     "data": {
      "text/plain": [
       "<AxesSubplot:ylabel='Density'>"
      ]
     },
     "execution_count": 39,
     "metadata": {},
     "output_type": "execute_result"
    },
    {
     "data": {
      "image/png": "[encoded data removed]",
      "text/plain": [
       "<Figure size 1000x500 with 1 Axes>"
      ]
     },
     "metadata": {},
     "output_type": "display_data"
    }
   ],
   "source": [
    "import matplotlib.pyplot as plt\n",
    "import seaborn as sns\n",
    "fig = plt.figure(figsize=(10,5))\n",
    "residuals = (y_test- result)\n",
    "sns.distplot(residuals)"
   ]
  },
  {
   "cell_type": "code",
   "execution_count": 40,
   "id": "5e533c0c-bcba-4690-a975-c0213561af93",
   "metadata": {},
   "outputs": [
    {
     "data": {
      "text/plain": [
       "[<matplotlib.lines.Line2D at 0x1b8befb2650>]"
      ]
     },
     "execution_count": 40,
     "metadata": {},
     "output_type": "execute_result"
    },
    {
     "data": {
      "image/png": "[encoded data removed]",
      "text/plain": [
       "<Figure size 640x480 with 1 Axes>"
      ]
     },
     "metadata": {},
     "output_type": "display_data"
    }
   ],
   "source": [
    "plt.scatter(y_test, result)\n",
    "plt.plot([0,1],[0,1])"
   ]
  },
  {
   "cell_type": "code",
   "execution_count": 41,
   "id": "15340eae-0344-4775-9fde-f03f0216950f",
   "metadata": {},
   "outputs": [
    {
     "name": "stdout",
     "output_type": "stream",
     "text": [
      "        origin        predict       residual   residual_abs  y10  y20  y30\n",
      "0     175767.0  270724.385775  -94957.385775   94957.385775  0.0  0.0  0.0\n",
      "1     213653.0  207490.783880    6162.216120    6162.216120  1.0  1.0  1.0\n",
      "2     213391.0  246189.004190  -32798.004190   32798.004190  0.0  1.0  1.0\n",
      "3     177250.0  268481.243281  -91231.243281   91231.243281  0.0  0.0  0.0\n",
      "4     394850.0  248948.173474  145901.826526  145901.826526  0.0  0.0  0.0\n",
      "...        ...            ...            ...            ...  ...  ...  ...\n",
      "1628  192723.0  162013.854823   30709.145177   30709.145177  0.0  1.0  1.0\n",
      "1629  447917.0  171737.319723  276179.680277  276179.680277  0.0  0.0  0.0\n",
      "1630  210186.0  202404.810235    7781.189765    7781.189765  1.0  1.0  1.0\n",
      "1631  160742.0  252912.991414  -92170.991414   92170.991414  0.0  0.0  0.0\n",
      "1632  353659.0  601943.405256 -248284.405256  248284.405256  0.0  0.0  0.0\n",
      "\n",
      "[1633 rows x 7 columns]\n",
      "預測房價落在實際房價+-10%內的機率為:0.48805878750765463\n",
      "預測房價落在實際房價+-20%內的機率為:0.7587262706674831\n",
      "預測房價落在實際房價+-30%內的機率為:0.8958971218616044\n",
      "Model Percentage Error: 13.95%\n"
     ]
    }
   ],
   "source": [
    "data1 = pd.DataFrame({'origin':y_test * std['y'] + mean['y'],'predict':result* std['y'] + mean['y'],\n",
    "                     'residual':(y_test * std['y'] + mean['y']) - (result* std['y'] + mean['y'])})\n",
    "percentage_error = np.mean(np.abs(data1['origin'] - data1['predict'])) / np.mean(data1['origin']) * 100\n",
    "data1['residual_abs'] = data1['residual'].abs()\n",
    "data1['y10'] = data1['origin'] / 10 - data1['residual_abs']\n",
    "data1['y20'] = data1['origin'] / 5 - data1['residual_abs']\n",
    "data1['y30'] = data1['origin'] / 3.333 - data1['residual_abs']\n",
    "data1.loc[data1['y10'] >= 0, 'y10'] = 1\n",
    "data1.loc[data1['y10'] < 0 , 'y10'] = 0\n",
    "data1.loc[data1['y20'] >= 0, 'y20'] = 1\n",
    "data1.loc[data1['y20'] < 0 , 'y20'] = 0\n",
    "data1.loc[data1['y30'] >= 0, 'y30'] = 1\n",
    "data1.loc[data1['y30'] < 0 , 'y30'] = 0\n",
    "print(data1)\n",
    "print(f'預測房價落在實際房價+-10%內的機率為:{data1[\"y10\"].mean()}')\n",
    "print(f'預測房價落在實際房價+-20%內的機率為:{data1[\"y20\"].mean()}')\n",
    "print(f'預測房價落在實際房價+-30%內的機率為:{data1[\"y30\"].mean()}')\n",
    "print(\"Model Percentage Error: {:.2f}%\".format(percentage_error))"
   ]
  },
  {
   "cell_type": "code",
   "execution_count": 42,
   "id": "896bd628-ced0-49ba-a985-1b0ffbed8706",
   "metadata": {},
   "outputs": [
    {
     "data": {
      "text/html": [
       "<div>\n",
       "<style scoped>\n",
       "    .dataframe tbody tr th:only-of-type {\n",
       "        vertical-align: middle;\n",
       "    }\n",
       "\n",
       "    .dataframe tbody tr th {\n",
       "        vertical-align: top;\n",
       "    }\n",
       "\n",
       "    .dataframe thead th {\n",
       "        text-align: right;\n",
       "    }\n",
       "</style>\n",
       "<table border=\"1\" class=\"dataframe\">\n",
       "  <thead>\n",
       "    <tr style=\"text-align: right;\">\n",
       "      <th></th>\n",
       "      <th>origin</th>\n",
       "      <th>predict</th>\n",
       "      <th>residual</th>\n",
       "      <th>residual_abs</th>\n",
       "      <th>y10</th>\n",
       "      <th>y20</th>\n",
       "      <th>y30</th>\n",
       "    </tr>\n",
       "  </thead>\n",
       "  <tbody>\n",
       "    <tr>\n",
       "      <th>origin</th>\n",
       "      <td>1.000000</td>\n",
       "      <td>0.851357</td>\n",
       "      <td>0.175804</td>\n",
       "      <td>0.308326</td>\n",
       "      <td>0.010732</td>\n",
       "      <td>0.085450</td>\n",
       "      <td>0.091225</td>\n",
       "    </tr>\n",
       "    <tr>\n",
       "      <th>predict</th>\n",
       "      <td>0.851357</td>\n",
       "      <td>1.000000</td>\n",
       "      <td>-0.366745</td>\n",
       "      <td>0.395192</td>\n",
       "      <td>-0.072438</td>\n",
       "      <td>-0.054649</td>\n",
       "      <td>-0.063781</td>\n",
       "    </tr>\n",
       "    <tr>\n",
       "      <th>residual</th>\n",
       "      <td>0.175804</td>\n",
       "      <td>-0.366745</td>\n",
       "      <td>1.000000</td>\n",
       "      <td>-0.194811</td>\n",
       "      <td>0.154969</td>\n",
       "      <td>0.254092</td>\n",
       "      <td>0.281471</td>\n",
       "    </tr>\n",
       "    <tr>\n",
       "      <th>residual_abs</th>\n",
       "      <td>0.308326</td>\n",
       "      <td>0.395192</td>\n",
       "      <td>-0.194811</td>\n",
       "      <td>1.000000</td>\n",
       "      <td>-0.610087</td>\n",
       "      <td>-0.667962</td>\n",
       "      <td>-0.641806</td>\n",
       "    </tr>\n",
       "    <tr>\n",
       "      <th>y10</th>\n",
       "      <td>0.010732</td>\n",
       "      <td>-0.072438</td>\n",
       "      <td>0.154969</td>\n",
       "      <td>-0.610087</td>\n",
       "      <td>1.000000</td>\n",
       "      <td>0.550603</td>\n",
       "      <td>0.332834</td>\n",
       "    </tr>\n",
       "    <tr>\n",
       "      <th>y20</th>\n",
       "      <td>0.085450</td>\n",
       "      <td>-0.054649</td>\n",
       "      <td>0.254092</td>\n",
       "      <td>-0.667962</td>\n",
       "      <td>0.550603</td>\n",
       "      <td>1.000000</td>\n",
       "      <td>0.604491</td>\n",
       "    </tr>\n",
       "    <tr>\n",
       "      <th>y30</th>\n",
       "      <td>0.091225</td>\n",
       "      <td>-0.063781</td>\n",
       "      <td>0.281471</td>\n",
       "      <td>-0.641806</td>\n",
       "      <td>0.332834</td>\n",
       "      <td>0.604491</td>\n",
       "      <td>1.000000</td>\n",
       "    </tr>\n",
       "  </tbody>\n",
       "</table>\n",
       "</div>"
      ],
      "text/plain": [
       "                origin   predict  residual  residual_abs       y10       y20  \\\n",
       "origin        1.000000  0.851357  0.175804      0.308326  0.010732  0.085450   \n",
       "predict       0.851357  1.000000 -0.366745      0.395192 -0.072438 -0.054649   \n",
       "residual      0.175804 -0.366745  1.000000     -0.194811  0.154969  0.254092   \n",
       "residual_abs  0.308326  0.395192 -0.194811      1.000000 -0.610087 -0.667962   \n",
       "y10           0.010732 -0.072438  0.154969     -0.610087  1.000000  0.550603   \n",
       "y20           0.085450 -0.054649  0.254092     -0.667962  0.550603  1.000000   \n",
       "y30           0.091225 -0.063781  0.281471     -0.641806  0.332834  0.604491   \n",
       "\n",
       "                   y30  \n",
       "origin        0.091225  \n",
       "predict      -0.063781  \n",
       "residual      0.281471  \n",
       "residual_abs -0.641806  \n",
       "y10           0.332834  \n",
       "y20           0.604491  \n",
       "y30           1.000000  "
      ]
     },
     "execution_count": 42,
     "metadata": {},
     "output_type": "execute_result"
    }
   ],
   "source": [
    "data1.corr()"
   ]
  },
  {
   "cell_type": "code",
   "execution_count": 43,
   "id": "f024d162-1b92-4cc7-9799-29871215eee1",
   "metadata": {},
   "outputs": [
    {
     "name": "stdout",
     "output_type": "stream",
     "text": [
      "mean_absolute_error: 0.44968365338637206\n",
      "mean_absolute_percentage_error: 2.227529687236951\n",
      "mean_squared_error: 0.42477806499569326\n",
      "explained_variance_score: 0.6820420926203883\n",
      "r2_score: 0.6759954742643615\n",
      "r2_adj_score: 0.9749613411419619\n"
     ]
    }
   ],
   "source": [
    "from sklearn.metrics import explained_variance_score, mean_absolute_error, mean_squared_error, r2_score, mean_absolute_percentage_error\n",
    "print(f\"mean_absolute_error: {mean_absolute_error(y_test, result)}\")\n",
    "print(f\"mean_absolute_percentage_error: {mean_absolute_percentage_error(y_test, result)}\")\n",
    "print(f\"mean_squared_error: {mean_squared_error(y_test, result)}\")\n",
    "print(f\"explained_variance_score: {explained_variance_score(y_test, result)}\")\n",
    "print(f\"r2_score: {r2_score(y_test, result)}\")\n",
    "print(f\"r2_adj_score: {1 - (1 - r2_score(y_test, result)) * (feature_count - 1) / (df.shape[0] - feature_count - 1)}\")"
   ]
  },
  {
   "cell_type": "code",
   "execution_count": null,
   "id": "920ac2ec-3145-4166-9d1c-5855c47532b2",
   "metadata": {},
   "outputs": [],
   "source": []
  }
 ],
 "metadata": {
  "kernelspec": {
   "display_name": "Python 3 (ipykernel)",
   "language": "python",
   "name": "python3"
  },
  "language_info": {
   "codemirror_mode": {
    "name": "ipython",
    "version": 3
   },
   "file_extension": ".py",
   "mimetype": "text/x-python",
   "name": "python",
   "nbconvert_exporter": "python",
   "pygments_lexer": "ipython3",
   "version": "3.10.5"
  }
 },
 "nbformat": 4,
 "nbformat_minor": 5
}
