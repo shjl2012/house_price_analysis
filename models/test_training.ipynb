{
 "cells": [
  {
   "cell_type": "code",
   "execution_count": 1,
   "id": "64644cc3-0e8a-464a-92d1-f1dc0665eb0d",
   "metadata": {},
   "outputs": [],
   "source": [
    "import pandas as pd"
   ]
  },
  {
   "cell_type": "code",
   "execution_count": 2,
   "id": "425da3ed-78c3-4a0e-8e44-90e35d637760",
   "metadata": {},
   "outputs": [],
   "source": [
    "data=pd.read_csv(f'../dataset/TPE_model_features.csv')"
   ]
  },
  {
   "cell_type": "code",
   "execution_count": 3,
   "id": "e6c56901-cb90-4713-8167-27e512effdc0",
   "metadata": {},
   "outputs": [
    {
     "name": "stdout",
     "output_type": "stream",
     "text": [
      "93\n"
     ]
    }
   ],
   "source": [
    "data_class = pd.get_dummies(data['鄉鎮市區'])\n",
    "#data = data.loc[data['鄉鎮市區'] == '士林區']\n",
    "data_class.columns = ['鄉鎮市區_' + str(x) for x in data_class.columns]\n",
    "data = pd.concat([data, data_class], axis = 1)\n",
    "print(data.shape[1])"
   ]
  },
  {
   "cell_type": "code",
   "execution_count": 4,
   "id": "d88900db-91a1-4d2d-81d3-ac0b29e4280c",
   "metadata": {},
   "outputs": [],
   "source": [
    "#data.insert(105, 'y', data['單價元平方公尺'])\n",
    "data.insert(data.shape[1], 'y', data['單價元平方公尺'])\n",
    "data.drop(['單價元平方公尺'],axis=1,inplace=True)\n",
    "data.drop(['Unnamed: 0'],axis=1,inplace=True)\n",
    "data.drop(['Unnamed: 0.1'],axis=1,inplace=True)\n",
    "data.drop(['鄉鎮市區'],axis=1,inplace=True)\n",
    "data.drop(['建物型態'],axis=1,inplace=True)\n",
    "data.drop(['車位類別'],axis=1,inplace=True)\n",
    "data.drop(['geometry'],axis=1,inplace=True)"
   ]
  },
  {
   "cell_type": "code",
   "execution_count": 5,
   "id": "6f27f78b-fab9-4cf6-b447-c0a1f002f3fd",
   "metadata": {},
   "outputs": [],
   "source": [
    "data = data.loc[:, data.std() > 0]\n",
    "data = data.dropna()"
   ]
  },
  {
   "cell_type": "code",
   "execution_count": 6,
   "id": "71c2163a-2a8d-453f-9805-efa386dab553",
   "metadata": {},
   "outputs": [
    {
     "data": {
      "text/html": [
       "<div>\n",
       "<style scoped>\n",
       "    .dataframe tbody tr th:only-of-type {\n",
       "        vertical-align: middle;\n",
       "    }\n",
       "\n",
       "    .dataframe tbody tr th {\n",
       "        vertical-align: top;\n",
       "    }\n",
       "\n",
       "    .dataframe thead th {\n",
       "        text-align: right;\n",
       "    }\n",
       "</style>\n",
       "<table border=\"1\" class=\"dataframe\">\n",
       "  <thead>\n",
       "    <tr style=\"text-align: right;\">\n",
       "      <th></th>\n",
       "      <th>交易年份</th>\n",
       "      <th>屋齡</th>\n",
       "      <th>交易標的</th>\n",
       "      <th>建物現況格局-房</th>\n",
       "      <th>建物現況格局-廳</th>\n",
       "      <th>建物現況格局-衛</th>\n",
       "      <th>電梯</th>\n",
       "      <th>floor</th>\n",
       "      <th>車位類別-坡道平面</th>\n",
       "      <th>車位類別-坡道機械</th>\n",
       "      <th>...</th>\n",
       "      <th>PARKING_AREA_250</th>\n",
       "      <th>PARKING_AREA_500</th>\n",
       "      <th>PARKING_AREA_750</th>\n",
       "      <th>STOP_COUNT_250</th>\n",
       "      <th>STOP_COUNT_500</th>\n",
       "      <th>STOP_COUNT_750</th>\n",
       "      <th>NEAR_MRT_250</th>\n",
       "      <th>NEAR_MRT_500</th>\n",
       "      <th>NEAR_MRT_750</th>\n",
       "      <th>y</th>\n",
       "    </tr>\n",
       "  </thead>\n",
       "  <tbody>\n",
       "    <tr>\n",
       "      <th>23</th>\n",
       "      <td>108</td>\n",
       "      <td>43.0</td>\n",
       "      <td>0</td>\n",
       "      <td>4</td>\n",
       "      <td>2</td>\n",
       "      <td>2</td>\n",
       "      <td>0</td>\n",
       "      <td>4</td>\n",
       "      <td>0.0</td>\n",
       "      <td>0.0</td>\n",
       "      <td>...</td>\n",
       "      <td>0.000000</td>\n",
       "      <td>0.000000</td>\n",
       "      <td>0.000000</td>\n",
       "      <td>13.0</td>\n",
       "      <td>17.0</td>\n",
       "      <td>25.0</td>\n",
       "      <td>0</td>\n",
       "      <td>0</td>\n",
       "      <td>0</td>\n",
       "      <td>100078</td>\n",
       "    </tr>\n",
       "    <tr>\n",
       "      <th>24</th>\n",
       "      <td>108</td>\n",
       "      <td>34.0</td>\n",
       "      <td>0</td>\n",
       "      <td>4</td>\n",
       "      <td>2</td>\n",
       "      <td>2</td>\n",
       "      <td>1</td>\n",
       "      <td>6</td>\n",
       "      <td>0.0</td>\n",
       "      <td>0.0</td>\n",
       "      <td>...</td>\n",
       "      <td>816.089690</td>\n",
       "      <td>3922.227574</td>\n",
       "      <td>20099.693731</td>\n",
       "      <td>10.0</td>\n",
       "      <td>23.0</td>\n",
       "      <td>50.0</td>\n",
       "      <td>0</td>\n",
       "      <td>0</td>\n",
       "      <td>0</td>\n",
       "      <td>143939</td>\n",
       "    </tr>\n",
       "    <tr>\n",
       "      <th>25</th>\n",
       "      <td>107</td>\n",
       "      <td>13.0</td>\n",
       "      <td>1</td>\n",
       "      <td>5</td>\n",
       "      <td>2</td>\n",
       "      <td>3</td>\n",
       "      <td>1</td>\n",
       "      <td>9</td>\n",
       "      <td>0.0</td>\n",
       "      <td>1.0</td>\n",
       "      <td>...</td>\n",
       "      <td>2236.179622</td>\n",
       "      <td>15026.427024</td>\n",
       "      <td>30117.849780</td>\n",
       "      <td>5.0</td>\n",
       "      <td>32.0</td>\n",
       "      <td>46.0</td>\n",
       "      <td>0</td>\n",
       "      <td>1</td>\n",
       "      <td>1</td>\n",
       "      <td>289600</td>\n",
       "    </tr>\n",
       "    <tr>\n",
       "      <th>26</th>\n",
       "      <td>107</td>\n",
       "      <td>10.0</td>\n",
       "      <td>0</td>\n",
       "      <td>1</td>\n",
       "      <td>1</td>\n",
       "      <td>1</td>\n",
       "      <td>1</td>\n",
       "      <td>4</td>\n",
       "      <td>0.0</td>\n",
       "      <td>0.0</td>\n",
       "      <td>...</td>\n",
       "      <td>5278.512991</td>\n",
       "      <td>13429.280786</td>\n",
       "      <td>38657.412524</td>\n",
       "      <td>6.0</td>\n",
       "      <td>17.0</td>\n",
       "      <td>32.0</td>\n",
       "      <td>1</td>\n",
       "      <td>1</td>\n",
       "      <td>1</td>\n",
       "      <td>252911</td>\n",
       "    </tr>\n",
       "    <tr>\n",
       "      <th>27</th>\n",
       "      <td>108</td>\n",
       "      <td>2.0</td>\n",
       "      <td>1</td>\n",
       "      <td>2</td>\n",
       "      <td>2</td>\n",
       "      <td>2</td>\n",
       "      <td>1</td>\n",
       "      <td>5</td>\n",
       "      <td>0.0</td>\n",
       "      <td>0.0</td>\n",
       "      <td>...</td>\n",
       "      <td>1892.315417</td>\n",
       "      <td>13684.755547</td>\n",
       "      <td>27492.668933</td>\n",
       "      <td>9.0</td>\n",
       "      <td>26.0</td>\n",
       "      <td>49.0</td>\n",
       "      <td>0</td>\n",
       "      <td>0</td>\n",
       "      <td>0</td>\n",
       "      <td>269596</td>\n",
       "    </tr>\n",
       "  </tbody>\n",
       "</table>\n",
       "<p>5 rows × 81 columns</p>\n",
       "</div>"
      ],
      "text/plain": [
       "    交易年份    屋齡  交易標的  建物現況格局-房  建物現況格局-廳  建物現況格局-衛  電梯  floor  車位類別-坡道平面  \\\n",
       "23   108  43.0     0         4         2         2   0      4        0.0   \n",
       "24   108  34.0     0         4         2         2   1      6        0.0   \n",
       "25   107  13.0     1         5         2         3   1      9        0.0   \n",
       "26   107  10.0     0         1         1         1   1      4        0.0   \n",
       "27   108   2.0     1         2         2         2   1      5        0.0   \n",
       "\n",
       "    車位類別-坡道機械  ...  PARKING_AREA_250  PARKING_AREA_500  PARKING_AREA_750  \\\n",
       "23        0.0  ...          0.000000          0.000000          0.000000   \n",
       "24        0.0  ...        816.089690       3922.227574      20099.693731   \n",
       "25        1.0  ...       2236.179622      15026.427024      30117.849780   \n",
       "26        0.0  ...       5278.512991      13429.280786      38657.412524   \n",
       "27        0.0  ...       1892.315417      13684.755547      27492.668933   \n",
       "\n",
       "    STOP_COUNT_250  STOP_COUNT_500  STOP_COUNT_750  NEAR_MRT_250  \\\n",
       "23            13.0            17.0            25.0             0   \n",
       "24            10.0            23.0            50.0             0   \n",
       "25             5.0            32.0            46.0             0   \n",
       "26             6.0            17.0            32.0             1   \n",
       "27             9.0            26.0            49.0             0   \n",
       "\n",
       "    NEAR_MRT_500  NEAR_MRT_750       y  \n",
       "23             0             0  100078  \n",
       "24             0             0  143939  \n",
       "25             1             1  289600  \n",
       "26             1             1  252911  \n",
       "27             0             0  269596  \n",
       "\n",
       "[5 rows x 81 columns]"
      ]
     },
     "execution_count": 6,
     "metadata": {},
     "output_type": "execute_result"
    }
   ],
   "source": [
    "data.head()"
   ]
  },
  {
   "cell_type": "code",
   "execution_count": 7,
   "id": "e1c992ca-2254-4743-9b93-b5a0eb927308",
   "metadata": {},
   "outputs": [
    {
     "name": "stdout",
     "output_type": "stream",
     "text": [
      "81\n"
     ]
    }
   ],
   "source": [
    "feature_count = data.shape[1]\n",
    "print(feature_count)"
   ]
  },
  {
   "cell_type": "code",
   "execution_count": 8,
   "id": "1cd54fa7-bedb-460e-8284-04cea8e49397",
   "metadata": {},
   "outputs": [],
   "source": [
    "from sklearn.preprocessing import StandardScaler"
   ]
  },
  {
   "cell_type": "code",
   "execution_count": 9,
   "id": "31fe51f4-40c4-452f-8e3a-a682ad7c5ca0",
   "metadata": {},
   "outputs": [
    {
     "data": {
      "text/html": [
       "<style>#sk-container-id-1 {color: black;background-color: white;}#sk-container-id-1 pre{padding: 0;}#sk-container-id-1 div.sk-toggleable {background-color: white;}#sk-container-id-1 label.sk-toggleable__label {cursor: pointer;display: block;width: 100%;margin-bottom: 0;padding: 0.3em;box-sizing: border-box;text-align: center;}#sk-container-id-1 label.sk-toggleable__label-arrow:before {content: \"▸\";float: left;margin-right: 0.25em;color: #696969;}#sk-container-id-1 label.sk-toggleable__label-arrow:hover:before {color: black;}#sk-container-id-1 div.sk-estimator:hover label.sk-toggleable__label-arrow:before {color: black;}#sk-container-id-1 div.sk-toggleable__content {max-height: 0;max-width: 0;overflow: hidden;text-align: left;background-color: #f0f8ff;}#sk-container-id-1 div.sk-toggleable__content pre {margin: 0.2em;color: black;border-radius: 0.25em;background-color: #f0f8ff;}#sk-container-id-1 input.sk-toggleable__control:checked~div.sk-toggleable__content {max-height: 200px;max-width: 100%;overflow: auto;}#sk-container-id-1 input.sk-toggleable__control:checked~label.sk-toggleable__label-arrow:before {content: \"▾\";}#sk-container-id-1 div.sk-estimator input.sk-toggleable__control:checked~label.sk-toggleable__label {background-color: #d4ebff;}#sk-container-id-1 div.sk-label input.sk-toggleable__control:checked~label.sk-toggleable__label {background-color: #d4ebff;}#sk-container-id-1 input.sk-hidden--visually {border: 0;clip: rect(1px 1px 1px 1px);clip: rect(1px, 1px, 1px, 1px);height: 1px;margin: -1px;overflow: hidden;padding: 0;position: absolute;width: 1px;}#sk-container-id-1 div.sk-estimator {font-family: monospace;background-color: #f0f8ff;border: 1px dotted black;border-radius: 0.25em;box-sizing: border-box;margin-bottom: 0.5em;}#sk-container-id-1 div.sk-estimator:hover {background-color: #d4ebff;}#sk-container-id-1 div.sk-parallel-item::after {content: \"\";width: 100%;border-bottom: 1px solid gray;flex-grow: 1;}#sk-container-id-1 div.sk-label:hover label.sk-toggleable__label {background-color: #d4ebff;}#sk-container-id-1 div.sk-serial::before {content: \"\";position: absolute;border-left: 1px solid gray;box-sizing: border-box;top: 0;bottom: 0;left: 50%;z-index: 0;}#sk-container-id-1 div.sk-serial {display: flex;flex-direction: column;align-items: center;background-color: white;padding-right: 0.2em;padding-left: 0.2em;position: relative;}#sk-container-id-1 div.sk-item {position: relative;z-index: 1;}#sk-container-id-1 div.sk-parallel {display: flex;align-items: stretch;justify-content: center;background-color: white;position: relative;}#sk-container-id-1 div.sk-item::before, #sk-container-id-1 div.sk-parallel-item::before {content: \"\";position: absolute;border-left: 1px solid gray;box-sizing: border-box;top: 0;bottom: 0;left: 50%;z-index: -1;}#sk-container-id-1 div.sk-parallel-item {display: flex;flex-direction: column;z-index: 1;position: relative;background-color: white;}#sk-container-id-1 div.sk-parallel-item:first-child::after {align-self: flex-end;width: 50%;}#sk-container-id-1 div.sk-parallel-item:last-child::after {align-self: flex-start;width: 50%;}#sk-container-id-1 div.sk-parallel-item:only-child::after {width: 0;}#sk-container-id-1 div.sk-dashed-wrapped {border: 1px dashed gray;margin: 0 0.4em 0.5em 0.4em;box-sizing: border-box;padding-bottom: 0.4em;background-color: white;}#sk-container-id-1 div.sk-label label {font-family: monospace;font-weight: bold;display: inline-block;line-height: 1.2em;}#sk-container-id-1 div.sk-label-container {text-align: center;}#sk-container-id-1 div.sk-container {/* jupyter's `normalize.less` sets `[hidden] { display: none; }` but bootstrap.min.css set `[hidden] { display: none !important; }` so we also need the `!important` here to be able to override the default hidden behavior on the sphinx rendered scikit-learn.org. See: https://github.com/scikit-learn/scikit-learn/issues/21755 */display: inline-block !important;position: relative;}#sk-container-id-1 div.sk-text-repr-fallback {display: none;}</style><div id=\"sk-container-id-1\" class=\"sk-top-container\"><div class=\"sk-text-repr-fallback\"><pre>StandardScaler()</pre><b>In a Jupyter environment, please rerun this cell to show the HTML representation or trust the notebook. <br />On GitHub, the HTML representation is unable to render, please try loading this page with nbviewer.org.</b></div><div class=\"sk-container\" hidden><div class=\"sk-item\"><div class=\"sk-estimator sk-toggleable\"><input class=\"sk-toggleable__control sk-hidden--visually\" id=\"sk-estimator-id-1\" type=\"checkbox\" checked><label for=\"sk-estimator-id-1\" class=\"sk-toggleable__label sk-toggleable__label-arrow\">StandardScaler</label><div class=\"sk-toggleable__content\"><pre>StandardScaler()</pre></div></div></div></div></div>"
      ],
      "text/plain": [
       "StandardScaler()"
      ]
     },
     "execution_count": 9,
     "metadata": {},
     "output_type": "execute_result"
    }
   ],
   "source": [
    "scaler = StandardScaler()\n",
    "scaler.fit(data)"
   ]
  },
  {
   "cell_type": "code",
   "execution_count": 10,
   "id": "b735bfb7-e41a-42db-9ea4-24b48da490de",
   "metadata": {},
   "outputs": [
    {
     "data": {
      "text/html": [
       "<div>\n",
       "<style scoped>\n",
       "    .dataframe tbody tr th:only-of-type {\n",
       "        vertical-align: middle;\n",
       "    }\n",
       "\n",
       "    .dataframe tbody tr th {\n",
       "        vertical-align: top;\n",
       "    }\n",
       "\n",
       "    .dataframe thead th {\n",
       "        text-align: right;\n",
       "    }\n",
       "</style>\n",
       "<table border=\"1\" class=\"dataframe\">\n",
       "  <thead>\n",
       "    <tr style=\"text-align: right;\">\n",
       "      <th></th>\n",
       "      <th>0</th>\n",
       "      <th>1</th>\n",
       "      <th>2</th>\n",
       "      <th>3</th>\n",
       "      <th>4</th>\n",
       "      <th>5</th>\n",
       "      <th>6</th>\n",
       "      <th>7</th>\n",
       "      <th>8</th>\n",
       "      <th>9</th>\n",
       "      <th>...</th>\n",
       "      <th>71</th>\n",
       "      <th>72</th>\n",
       "      <th>73</th>\n",
       "      <th>74</th>\n",
       "      <th>75</th>\n",
       "      <th>76</th>\n",
       "      <th>77</th>\n",
       "      <th>78</th>\n",
       "      <th>79</th>\n",
       "      <th>80</th>\n",
       "    </tr>\n",
       "  </thead>\n",
       "  <tbody>\n",
       "    <tr>\n",
       "      <th>count</th>\n",
       "      <td>4.182000e+03</td>\n",
       "      <td>4.182000e+03</td>\n",
       "      <td>4.182000e+03</td>\n",
       "      <td>4.182000e+03</td>\n",
       "      <td>4.182000e+03</td>\n",
       "      <td>4.182000e+03</td>\n",
       "      <td>4.182000e+03</td>\n",
       "      <td>4.182000e+03</td>\n",
       "      <td>4.182000e+03</td>\n",
       "      <td>4.182000e+03</td>\n",
       "      <td>...</td>\n",
       "      <td>4.182000e+03</td>\n",
       "      <td>4.182000e+03</td>\n",
       "      <td>4.182000e+03</td>\n",
       "      <td>4.182000e+03</td>\n",
       "      <td>4.182000e+03</td>\n",
       "      <td>4.182000e+03</td>\n",
       "      <td>4.182000e+03</td>\n",
       "      <td>4.182000e+03</td>\n",
       "      <td>4.182000e+03</td>\n",
       "      <td>4.182000e+03</td>\n",
       "    </tr>\n",
       "    <tr>\n",
       "      <th>mean</th>\n",
       "      <td>2.969940e-15</td>\n",
       "      <td>8.665155e-17</td>\n",
       "      <td>-4.077720e-17</td>\n",
       "      <td>-9.854490e-17</td>\n",
       "      <td>-1.478174e-16</td>\n",
       "      <td>3.398100e-17</td>\n",
       "      <td>1.422954e-17</td>\n",
       "      <td>5.946675e-17</td>\n",
       "      <td>5.606865e-17</td>\n",
       "      <td>4.587435e-17</td>\n",
       "      <td>...</td>\n",
       "      <td>-4.757340e-17</td>\n",
       "      <td>-9.174870e-17</td>\n",
       "      <td>6.796200e-17</td>\n",
       "      <td>6.286485e-17</td>\n",
       "      <td>2.412651e-16</td>\n",
       "      <td>2.769452e-16</td>\n",
       "      <td>3.398100e-18</td>\n",
       "      <td>-2.718480e-17</td>\n",
       "      <td>4.884769e-17</td>\n",
       "      <td>-2.378670e-17</td>\n",
       "    </tr>\n",
       "    <tr>\n",
       "      <th>std</th>\n",
       "      <td>1.000120e+00</td>\n",
       "      <td>1.000120e+00</td>\n",
       "      <td>1.000120e+00</td>\n",
       "      <td>1.000120e+00</td>\n",
       "      <td>1.000120e+00</td>\n",
       "      <td>1.000120e+00</td>\n",
       "      <td>1.000120e+00</td>\n",
       "      <td>1.000120e+00</td>\n",
       "      <td>1.000120e+00</td>\n",
       "      <td>1.000120e+00</td>\n",
       "      <td>...</td>\n",
       "      <td>1.000120e+00</td>\n",
       "      <td>1.000120e+00</td>\n",
       "      <td>1.000120e+00</td>\n",
       "      <td>1.000120e+00</td>\n",
       "      <td>1.000120e+00</td>\n",
       "      <td>1.000120e+00</td>\n",
       "      <td>1.000120e+00</td>\n",
       "      <td>1.000120e+00</td>\n",
       "      <td>1.000120e+00</td>\n",
       "      <td>1.000120e+00</td>\n",
       "    </tr>\n",
       "    <tr>\n",
       "      <th>min</th>\n",
       "      <td>-5.642633e+00</td>\n",
       "      <td>-1.939087e+00</td>\n",
       "      <td>-6.236244e-01</td>\n",
       "      <td>-2.039424e+00</td>\n",
       "      <td>-2.402665e+00</td>\n",
       "      <td>-1.814639e+00</td>\n",
       "      <td>-9.871698e-01</td>\n",
       "      <td>-9.979569e-01</td>\n",
       "      <td>-4.919911e-01</td>\n",
       "      <td>-1.524613e-01</td>\n",
       "      <td>...</td>\n",
       "      <td>-7.867808e-01</td>\n",
       "      <td>-1.301823e+00</td>\n",
       "      <td>-1.527138e+00</td>\n",
       "      <td>-2.020971e+00</td>\n",
       "      <td>-3.415452e+00</td>\n",
       "      <td>-2.976890e+00</td>\n",
       "      <td>-2.974821e-01</td>\n",
       "      <td>-5.065674e-01</td>\n",
       "      <td>-7.250659e-01</td>\n",
       "      <td>-1.682467e+00</td>\n",
       "    </tr>\n",
       "    <tr>\n",
       "      <th>25%</th>\n",
       "      <td>-9.796501e-01</td>\n",
       "      <td>-8.149169e-01</td>\n",
       "      <td>-6.236244e-01</td>\n",
       "      <td>-5.689290e-01</td>\n",
       "      <td>3.822422e-01</td>\n",
       "      <td>-7.720755e-01</td>\n",
       "      <td>-9.871698e-01</td>\n",
       "      <td>-7.111609e-01</td>\n",
       "      <td>-4.919911e-01</td>\n",
       "      <td>-1.524613e-01</td>\n",
       "      <td>...</td>\n",
       "      <td>-7.072765e-01</td>\n",
       "      <td>-7.446682e-01</td>\n",
       "      <td>-5.971244e-01</td>\n",
       "      <td>-5.230401e-01</td>\n",
       "      <td>-8.590698e-01</td>\n",
       "      <td>-8.190295e-01</td>\n",
       "      <td>-2.974821e-01</td>\n",
       "      <td>-5.065674e-01</td>\n",
       "      <td>-7.250659e-01</td>\n",
       "      <td>-5.493356e-01</td>\n",
       "    </tr>\n",
       "    <tr>\n",
       "      <th>50%</th>\n",
       "      <td>-4.705353e-02</td>\n",
       "      <td>3.092527e-01</td>\n",
       "      <td>-6.236244e-01</td>\n",
       "      <td>1.663185e-01</td>\n",
       "      <td>3.822422e-01</td>\n",
       "      <td>2.704882e-01</td>\n",
       "      <td>-9.871698e-01</td>\n",
       "      <td>-1.375688e-01</td>\n",
       "      <td>-4.919911e-01</td>\n",
       "      <td>-1.524613e-01</td>\n",
       "      <td>...</td>\n",
       "      <td>-3.058418e-01</td>\n",
       "      <td>-1.329751e-01</td>\n",
       "      <td>-2.004738e-01</td>\n",
       "      <td>3.868402e-02</td>\n",
       "      <td>-1.286749e-01</td>\n",
       "      <td>2.129907e-01</td>\n",
       "      <td>-2.974821e-01</td>\n",
       "      <td>-5.065674e-01</td>\n",
       "      <td>-7.250659e-01</td>\n",
       "      <td>-2.032341e-01</td>\n",
       "    </tr>\n",
       "    <tr>\n",
       "      <th>75%</th>\n",
       "      <td>8.855430e-01</td>\n",
       "      <td>6.839759e-01</td>\n",
       "      <td>1.603529e+00</td>\n",
       "      <td>1.663185e-01</td>\n",
       "      <td>3.822422e-01</td>\n",
       "      <td>2.704882e-01</td>\n",
       "      <td>1.012997e+00</td>\n",
       "      <td>1.492272e-01</td>\n",
       "      <td>-4.919911e-01</td>\n",
       "      <td>-1.524613e-01</td>\n",
       "      <td>...</td>\n",
       "      <td>3.736569e-01</td>\n",
       "      <td>4.874809e-01</td>\n",
       "      <td>4.863686e-01</td>\n",
       "      <td>6.004082e-01</td>\n",
       "      <td>7.843187e-01</td>\n",
       "      <td>7.759109e-01</td>\n",
       "      <td>-2.974821e-01</td>\n",
       "      <td>-5.065674e-01</td>\n",
       "      <td>1.379185e+00</td>\n",
       "      <td>2.943293e-01</td>\n",
       "    </tr>\n",
       "    <tr>\n",
       "      <th>max</th>\n",
       "      <td>1.818140e+00</td>\n",
       "      <td>4.243846e+00</td>\n",
       "      <td>1.603529e+00</td>\n",
       "      <td>1.045978e+01</td>\n",
       "      <td>1.012942e+01</td>\n",
       "      <td>1.069613e+01</td>\n",
       "      <td>1.012997e+00</td>\n",
       "      <td>9.326700e+00</td>\n",
       "      <td>2.032557e+00</td>\n",
       "      <td>6.559044e+00</td>\n",
       "      <td>...</td>\n",
       "      <td>6.656022e+00</td>\n",
       "      <td>3.879506e+00</td>\n",
       "      <td>3.386749e+00</td>\n",
       "      <td>3.221787e+00</td>\n",
       "      <td>2.975503e+00</td>\n",
       "      <td>2.089391e+00</td>\n",
       "      <td>3.361547e+00</td>\n",
       "      <td>1.974071e+00</td>\n",
       "      <td>1.379185e+00</td>\n",
       "      <td>1.827345e+01</td>\n",
       "    </tr>\n",
       "  </tbody>\n",
       "</table>\n",
       "<p>8 rows × 81 columns</p>\n",
       "</div>"
      ],
      "text/plain": [
       "                 0             1             2             3             4   \\\n",
       "count  4.182000e+03  4.182000e+03  4.182000e+03  4.182000e+03  4.182000e+03   \n",
       "mean   2.969940e-15  8.665155e-17 -4.077720e-17 -9.854490e-17 -1.478174e-16   \n",
       "std    1.000120e+00  1.000120e+00  1.000120e+00  1.000120e+00  1.000120e+00   \n",
       "min   -5.642633e+00 -1.939087e+00 -6.236244e-01 -2.039424e+00 -2.402665e+00   \n",
       "25%   -9.796501e-01 -8.149169e-01 -6.236244e-01 -5.689290e-01  3.822422e-01   \n",
       "50%   -4.705353e-02  3.092527e-01 -6.236244e-01  1.663185e-01  3.822422e-01   \n",
       "75%    8.855430e-01  6.839759e-01  1.603529e+00  1.663185e-01  3.822422e-01   \n",
       "max    1.818140e+00  4.243846e+00  1.603529e+00  1.045978e+01  1.012942e+01   \n",
       "\n",
       "                 5             6             7             8             9   \\\n",
       "count  4.182000e+03  4.182000e+03  4.182000e+03  4.182000e+03  4.182000e+03   \n",
       "mean   3.398100e-17  1.422954e-17  5.946675e-17  5.606865e-17  4.587435e-17   \n",
       "std    1.000120e+00  1.000120e+00  1.000120e+00  1.000120e+00  1.000120e+00   \n",
       "min   -1.814639e+00 -9.871698e-01 -9.979569e-01 -4.919911e-01 -1.524613e-01   \n",
       "25%   -7.720755e-01 -9.871698e-01 -7.111609e-01 -4.919911e-01 -1.524613e-01   \n",
       "50%    2.704882e-01 -9.871698e-01 -1.375688e-01 -4.919911e-01 -1.524613e-01   \n",
       "75%    2.704882e-01  1.012997e+00  1.492272e-01 -4.919911e-01 -1.524613e-01   \n",
       "max    1.069613e+01  1.012997e+00  9.326700e+00  2.032557e+00  6.559044e+00   \n",
       "\n",
       "       ...            71            72            73            74  \\\n",
       "count  ...  4.182000e+03  4.182000e+03  4.182000e+03  4.182000e+03   \n",
       "mean   ... -4.757340e-17 -9.174870e-17  6.796200e-17  6.286485e-17   \n",
       "std    ...  1.000120e+00  1.000120e+00  1.000120e+00  1.000120e+00   \n",
       "min    ... -7.867808e-01 -1.301823e+00 -1.527138e+00 -2.020971e+00   \n",
       "25%    ... -7.072765e-01 -7.446682e-01 -5.971244e-01 -5.230401e-01   \n",
       "50%    ... -3.058418e-01 -1.329751e-01 -2.004738e-01  3.868402e-02   \n",
       "75%    ...  3.736569e-01  4.874809e-01  4.863686e-01  6.004082e-01   \n",
       "max    ...  6.656022e+00  3.879506e+00  3.386749e+00  3.221787e+00   \n",
       "\n",
       "                 75            76            77            78            79  \\\n",
       "count  4.182000e+03  4.182000e+03  4.182000e+03  4.182000e+03  4.182000e+03   \n",
       "mean   2.412651e-16  2.769452e-16  3.398100e-18 -2.718480e-17  4.884769e-17   \n",
       "std    1.000120e+00  1.000120e+00  1.000120e+00  1.000120e+00  1.000120e+00   \n",
       "min   -3.415452e+00 -2.976890e+00 -2.974821e-01 -5.065674e-01 -7.250659e-01   \n",
       "25%   -8.590698e-01 -8.190295e-01 -2.974821e-01 -5.065674e-01 -7.250659e-01   \n",
       "50%   -1.286749e-01  2.129907e-01 -2.974821e-01 -5.065674e-01 -7.250659e-01   \n",
       "75%    7.843187e-01  7.759109e-01 -2.974821e-01 -5.065674e-01  1.379185e+00   \n",
       "max    2.975503e+00  2.089391e+00  3.361547e+00  1.974071e+00  1.379185e+00   \n",
       "\n",
       "                 80  \n",
       "count  4.182000e+03  \n",
       "mean  -2.378670e-17  \n",
       "std    1.000120e+00  \n",
       "min   -1.682467e+00  \n",
       "25%   -5.493356e-01  \n",
       "50%   -2.032341e-01  \n",
       "75%    2.943293e-01  \n",
       "max    1.827345e+01  \n",
       "\n",
       "[8 rows x 81 columns]"
      ]
     },
     "execution_count": 10,
     "metadata": {},
     "output_type": "execute_result"
    }
   ],
   "source": [
    "data_norm = scaler.transform(data)\n",
    "pd.DataFrame(data_norm).describe()"
   ]
  },
  {
   "cell_type": "code",
   "execution_count": 11,
   "id": "da3d6e9f-34fd-4b68-b8da-c9bff3d6a5ef",
   "metadata": {},
   "outputs": [],
   "source": [
    "#X = data_norm[:,0:115]\n",
    "#y = data_norm[:,115]\n",
    "X = data_norm[:,0:feature_count-1]\n",
    "y = data_norm[:,feature_count-1]"
   ]
  },
  {
   "cell_type": "code",
   "execution_count": 12,
   "id": "82655373-14fd-457a-96fd-656ae860a385",
   "metadata": {},
   "outputs": [
    {
     "name": "stdout",
     "output_type": "stream",
     "text": [
      "[[-0.97965005  0.74642973 -0.62362436 ... -0.29748206 -0.50656745\n",
      "  -0.72506589]\n",
      " [-0.97965005  0.18434494 -0.62362436 ... -0.29748206 -0.50656745\n",
      "  -0.72506589]\n",
      " [-1.91224657 -1.12718626  1.60352941 ... -0.29748206  1.97407079\n",
      "   1.37918501]\n",
      " ...\n",
      " [-0.04705353  1.43342226 -0.62362436 ... -0.29748206 -0.50656745\n",
      "  -0.72506589]\n",
      " [-0.04705353  1.1836068  -0.62362436 ... -0.29748206  1.97407079\n",
      "   1.37918501]\n",
      " [-0.04705353  0.4341604   1.60352941 ... -0.29748206 -0.50656745\n",
      "   1.37918501]]\n"
     ]
    }
   ],
   "source": [
    "print(X)"
   ]
  },
  {
   "cell_type": "code",
   "execution_count": 13,
   "id": "7cf5f72d-8c8d-41b9-a01b-06eed1f62171",
   "metadata": {},
   "outputs": [
    {
     "name": "stdout",
     "output_type": "stream",
     "text": [
      "[-0.98500282 -0.49608666  1.1275885  ... -0.6112346  -0.73426344\n",
      " -0.90964947]\n"
     ]
    }
   ],
   "source": [
    "print(y)"
   ]
  },
  {
   "cell_type": "code",
   "execution_count": 14,
   "id": "ac4d7c54-f51d-4fbb-bb93-2392b9890efe",
   "metadata": {},
   "outputs": [],
   "source": [
    "from sklearn.model_selection import train_test_split"
   ]
  },
  {
   "cell_type": "code",
   "execution_count": 15,
   "id": "60c08719-bb8a-4e81-a276-bd73caf6579a",
   "metadata": {},
   "outputs": [],
   "source": [
    "X_train, X_test, y_train, y_test = train_test_split(X, y, test_size=0.2)"
   ]
  },
  {
   "cell_type": "code",
   "execution_count": 16,
   "id": "33325314-ba31-44d1-ac70-7ceafab29e32",
   "metadata": {},
   "outputs": [],
   "source": [
    "from sklearn.neural_network import MLPRegressor"
   ]
  },
  {
   "cell_type": "code",
   "execution_count": 17,
   "id": "469390a7-fac8-4fa2-9dd1-baa4a21f205a",
   "metadata": {},
   "outputs": [
    {
     "name": "stderr",
     "output_type": "stream",
     "text": [
      "/usr/local/lib/python3.10/dist-packages/sklearn/neural_network/_multilayer_perceptron.py:702: ConvergenceWarning: Stochastic Optimizer: Maximum iterations (200) reached and the optimization hasn't converged yet.\n",
      "  warnings.warn(\n"
     ]
    }
   ],
   "source": [
    "model_mlp = MLPRegressor(random_state=0, activation='relu', hidden_layer_sizes=(int(data.shape[1]*2/3),int(data.shape[1]*1/3)))\n",
    "model_mlp.fit(X_train, y_train)\n",
    "mlp_score=model_mlp.score(X_train,y_train)"
   ]
  },
  {
   "cell_type": "code",
   "execution_count": 18,
   "id": "20b63d48-0012-48c1-86d4-71c46da3343e",
   "metadata": {},
   "outputs": [
    {
     "name": "stdout",
     "output_type": "stream",
     "text": [
      "score: 0.9810509792885741\n"
     ]
    }
   ],
   "source": [
    "print('score:',mlp_score)\n",
    "result = model_mlp.predict(X_test)"
   ]
  },
  {
   "cell_type": "code",
   "execution_count": 19,
   "id": "5e533c0c-bcba-4690-a975-c0213561af93",
   "metadata": {},
   "outputs": [
    {
     "data": {
      "text/plain": [
       "[<matplotlib.lines.Line2D at 0x7f3c362facb0>]"
      ]
     },
     "execution_count": 19,
     "metadata": {},
     "output_type": "execute_result"
    },
    {
     "data": {
      "image/png": "[encoded data removed]",
      "text/plain": [
       "<Figure size 432x288 with 1 Axes>"
      ]
     },
     "metadata": {
      "needs_background": "light"
     },
     "output_type": "display_data"
    }
   ],
   "source": [
    "import matplotlib.pyplot as plt\n",
    "plt.scatter(y_test, result)\n",
    "plt.plot([0,1],[0,1])"
   ]
  },
  {
   "cell_type": "code",
   "execution_count": 20,
   "id": "15340eae-0344-4775-9fde-f03f0216950f",
   "metadata": {},
   "outputs": [
    {
     "data": {
      "text/html": [
       "<div>\n",
       "<style scoped>\n",
       "    .dataframe tbody tr th:only-of-type {\n",
       "        vertical-align: middle;\n",
       "    }\n",
       "\n",
       "    .dataframe tbody tr th {\n",
       "        vertical-align: top;\n",
       "    }\n",
       "\n",
       "    .dataframe thead th {\n",
       "        text-align: right;\n",
       "    }\n",
       "</style>\n",
       "<table border=\"1\" class=\"dataframe\">\n",
       "  <thead>\n",
       "    <tr style=\"text-align: right;\">\n",
       "      <th></th>\n",
       "      <th>origin</th>\n",
       "      <th>predict</th>\n",
       "    </tr>\n",
       "  </thead>\n",
       "  <tbody>\n",
       "    <tr>\n",
       "      <th>origin</th>\n",
       "      <td>1.000000</td>\n",
       "      <td>0.720078</td>\n",
       "    </tr>\n",
       "    <tr>\n",
       "      <th>predict</th>\n",
       "      <td>0.720078</td>\n",
       "      <td>1.000000</td>\n",
       "    </tr>\n",
       "  </tbody>\n",
       "</table>\n",
       "</div>"
      ],
      "text/plain": [
       "           origin   predict\n",
       "origin   1.000000  0.720078\n",
       "predict  0.720078  1.000000"
      ]
     },
     "execution_count": 20,
     "metadata": {},
     "output_type": "execute_result"
    }
   ],
   "source": [
    "data1 = pd.DataFrame({'origin':y_test,'predict':result})\n",
    "data1.corr()"
   ]
  },
  {
   "cell_type": "code",
   "execution_count": 23,
   "id": "f024d162-1b92-4cc7-9799-29871215eee1",
   "metadata": {},
   "outputs": [
    {
     "name": "stdout",
     "output_type": "stream",
     "text": [
      "mean_absolute_error: 0.3521168720299444\n",
      "explained_variance_score: 0.5028316850224568\n",
      "mean_squared_error: 0.6569311182826018\n",
      "r2_score: 0.5025472678689464\n"
     ]
    }
   ],
   "source": [
    "from sklearn.metrics import explained_variance_score, mean_absolute_error, mean_squared_error, r2_score\n",
    "print(f\"mean_absolute_error: {mean_absolute_error(y_test, result)}\")\n",
    "print(f\"explained_variance_score: {explained_variance_score(y_test, result)}\")\n",
    "# mean_squared_error\n",
    "print(f\"mean_squared_error: {mean_squared_error(y_test, result)}\")\n",
    "print(f\"r2_score: {r2_score(y_test, result)}\")"
   ]
  },
  {
   "cell_type": "code",
   "execution_count": null,
   "id": "e5b54d25-1750-46e2-8c60-4a8b554486a5",
   "metadata": {},
   "outputs": [],
   "source": []
  }
 ],
 "metadata": {
  "kernelspec": {
   "display_name": "Python 3 (ipykernel)",
   "language": "python",
   "name": "python3"
  },
  "language_info": {
   "codemirror_mode": {
    "name": "ipython",
    "version": 3
   },
   "file_extension": ".py",
   "mimetype": "text/x-python",
   "name": "python",
   "nbconvert_exporter": "python",
   "pygments_lexer": "ipython3",
   "version": "3.10.5"
  }
 },
 "nbformat": 4,
 "nbformat_minor": 5
}
