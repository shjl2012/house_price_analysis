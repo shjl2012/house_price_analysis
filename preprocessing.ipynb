{
 "cells": [
  {
   "cell_type": "code",
   "execution_count": 1,
   "id": "c3245869-96b7-41da-93b1-a7d214adbd14",
   "metadata": {},
   "outputs": [
    {
     "name": "stdout",
     "output_type": "stream",
     "text": [
      "Pandas version:  1.4.3\n",
      "Geopandas version:  0.11.0\n"
     ]
    }
   ],
   "source": [
    "import pandas as pd\n",
    "import geopandas as gpd\n",
    "import csv\n",
    "import re\n",
    "import python.full_to_half as htf\n",
    "import python.write_coordinate_to_csv as wctc\n",
    "from shapely.geometry import Point\n",
    "print('Pandas version: ', pd.__version__)\n",
    "print('Geopandas version: ', gpd.__version__)"
   ]
  },
  {
   "cell_type": "code",
   "execution_count": null,
   "id": "363f9268-5dbf-427b-803f-0af1aaf52f29",
   "metadata": {},
   "outputs": [],
   "source": [
    "df = pd.read_csv(f'./dataset/a_lvr_land_a.csv', encoding = 'utf-8')\n",
    "print(type(df))\n",
    "df.info()"
   ]
  },
  {
   "cell_type": "code",
   "execution_count": null,
   "id": "e570e0f4-1907-46ad-ab11-da8df316dd7e",
   "metadata": {},
   "outputs": [],
   "source": [
    "filt = (df['鄉鎮市區'] == '大安區') & (df['主要用途'] == '住家用') & (~df['備註'].str.contains('親友', na=False)) & (~df['備註'].str.contains('預售屋', na=False)) & (~df['備註'].str.contains('地上權', na=False)) & (~df['備註'].str.contains('夾層', na=False)) & (df['交易標的'] == '房地(土地+建物)')\n",
    "pre_df = df.loc[filt,['土地位置建物門牌','交易年月日','建築完成年月','建物現況格局-房','建物現況格局-廳','建物現況格局-衛','電梯','單價元平方公尺']]\n",
    "pre_df = pre_df.dropna()\n",
    "pre_df.info()"
   ]
  },
  {
   "cell_type": "code",
   "execution_count": null,
   "id": "433f587d-9836-4526-881f-ee9dfe0096e5",
   "metadata": {},
   "outputs": [],
   "source": [
    "pre_df['屋齡']=pre_df['交易年月日'].str[0:3].astype(int)-pre_df['建築完成年月'].str[0:3].astype(int)"
   ]
  },
  {
   "cell_type": "code",
   "execution_count": null,
   "id": "3589cb91-3ebd-4e65-9ec7-d6fff6dc69ab",
   "metadata": {},
   "outputs": [],
   "source": [
    "pre_df = pre_df[['土地位置建物門牌','屋齡','建物現況格局-房','建物現況格局-廳','建物現況格局-衛','電梯','單價元平方公尺']]\n",
    "pre_df.info()"
   ]
  },
  {
   "cell_type": "code",
   "execution_count": null,
   "id": "8b142b04-7368-4720-81c6-b07e12349388",
   "metadata": {},
   "outputs": [],
   "source": [
    "pattern = r'[0-9]*?[零一二三四五六七八九十]*?[0-9]*?[零一二三四五六七八九十]{1}[0-9]*?[號]'\n",
    "pre_df['修正地址'] = pre_df['土地位置建物門牌'].str.contains(pattern,regex=True)\n",
    "pre_df['土地位置建物門牌'] = htf.h2f(pre_df['土地位置建物門牌'])\n",
    "pre_df.to_csv('pre_df.csv')"
   ]
  },
  {
   "cell_type": "code",
   "execution_count": null,
   "id": "316d76f5-8dd7-4f96-8ad8-91a911e70be7",
   "metadata": {},
   "outputs": [],
   "source": []
  },
  {
   "cell_type": "code",
   "execution_count": null,
   "id": "3b08fa2d-9465-4534-a29b-8ef59859aa32",
   "metadata": {},
   "outputs": [],
   "source": []
  },
  {
   "cell_type": "code",
   "execution_count": null,
   "id": "5c00d49e-8ebe-4de2-8882-4d5a795164a0",
   "metadata": {},
   "outputs": [],
   "source": [
    "wctc.write('pre_df.csv', 'pre_df_WGS84.csv', 1,8)"
   ]
  },
  {
   "cell_type": "code",
   "execution_count": null,
   "id": "3486d31c-544d-46fa-ac93-5ec0be52f46c",
   "metadata": {},
   "outputs": [],
   "source": []
  },
  {
   "cell_type": "code",
   "execution_count": 2,
   "id": "00a0a444-9987-4815-8f6d-9d8471b7cec9",
   "metadata": {},
   "outputs": [
    {
     "name": "stderr",
     "output_type": "stream",
     "text": [
      "/usr/local/lib/python3.10/dist-packages/pyproj/crs/crs.py:130: FutureWarning: '+init=<authority>:<code>' syntax is deprecated. '<authority>:<code>' is the preferred initialization method. When making the change, be mindful of axis order changes: https://pyproj4.github.io/pyproj/stable/gotchas.html#axis-order-changes-in-proj-6\n",
      "  in_crs_string = _prepare_from_proj_string(in_crs_string)\n"
     ]
    },
    {
     "name": "stdout",
     "output_type": "stream",
     "text": [
      "<class 'geopandas.geodataframe.GeoDataFrame'>\n",
      "RangeIndex: 197 entries, 0 to 196\n",
      "Data columns (total 8 columns):\n",
      " #   Column    Non-Null Count  Dtype   \n",
      "---  ------    --------------  -----   \n",
      " 0   ID        197 non-null    int64   \n",
      " 1   屋齡        197 non-null    int64   \n",
      " 2   建物現況格局-房  197 non-null    int64   \n",
      " 3   建物現況格局-廳  197 non-null    int64   \n",
      " 4   建物現況格局-衛  197 non-null    int64   \n",
      " 5   電梯        197 non-null    object  \n",
      " 6   單價元平方公尺   197 non-null    int64   \n",
      " 7   geometry  197 non-null    geometry\n",
      "dtypes: geometry(1), int64(6), object(1)\n",
      "memory usage: 12.4+ KB\n"
     ]
    },
    {
     "data": {
      "text/plain": [
       "<AxesSubplot:>"
      ]
     },
     "execution_count": 2,
     "metadata": {},
     "output_type": "execute_result"
    },
    {
     "data": {
      "image/png": "[encoded data removed]",
      "text/plain": [
       "<Figure size 432x288 with 1 Axes>"
      ]
     },
     "metadata": {
      "needs_background": "light"
     },
     "output_type": "display_data"
    }
   ],
   "source": [
    "df_final=pd.read_csv('pre_df_WGS84.csv',encoding='utf-8')\n",
    "geom = [Point(xy) for xy in zip(df_final.lon, df_final.lat)]\n",
    "crs = {'init': 'epsg:4326'}\n",
    "gf_final = gpd.GeoDataFrame(df_final, crs=crs, geometry=geom)\n",
    "gf_final = gf_final.to_crs(epsg=3826)\n",
    "gf_final['ID'] = gf_final.index\n",
    "gf_final = gf_final[['ID','屋齡','建物現況格局-房','建物現況格局-廳','建物現況格局-衛','電梯','單價元平方公尺','geometry']]\n",
    "gf_final.info()\n",
    "gf_final.plot()"
   ]
  },
  {
   "cell_type": "code",
   "execution_count": 3,
   "id": "79216d8b-e52e-4960-86c7-a90d0e1055b5",
   "metadata": {},
   "outputs": [
    {
     "name": "stdout",
     "output_type": "stream",
     "text": [
      "<class 'geopandas.geodataframe.GeoDataFrame'>\n",
      "RangeIndex: 197 entries, 0 to 196\n",
      "Data columns (total 8 columns):\n",
      " #   Column    Non-Null Count  Dtype   \n",
      "---  ------    --------------  -----   \n",
      " 0   ID        197 non-null    int64   \n",
      " 1   屋齡        197 non-null    int64   \n",
      " 2   建物現況格局-房  197 non-null    int64   \n",
      " 3   建物現況格局-廳  197 non-null    int64   \n",
      " 4   建物現況格局-衛  197 non-null    int64   \n",
      " 5   電梯        197 non-null    object  \n",
      " 6   單價元平方公尺   197 non-null    int64   \n",
      " 7   geometry  197 non-null    geometry\n",
      "dtypes: geometry(1), int64(6), object(1)\n",
      "memory usage: 12.4+ KB\n"
     ]
    },
    {
     "name": "stderr",
     "output_type": "stream",
     "text": [
      "/usr/local/lib/python3.10/dist-packages/pyproj/crs/crs.py:130: FutureWarning: '+init=<authority>:<code>' syntax is deprecated. '<authority>:<code>' is the preferred initialization method. When making the change, be mindful of axis order changes: https://pyproj4.github.io/pyproj/stable/gotchas.html#axis-order-changes-in-proj-6\n",
      "  in_crs_string = _prepare_from_proj_string(in_crs_string)\n"
     ]
    },
    {
     "data": {
      "text/plain": [
       "<AxesSubplot:>"
      ]
     },
     "execution_count": 3,
     "metadata": {},
     "output_type": "execute_result"
    },
    {
     "data": {
      "image/png": "[encoded data removed]",
      "text/plain": [
       "<Figure size 432x288 with 1 Axes>"
      ]
     },
     "metadata": {
      "needs_background": "light"
     },
     "output_type": "display_data"
    }
   ],
   "source": [
    "df_house=pd.read_csv('pre_df_WGS84.csv',encoding='utf-8')\n",
    "geom = [Point(xy) for xy in zip(df_house.lon, df_house.lat)]\n",
    "crs = {'init': 'epsg:4326'}\n",
    "gf_house = gpd.GeoDataFrame(df_house, crs=crs, geometry=geom)\n",
    "gf_house = gf_house.to_crs(epsg=3826)\n",
    "gf_house['ID'] = gf_house.index\n",
    "gf_house = gf_house[['ID','屋齡','建物現況格局-房','建物現況格局-廳','建物現況格局-衛','電梯','單價元平方公尺','geometry']]\n",
    "gf_house.info()\n",
    "gf_house.plot()"
   ]
  },
  {
   "cell_type": "code",
   "execution_count": 4,
   "id": "9799736b-2e43-4824-9ad8-6fca22276a0b",
   "metadata": {},
   "outputs": [
    {
     "data": {
      "text/plain": [
       "<AxesSubplot:>"
      ]
     },
     "execution_count": 4,
     "metadata": {},
     "output_type": "execute_result"
    },
    {
     "data": {
      "image/png": "[encoded data removed]",
      "text/plain": [
       "<Figure size 432x288 with 1 Axes>"
      ]
     },
     "metadata": {
      "needs_background": "light"
     },
     "output_type": "display_data"
    }
   ],
   "source": [
    "gf_house_buf = gf_house\n",
    "gf_house_buf['geometry'] = gf_house.buffer(500)\n",
    "gf_house_buf.plot(alpha=0.1)"
   ]
  },
  {
   "cell_type": "code",
   "execution_count": 5,
   "id": "59a9a096-ac59-4bff-aba7-e0bfc11a1fd7",
   "metadata": {},
   "outputs": [
    {
     "name": "stderr",
     "output_type": "stream",
     "text": [
      "/usr/local/lib/python3.10/dist-packages/pyproj/crs/crs.py:130: FutureWarning: '+init=<authority>:<code>' syntax is deprecated. '<authority>:<code>' is the preferred initialization method. When making the change, be mindful of axis order changes: https://pyproj4.github.io/pyproj/stable/gotchas.html#axis-order-changes-in-proj-6\n",
      "  in_crs_string = _prepare_from_proj_string(in_crs_string)\n"
     ]
    }
   ],
   "source": [
    "df_hospital=pd.read_csv('./dataset/taiwan_hospital_getcoordinates.csv',encoding='utf-8')\n",
    "geom = [Point(xy) for xy in zip(df_hospital.lon, df_hospital.lat)]\n",
    "crs = {'init': 'epsg:4326'}\n",
    "gf_hospital = gpd.GeoDataFrame(df_hospital, crs=crs, geometry=geom)\n",
    "gf_hospital = gf_hospital.to_crs(epsg=3826)"
   ]
  },
  {
   "cell_type": "code",
   "execution_count": 6,
   "id": "a625dcf6-ba20-426e-b498-f65569c4a79a",
   "metadata": {},
   "outputs": [
    {
     "name": "stderr",
     "output_type": "stream",
     "text": [
      "/usr/local/lib/python3.10/dist-packages/pyproj/crs/crs.py:130: FutureWarning: '+init=<authority>:<code>' syntax is deprecated. '<authority>:<code>' is the preferred initialization method. When making the change, be mindful of axis order changes: https://pyproj4.github.io/pyproj/stable/gotchas.html#axis-order-changes-in-proj-6\n",
      "  in_crs_string = _prepare_from_proj_string(in_crs_string)\n"
     ]
    }
   ],
   "source": [
    "df_cstore=pd.read_csv('./dataset/taiwan_convenience_store_getcoordinates.csv',encoding='utf-8')\n",
    "geom = [Point(xy) for xy in zip(df_cstore.lon, df_cstore.lat)]\n",
    "crs = {'init': 'epsg:4326'}\n",
    "gf_cstore = gpd.GeoDataFrame(df_cstore, crs=crs, geometry=geom)\n",
    "gf_cstore = gf_cstore.to_crs(epsg=3826)"
   ]
  },
  {
   "cell_type": "code",
   "execution_count": null,
   "id": "cc60e730-9108-4bf1-bef8-ca4ade0f4218",
   "metadata": {},
   "outputs": [],
   "source": [
    "# 讀取geojspn\n",
    "gf_cemetery = gpd.read_file(f'./dataset/cemetery.geojson', encoding = 'utf-8')\n",
    "gf_cemetery = gf_cemetery.to_crs(epsg=3826)\n",
    "\n",
    "gf_fire_station = gpd.read_file(f'./dataset/fire_station.geojson', encoding = 'utf-8')\n",
    "gf_fire_station = gf_fire_station.to_crs(epsg=3826)\n",
    "\n",
    "gf_fuel = gpd.read_file(f'./dataset/fuel.geojson', encoding = 'utf-8')\n",
    "gf_fuel = gf_fuel.to_crs(epsg=3826)\n",
    "\n",
    "gf_library = gpd.read_file(f'./dataset/library.geojson', encoding = 'utf-8')\n",
    "gf_library = gf_library.to_crs(epsg=3826)\n",
    "\n",
    "gf_marketplace = gpd.read_file(f'./dataset/marketplace.geojson', encoding = 'utf-8')\n",
    "gf_marketplace = gf_marketplace.to_crs(epsg=3826)\n",
    "\n",
    "gf_park = gpd.read_file(f'./dataset/park.geojson', encoding = 'utf-8')\n",
    "gf_park = gf_park.to_crs(epsg=3826)\n",
    "\n",
    "gf_parking = gpd.read_file(f'./dataset/parking.geojson', encoding = 'utf-8')\n",
    "gf_parking = gf_parking.to_crs(epsg=3826)\n",
    "\n",
    "gf_place_of_worship = gpd.read_file(f'./dataset/place_of_worship.geojson', encoding = 'utf-8')\n",
    "gf_place_of_worship = gf_place_of_worship.to_crs(epsg=3826)\n",
    "\n",
    "gf_police = gpd.read_file(f'./dataset/police.geojson', encoding = 'utf-8')\n",
    "gf_police = gf_police.to_crs(epsg=3826)\n",
    "\n",
    "gf_school = gpd.read_file(f'./dataset/school.geojson', encoding = 'utf-8')\n",
    "gf_school = gf_school.to_crs(epsg=3826)\n",
    "\n",
    "gf_station = gpd.read_file(f'./dataset/station.geojson', encoding = 'utf-8')\n",
    "gf_station = gf_station.to_crs(epsg=3826)\n",
    "\n",
    "gf_university = gpd.read_file(f'./dataset/university.geojson', encoding = 'utf-8')\n",
    "gf_university = gf_university.to_crs(epsg=3826)"
   ]
  },
  {
   "cell_type": "code",
   "execution_count": 14,
   "id": "5cd0a4b6-4d80-462a-aa3b-3f856352d086",
   "metadata": {},
   "outputs": [
    {
     "data": {
      "text/plain": [
       "<AxesSubplot:>"
      ]
     },
     "execution_count": 14,
     "metadata": {},
     "output_type": "execute_result"
    },
    {
     "data": {
      "image/png": "[encoded data removed]",
      "text/plain": [
       "<Figure size 432x288 with 1 Axes>"
      ]
     },
     "metadata": {
      "needs_background": "light"
     },
     "output_type": "display_data"
    }
   ],
   "source": [
    "gf_cstore.plot()"
   ]
  },
  {
   "cell_type": "code",
   "execution_count": 15,
   "id": "df28ef21-f8fc-4cfc-aa2f-f0884a0a4fff",
   "metadata": {},
   "outputs": [
    {
     "data": {
      "text/plain": [
       "<AxesSubplot:>"
      ]
     },
     "execution_count": 15,
     "metadata": {},
     "output_type": "execute_result"
    },
    {
     "data": {
      "image/png": "[encoded data removed]",
      "text/plain": [
       "<Figure size 432x288 with 1 Axes>"
      ]
     },
     "metadata": {
      "needs_background": "light"
     },
     "output_type": "display_data"
    }
   ],
   "source": [
    "gf_cstore['geometry'] = gf_cstore.buffer(0.001)\n",
    "gf_cstore.plot()"
   ]
  },
  {
   "cell_type": "code",
   "execution_count": 19,
   "id": "45af1614-60f7-421c-ab3c-e8774606225d",
   "metadata": {},
   "outputs": [
    {
     "data": {
      "text/html": [
       "<div>\n",
       "<style scoped>\n",
       "    .dataframe tbody tr th:only-of-type {\n",
       "        vertical-align: middle;\n",
       "    }\n",
       "\n",
       "    .dataframe tbody tr th {\n",
       "        vertical-align: top;\n",
       "    }\n",
       "\n",
       "    .dataframe thead th {\n",
       "        text-align: right;\n",
       "    }\n",
       "</style>\n",
       "<table border=\"1\" class=\"dataframe\">\n",
       "  <thead>\n",
       "    <tr style=\"text-align: right;\">\n",
       "      <th></th>\n",
       "      <th>分公司名稱</th>\n",
       "    </tr>\n",
       "    <tr>\n",
       "      <th>ID</th>\n",
       "      <th></th>\n",
       "    </tr>\n",
       "  </thead>\n",
       "  <tbody>\n",
       "    <tr>\n",
       "      <th>0</th>\n",
       "      <td>25</td>\n",
       "    </tr>\n",
       "    <tr>\n",
       "      <th>1</th>\n",
       "      <td>26</td>\n",
       "    </tr>\n",
       "    <tr>\n",
       "      <th>2</th>\n",
       "      <td>19</td>\n",
       "    </tr>\n",
       "    <tr>\n",
       "      <th>3</th>\n",
       "      <td>28</td>\n",
       "    </tr>\n",
       "    <tr>\n",
       "      <th>4</th>\n",
       "      <td>10</td>\n",
       "    </tr>\n",
       "    <tr>\n",
       "      <th>...</th>\n",
       "      <td>...</td>\n",
       "    </tr>\n",
       "    <tr>\n",
       "      <th>192</th>\n",
       "      <td>28</td>\n",
       "    </tr>\n",
       "    <tr>\n",
       "      <th>193</th>\n",
       "      <td>34</td>\n",
       "    </tr>\n",
       "    <tr>\n",
       "      <th>194</th>\n",
       "      <td>27</td>\n",
       "    </tr>\n",
       "    <tr>\n",
       "      <th>195</th>\n",
       "      <td>40</td>\n",
       "    </tr>\n",
       "    <tr>\n",
       "      <th>196</th>\n",
       "      <td>42</td>\n",
       "    </tr>\n",
       "  </tbody>\n",
       "</table>\n",
       "<p>197 rows × 1 columns</p>\n",
       "</div>"
      ],
      "text/plain": [
       "     分公司名稱\n",
       "ID        \n",
       "0       25\n",
       "1       26\n",
       "2       19\n",
       "3       28\n",
       "4       10\n",
       "..     ...\n",
       "192     28\n",
       "193     34\n",
       "194     27\n",
       "195     40\n",
       "196     42\n",
       "\n",
       "[197 rows x 1 columns]"
      ]
     },
     "execution_count": 19,
     "metadata": {},
     "output_type": "execute_result"
    }
   ],
   "source": [
    "intersection = gpd.overlay(gf_house_buf,gf_cstore,  how='intersection', keep_geom_type=True)\n",
    "#intersection['PARKING_AREA'] = intersection['geometry'].area\n",
    "intersection_count = intersection.groupby('ID').agg({'分公司名稱':'count'})\n",
    "#intersection_count = intersection.groupby('ID').agg({'PARKING_AREA':'sum'})\n",
    "intersection_count"
   ]
  },
  {
   "cell_type": "code",
   "execution_count": 20,
   "id": "e4e81e8f-0daa-4214-8e15-c531fb4b1aa5",
   "metadata": {},
   "outputs": [],
   "source": [
    "gf_final = gf_final.merge(intersection_count,how='left', left_on='ID', right_on='ID')"
   ]
  },
  {
   "cell_type": "code",
   "execution_count": 21,
   "id": "2b1c0b0e-3ceb-4082-9353-b03ed6e9e8b3",
   "metadata": {},
   "outputs": [
    {
     "name": "stdout",
     "output_type": "stream",
     "text": [
      "<class 'geopandas.geodataframe.GeoDataFrame'>\n",
      "Int64Index: 197 entries, 0 to 196\n",
      "Data columns (total 11 columns):\n",
      " #   Column          Non-Null Count  Dtype   \n",
      "---  ------          --------------  -----   \n",
      " 0   ID              197 non-null    int64   \n",
      " 1   屋齡              197 non-null    int64   \n",
      " 2   建物現況格局-房        197 non-null    int64   \n",
      " 3   建物現況格局-廳        197 non-null    int64   \n",
      " 4   建物現況格局-衛        197 non-null    int64   \n",
      " 5   電梯              197 non-null    object  \n",
      " 6   單價元平方公尺         197 non-null    int64   \n",
      " 7   geometry        197 non-null    geometry\n",
      " 8   HOSPITAL_COUNT  197 non-null    int64   \n",
      " 9   分公司狀態           197 non-null    int64   \n",
      " 10  CSTORE_COUNT    197 non-null    int64   \n",
      "dtypes: geometry(1), int64(9), object(1)\n",
      "memory usage: 18.5+ KB\n",
      "None\n"
     ]
    },
    {
     "data": {
      "text/html": [
       "<div>\n",
       "<style scoped>\n",
       "    .dataframe tbody tr th:only-of-type {\n",
       "        vertical-align: middle;\n",
       "    }\n",
       "\n",
       "    .dataframe tbody tr th {\n",
       "        vertical-align: top;\n",
       "    }\n",
       "\n",
       "    .dataframe thead th {\n",
       "        text-align: right;\n",
       "    }\n",
       "</style>\n",
       "<table border=\"1\" class=\"dataframe\">\n",
       "  <thead>\n",
       "    <tr style=\"text-align: right;\">\n",
       "      <th></th>\n",
       "      <th>ID</th>\n",
       "      <th>屋齡</th>\n",
       "      <th>建物現況格局-房</th>\n",
       "      <th>建物現況格局-廳</th>\n",
       "      <th>建物現況格局-衛</th>\n",
       "      <th>電梯</th>\n",
       "      <th>單價元平方公尺</th>\n",
       "      <th>geometry</th>\n",
       "      <th>HOSPITAL_COUNT</th>\n",
       "      <th>分公司狀態</th>\n",
       "      <th>CSTORE_COUNT</th>\n",
       "    </tr>\n",
       "  </thead>\n",
       "  <tbody>\n",
       "    <tr>\n",
       "      <th>0</th>\n",
       "      <td>0</td>\n",
       "      <td>37</td>\n",
       "      <td>3</td>\n",
       "      <td>2</td>\n",
       "      <td>2</td>\n",
       "      <td>有</td>\n",
       "      <td>245443</td>\n",
       "      <td>POINT (305313.398 2768682.942)</td>\n",
       "      <td>56</td>\n",
       "      <td>25</td>\n",
       "      <td>25</td>\n",
       "    </tr>\n",
       "    <tr>\n",
       "      <th>1</th>\n",
       "      <td>1</td>\n",
       "      <td>37</td>\n",
       "      <td>2</td>\n",
       "      <td>2</td>\n",
       "      <td>2</td>\n",
       "      <td>有</td>\n",
       "      <td>257275</td>\n",
       "      <td>POINT (305163.377 2768831.302)</td>\n",
       "      <td>73</td>\n",
       "      <td>26</td>\n",
       "      <td>26</td>\n",
       "    </tr>\n",
       "    <tr>\n",
       "      <th>2</th>\n",
       "      <td>2</td>\n",
       "      <td>36</td>\n",
       "      <td>5</td>\n",
       "      <td>4</td>\n",
       "      <td>2</td>\n",
       "      <td>有</td>\n",
       "      <td>314764</td>\n",
       "      <td>POINT (304703.063 2768917.030)</td>\n",
       "      <td>66</td>\n",
       "      <td>19</td>\n",
       "      <td>19</td>\n",
       "    </tr>\n",
       "    <tr>\n",
       "      <th>3</th>\n",
       "      <td>3</td>\n",
       "      <td>43</td>\n",
       "      <td>3</td>\n",
       "      <td>1</td>\n",
       "      <td>2</td>\n",
       "      <td>有</td>\n",
       "      <td>286978</td>\n",
       "      <td>POINT (306238.393 2770496.194)</td>\n",
       "      <td>122</td>\n",
       "      <td>28</td>\n",
       "      <td>28</td>\n",
       "    </tr>\n",
       "    <tr>\n",
       "      <th>4</th>\n",
       "      <td>4</td>\n",
       "      <td>35</td>\n",
       "      <td>5</td>\n",
       "      <td>3</td>\n",
       "      <td>4</td>\n",
       "      <td>無</td>\n",
       "      <td>228840</td>\n",
       "      <td>POINT (303493.585 2768658.586)</td>\n",
       "      <td>44</td>\n",
       "      <td>10</td>\n",
       "      <td>10</td>\n",
       "    </tr>\n",
       "    <tr>\n",
       "      <th>...</th>\n",
       "      <td>...</td>\n",
       "      <td>...</td>\n",
       "      <td>...</td>\n",
       "      <td>...</td>\n",
       "      <td>...</td>\n",
       "      <td>...</td>\n",
       "      <td>...</td>\n",
       "      <td>...</td>\n",
       "      <td>...</td>\n",
       "      <td>...</td>\n",
       "      <td>...</td>\n",
       "    </tr>\n",
       "    <tr>\n",
       "      <th>192</th>\n",
       "      <td>192</td>\n",
       "      <td>41</td>\n",
       "      <td>1</td>\n",
       "      <td>2</td>\n",
       "      <td>1</td>\n",
       "      <td>無</td>\n",
       "      <td>244575</td>\n",
       "      <td>POINT (305866.179 2769305.300)</td>\n",
       "      <td>77</td>\n",
       "      <td>28</td>\n",
       "      <td>28</td>\n",
       "    </tr>\n",
       "    <tr>\n",
       "      <th>193</th>\n",
       "      <td>193</td>\n",
       "      <td>45</td>\n",
       "      <td>1</td>\n",
       "      <td>1</td>\n",
       "      <td>1</td>\n",
       "      <td>有</td>\n",
       "      <td>351357</td>\n",
       "      <td>POINT (305569.615 2770146.843)</td>\n",
       "      <td>212</td>\n",
       "      <td>34</td>\n",
       "      <td>34</td>\n",
       "    </tr>\n",
       "    <tr>\n",
       "      <th>194</th>\n",
       "      <td>194</td>\n",
       "      <td>45</td>\n",
       "      <td>3</td>\n",
       "      <td>2</td>\n",
       "      <td>2</td>\n",
       "      <td>有</td>\n",
       "      <td>338271</td>\n",
       "      <td>POINT (305083.662 2770683.814)</td>\n",
       "      <td>167</td>\n",
       "      <td>27</td>\n",
       "      <td>27</td>\n",
       "    </tr>\n",
       "    <tr>\n",
       "      <th>195</th>\n",
       "      <td>195</td>\n",
       "      <td>44</td>\n",
       "      <td>4</td>\n",
       "      <td>2</td>\n",
       "      <td>2</td>\n",
       "      <td>有</td>\n",
       "      <td>284970</td>\n",
       "      <td>POINT (305899.431 2770459.877)</td>\n",
       "      <td>179</td>\n",
       "      <td>40</td>\n",
       "      <td>40</td>\n",
       "    </tr>\n",
       "    <tr>\n",
       "      <th>196</th>\n",
       "      <td>196</td>\n",
       "      <td>44</td>\n",
       "      <td>4</td>\n",
       "      <td>2</td>\n",
       "      <td>2</td>\n",
       "      <td>有</td>\n",
       "      <td>272220</td>\n",
       "      <td>POINT (305859.694 2770449.424)</td>\n",
       "      <td>184</td>\n",
       "      <td>42</td>\n",
       "      <td>42</td>\n",
       "    </tr>\n",
       "  </tbody>\n",
       "</table>\n",
       "<p>197 rows × 11 columns</p>\n",
       "</div>"
      ],
      "text/plain": [
       "      ID  屋齡  建物現況格局-房  建物現況格局-廳  建物現況格局-衛 電梯  單價元平方公尺  \\\n",
       "0      0  37         3         2         2  有   245443   \n",
       "1      1  37         2         2         2  有   257275   \n",
       "2      2  36         5         4         2  有   314764   \n",
       "3      3  43         3         1         2  有   286978   \n",
       "4      4  35         5         3         4  無   228840   \n",
       "..   ...  ..       ...       ...       ... ..      ...   \n",
       "192  192  41         1         2         1  無   244575   \n",
       "193  193  45         1         1         1  有   351357   \n",
       "194  194  45         3         2         2  有   338271   \n",
       "195  195  44         4         2         2  有   284970   \n",
       "196  196  44         4         2         2  有   272220   \n",
       "\n",
       "                           geometry  HOSPITAL_COUNT  分公司狀態  CSTORE_COUNT  \n",
       "0    POINT (305313.398 2768682.942)              56     25            25  \n",
       "1    POINT (305163.377 2768831.302)              73     26            26  \n",
       "2    POINT (304703.063 2768917.030)              66     19            19  \n",
       "3    POINT (306238.393 2770496.194)             122     28            28  \n",
       "4    POINT (303493.585 2768658.586)              44     10            10  \n",
       "..                              ...             ...    ...           ...  \n",
       "192  POINT (305866.179 2769305.300)              77     28            28  \n",
       "193  POINT (305569.615 2770146.843)             212     34            34  \n",
       "194  POINT (305083.662 2770683.814)             167     27            27  \n",
       "195  POINT (305899.431 2770459.877)             179     40            40  \n",
       "196  POINT (305859.694 2770449.424)             184     42            42  \n",
       "\n",
       "[197 rows x 11 columns]"
      ]
     },
     "execution_count": 21,
     "metadata": {},
     "output_type": "execute_result"
    }
   ],
   "source": [
    "gf_final.rename(columns={'分公司名稱': 'CSTORE_COUNT'}, inplace=True)\n",
    "#gf_final.loc[gf_final['NEAR_STATION']>0, 'NEAR_STATION'] = 1\n",
    "gf_final['CSTORE_COUNT'] = gf_final['CSTORE_COUNT'].fillna(0)\n",
    "print(gf_final.info())\n",
    "gf_final"
   ]
  },
  {
   "cell_type": "code",
   "execution_count": null,
   "id": "59565b6e-f721-486a-b341-513c63a3ac11",
   "metadata": {},
   "outputs": [],
   "source": [
    "gf_final.loc[gf_final['電梯']=='有', '電梯'] = 1\n",
    "gf_final.loc[gf_final['電梯']=='無', '電梯'] = 0\n",
    "gf_final"
   ]
  },
  {
   "cell_type": "code",
   "execution_count": 22,
   "id": "7f0df25b-077a-4b6e-ab2b-5d08c4c7437a",
   "metadata": {},
   "outputs": [],
   "source": [
    "#gf_final = gf_final[['屋齡','建物現況格局-房','建物現況格局-廳','建物現況格局-衛','電梯','NEAR_CEMETERY','NEAR_UNIVERSITY','NEAR_FIRESTATION','NEAR_FUEL','NEAR_LIBRARY','NEAR_MARKET','PARK_AREA','PARKING_AREA','TEMPLE_COUNT','NEAR_POLICE','NEAR_SCHOOL','NEAR_STATION','單價元平方公尺']]\n",
    "gf_final.to_csv('final_df1.csv')"
   ]
  },
  {
   "cell_type": "code",
   "execution_count": null,
   "id": "06a2956f-769d-42b8-be37-062468934f92",
   "metadata": {},
   "outputs": [],
   "source": []
  }
 ],
 "metadata": {
  "kernelspec": {
   "display_name": "Python 3 (ipykernel)",
   "language": "python",
   "name": "python3"
  },
  "language_info": {
   "codemirror_mode": {
    "name": "ipython",
    "version": 3
   },
   "file_extension": ".py",
   "mimetype": "text/x-python",
   "name": "python",
   "nbconvert_exporter": "python",
   "pygments_lexer": "ipython3",
   "version": "3.10.4"
  }
 },
 "nbformat": 4,
 "nbformat_minor": 5
}
