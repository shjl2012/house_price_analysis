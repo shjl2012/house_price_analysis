{
 "cells": [
  {
   "cell_type": "code",
   "execution_count": 1,
   "id": "c3245869-96b7-41da-93b1-a7d214adbd14",
   "metadata": {},
   "outputs": [
    {
     "name": "stdout",
     "output_type": "stream",
     "text": [
      "Pandas version:  1.4.3\n",
      "Geopandas version:  0.11.0\n"
     ]
    }
   ],
   "source": [
    "import pandas as pd\n",
    "import geopandas as gpd\n",
    "import csv\n",
    "import re\n",
    "from shapely.geometry import Point\n",
    "\n",
    "import sys, os\n",
    "sys.path.append(\"..\")\n",
    "import python.full_to_half as htf\n",
    "import python.write_coordinate_to_csv as wctc\n",
    "print('Pandas version: ', pd.__version__)\n",
    "print('Geopandas version: ', gpd.__version__)"
   ]
  },
  {
   "cell_type": "code",
   "execution_count": null,
   "id": "363f9268-5dbf-427b-803f-0af1aaf52f29",
   "metadata": {},
   "outputs": [],
   "source": [
    "#df1 = pd.read_csv(f'./dataset/111_2_a_lvr_land_a.csv', encoding = 'utf-8')\n",
    "#df2 = pd.read_csv(f'./dataset/110_3_a_lvr_land_a.csv', encoding = 'utf-8')\n",
    "#frames = [df, df2]\n",
    "#df = pd.concat(frames)\n",
    "#print(type(df))\n",
    "#df.info()"
   ]
  },
  {
   "cell_type": "code",
   "execution_count": 2,
   "id": "591ef965-9a27-48c9-807e-c92c5a56ea0b",
   "metadata": {},
   "outputs": [],
   "source": [
    "path_text = r'../rawdata/real_price/'\n",
    "path = os.listdir(path_text)\n",
    "n = 0\n",
    "for filename in path:\n",
    "    try:\n",
    "        if (filename[-3:] == 'csv') & (filename.split('_')[2] == 'a'):\n",
    "            if n == 0:\n",
    "                df1 = pd.read_csv(path_text + filename, encoding = 'utf-8')\n",
    "                df1 = df1.iloc[1:]\n",
    "                n = n + 1\n",
    "            else:\n",
    "                df2 = pd.read_csv(path_text + filename, encoding = 'utf-8')\n",
    "                df2 = df2.iloc[1:]\n",
    "                df1 = pd.concat([df1, df2])\n",
    "    except:\n",
    "        continue\n",
    "#df1.info()\n",
    "#df1.to_csv('df1.csv')"
   ]
  },
  {
   "cell_type": "code",
   "execution_count": 3,
   "id": "035b99cf-7df0-4503-b416-a68eac6ceddf",
   "metadata": {},
   "outputs": [],
   "source": [
    "# 處理電梯欄位\n",
    "#print(df1)\n",
    "filt = (df1['電梯'].isnull()) & (df1['建物型態'].str.contains('有電梯', na=False))\n",
    "df1.loc[filt,['電梯']] = '有'\n",
    "filt = (df1['電梯'].isnull())\n",
    "df1.loc[filt,['電梯']] = '無'"
   ]
  },
  {
   "cell_type": "code",
   "execution_count": 5,
   "id": "645fc79a-d36b-41d5-b574-6e3539da0677",
   "metadata": {},
   "outputs": [
    {
     "name": "stdout",
     "output_type": "stream",
     "text": [
      "<class 'pandas.core.frame.DataFrame'>\n",
      "Int64Index: 90358 entries, 1 to 5799\n",
      "Data columns (total 33 columns):\n",
      " #   Column         Non-Null Count  Dtype  \n",
      "---  ------         --------------  -----  \n",
      " 0   鄉鎮市區           90358 non-null  object \n",
      " 1   交易標的           90358 non-null  object \n",
      " 2   土地位置建物門牌       90358 non-null  object \n",
      " 3   土地移轉總面積平方公尺    90358 non-null  object \n",
      " 4   都市土地使用分區       89295 non-null  object \n",
      " 5   非都市土地使用分區      9 non-null      object \n",
      " 6   非都市土地使用編定      0 non-null      object \n",
      " 7   交易年月日          90358 non-null  object \n",
      " 8   交易筆棟數          90358 non-null  object \n",
      " 9   移轉層次           81658 non-null  object \n",
      " 10  總樓層數           81519 non-null  object \n",
      " 11  建物型態           90358 non-null  object \n",
      " 12  主要用途           79793 non-null  object \n",
      " 13  主要建材           81649 non-null  object \n",
      " 14  建築完成年月         75194 non-null  object \n",
      " 15  建物移轉總面積平方公尺    90358 non-null  object \n",
      " 16  建物現況格局-房       90358 non-null  object \n",
      " 17  建物現況格局-廳       90358 non-null  object \n",
      " 18  建物現況格局-衛       90358 non-null  object \n",
      " 19  建物現況格局-隔間      90358 non-null  object \n",
      " 20  有無管理組織         90358 non-null  object \n",
      " 21  總價元            90358 non-null  object \n",
      " 22  單價元平方公尺        85669 non-null  object \n",
      " 23  車位類別           31708 non-null  object \n",
      " 24  車位移轉總面積(平方公尺)  90358 non-null  object \n",
      " 25  車位總價元          90358 non-null  object \n",
      " 26  備註             53060 non-null  object \n",
      " 27  編號             90358 non-null  object \n",
      " 28  主建物面積          90358 non-null  object \n",
      " 29  附屬建物面積         90358 non-null  object \n",
      " 30  陽台面積           90358 non-null  object \n",
      " 31  電梯             90358 non-null  object \n",
      " 32  移轉編號           12238 non-null  float64\n",
      "dtypes: float64(1), object(32)\n",
      "memory usage: 23.4+ MB\n"
     ]
    }
   ],
   "source": [
    "df1.info()"
   ]
  },
  {
   "cell_type": "code",
   "execution_count": 8,
   "id": "e570e0f4-1907-46ad-ab11-da8df316dd7e",
   "metadata": {},
   "outputs": [
    {
     "name": "stdout",
     "output_type": "stream",
     "text": [
      "<class 'pandas.core.frame.DataFrame'>\n",
      "Int64Index: 71534 entries, 1 to 5798\n",
      "Data columns (total 8 columns):\n",
      " #   Column    Non-Null Count  Dtype \n",
      "---  ------    --------------  ----- \n",
      " 0   土地位置建物門牌  71534 non-null  object\n",
      " 1   交易年月日     71534 non-null  object\n",
      " 2   建築完成年月    71534 non-null  object\n",
      " 3   建物現況格局-房  71534 non-null  object\n",
      " 4   建物現況格局-廳  71534 non-null  object\n",
      " 5   建物現況格局-衛  71534 non-null  object\n",
      " 6   電梯        71534 non-null  object\n",
      " 7   單價元平方公尺   71534 non-null  object\n",
      "dtypes: object(8)\n",
      "memory usage: 4.9+ MB\n"
     ]
    }
   ],
   "source": [
    "#filt = (df['鄉鎮市區'] == '中山區') & (df['主要用途'] == '住家用') & (~df['備註'].str.contains('親友', na=False)) & (~df['備註'].str.contains('預售屋', na=False)) & (~df['備註'].str.contains('地上權', na=False)) & (~df['備註'].str.contains('夾層', na=False)) & (df['交易標的'] == '房地(土地+建物)')\n",
    "#pre_df = df.loc[filt,['土地位置建物門牌','交易年月日','建築完成年月','建物現況格局-房','建物現況格局-廳','建物現況格局-衛','電梯','單價元平方公尺']]\n",
    "pre_df = df1.loc[:,['土地位置建物門牌','交易年月日','建築完成年月','建物現況格局-房','建物現況格局-廳','建物現況格局-衛','電梯','單價元平方公尺']]\n",
    "pre_df = pre_df.dropna()\n",
    "pre_df.info()"
   ]
  },
  {
   "cell_type": "code",
   "execution_count": 9,
   "id": "433f587d-9836-4526-881f-ee9dfe0096e5",
   "metadata": {},
   "outputs": [],
   "source": [
    "pre_df['屋齡']=pre_df['交易年月日'].str[0:3].astype(int)-pre_df['建築完成年月'].str[0:3].astype(int)"
   ]
  },
  {
   "cell_type": "code",
   "execution_count": 10,
   "id": "aef00539-ce9d-460a-8626-e47525749509",
   "metadata": {},
   "outputs": [],
   "source": [
    "pre_df['交易年份']=pre_df['交易年月日'].str[0:3]"
   ]
  },
  {
   "cell_type": "code",
   "execution_count": 11,
   "id": "3589cb91-3ebd-4e65-9ec7-d6fff6dc69ab",
   "metadata": {},
   "outputs": [
    {
     "name": "stdout",
     "output_type": "stream",
     "text": [
      "<class 'pandas.core.frame.DataFrame'>\n",
      "Int64Index: 71534 entries, 1 to 5798\n",
      "Data columns (total 8 columns):\n",
      " #   Column    Non-Null Count  Dtype \n",
      "---  ------    --------------  ----- \n",
      " 0   交易年份      71534 non-null  object\n",
      " 1   土地位置建物門牌  71534 non-null  object\n",
      " 2   屋齡        71534 non-null  int64 \n",
      " 3   建物現況格局-房  71534 non-null  object\n",
      " 4   建物現況格局-廳  71534 non-null  object\n",
      " 5   建物現況格局-衛  71534 non-null  object\n",
      " 6   電梯        71534 non-null  object\n",
      " 7   單價元平方公尺   71534 non-null  object\n",
      "dtypes: int64(1), object(7)\n",
      "memory usage: 4.9+ MB\n"
     ]
    }
   ],
   "source": [
    "pre_df = pre_df[['交易年份','土地位置建物門牌','屋齡','建物現況格局-房','建物現況格局-廳','建物現況格局-衛','電梯','單價元平方公尺']]\n",
    "pre_df.info()"
   ]
  },
  {
   "cell_type": "code",
   "execution_count": 12,
   "id": "8b142b04-7368-4720-81c6-b07e12349388",
   "metadata": {},
   "outputs": [],
   "source": [
    "pattern = r'[0-9]*?[零一二三四五六七八九十]*?[0-9]*?[零一二三四五六七八九十]{1}[0-9]*?[號]'\n",
    "pre_df['修正地址'] = pre_df['土地位置建物門牌'].str.contains(pattern,regex=True)\n",
    "pre_df['土地位置建物門牌'] = htf.h2f(pre_df['土地位置建物門牌'])\n",
    "pre_df.to_csv('pre_df.csv')"
   ]
  },
  {
   "cell_type": "code",
   "execution_count": null,
   "id": "316d76f5-8dd7-4f96-8ad8-91a911e70be7",
   "metadata": {},
   "outputs": [],
   "source": []
  },
  {
   "cell_type": "code",
   "execution_count": null,
   "id": "3b08fa2d-9465-4534-a29b-8ef59859aa32",
   "metadata": {},
   "outputs": [],
   "source": []
  },
  {
   "cell_type": "code",
   "execution_count": null,
   "id": "5c00d49e-8ebe-4de2-8882-4d5a795164a0",
   "metadata": {},
   "outputs": [],
   "source": [
    "wctc.write('pre_df.csv', 'pre_df_WGS84.csv', 2,9)"
   ]
  },
  {
   "cell_type": "code",
   "execution_count": null,
   "id": "3486d31c-544d-46fa-ac93-5ec0be52f46c",
   "metadata": {},
   "outputs": [],
   "source": []
  },
  {
   "cell_type": "code",
   "execution_count": null,
   "id": "00a0a444-9987-4815-8f6d-9d8471b7cec9",
   "metadata": {},
   "outputs": [],
   "source": [
    "df_final=pd.read_csv('pre_df_WGS84.csv',encoding='utf-8')\n",
    "geom = [Point(xy) for xy in zip(df_final.lon, df_final.lat)]\n",
    "crs = {'init': 'epsg:4326'}\n",
    "gf_final = gpd.GeoDataFrame(df_final, crs=crs, geometry=geom)\n",
    "gf_final = gf_final.to_crs(epsg=3826)\n",
    "gf_final['ID'] = gf_final.index\n",
    "gf_final = gf_final[['ID','交易年份','屋齡','建物現況格局-房','建物現況格局-廳','建物現況格局-衛','電梯','單價元平方公尺','geometry']]\n",
    "gf_final.info()\n",
    "gf_final.plot()"
   ]
  },
  {
   "cell_type": "code",
   "execution_count": null,
   "id": "79216d8b-e52e-4960-86c7-a90d0e1055b5",
   "metadata": {},
   "outputs": [],
   "source": [
    "df_house=pd.read_csv('pre_df_WGS84.csv',encoding='utf-8')\n",
    "geom = [Point(xy) for xy in zip(df_house.lon, df_house.lat)]\n",
    "crs = {'init': 'epsg:4326'}\n",
    "gf_house = gpd.GeoDataFrame(df_house, crs=crs, geometry=geom)\n",
    "gf_house = gf_house.to_crs(epsg=3826)\n",
    "gf_house['ID'] = gf_house.index\n",
    "gf_house = gf_house[['ID','交易年份','屋齡','建物現況格局-房','建物現況格局-廳','建物現況格局-衛','電梯','單價元平方公尺','geometry']]\n",
    "gf_house.info()\n",
    "gf_house.plot()"
   ]
  },
  {
   "cell_type": "code",
   "execution_count": null,
   "id": "9799736b-2e43-4824-9ad8-6fca22276a0b",
   "metadata": {},
   "outputs": [],
   "source": [
    "gf_house_buf = gf_house\n",
    "gf_house_buf['geometry'] = gf_house.buffer(500)\n",
    "gf_house_buf.plot(alpha=0.1)"
   ]
  },
  {
   "cell_type": "code",
   "execution_count": null,
   "id": "59a9a096-ac59-4bff-aba7-e0bfc11a1fd7",
   "metadata": {},
   "outputs": [],
   "source": [
    "df_hospital=pd.read_csv('./dataset/taiwan_hospital_getcoordinates.csv',encoding='utf-8')\n",
    "geom = [Point(xy) for xy in zip(df_hospital.lon, df_hospital.lat)]\n",
    "crs = {'init': 'epsg:4326'}\n",
    "gf_hospital = gpd.GeoDataFrame(df_hospital, crs=crs, geometry=geom)\n",
    "gf_hospital = gf_hospital.to_crs(epsg=3826)"
   ]
  },
  {
   "cell_type": "code",
   "execution_count": null,
   "id": "a625dcf6-ba20-426e-b498-f65569c4a79a",
   "metadata": {},
   "outputs": [],
   "source": [
    "df_cstore=pd.read_csv('./dataset/taiwan_convenience_store_getcoordinates.csv',encoding='utf-8')\n",
    "geom = [Point(xy) for xy in zip(df_cstore.lon, df_cstore.lat)]\n",
    "crs = {'init': 'epsg:4326'}\n",
    "gf_cstore = gpd.GeoDataFrame(df_cstore, crs=crs, geometry=geom)\n",
    "gf_cstore = gf_cstore.to_crs(epsg=3826)"
   ]
  },
  {
   "cell_type": "code",
   "execution_count": null,
   "id": "cc60e730-9108-4bf1-bef8-ca4ade0f4218",
   "metadata": {},
   "outputs": [],
   "source": [
    "# 讀取geojspn\n",
    "gf_cemetery = gpd.read_file(f'./dataset/cemetery.geojson', encoding = 'utf-8')\n",
    "gf_cemetery = gf_cemetery.to_crs(epsg=3826)\n",
    "\n",
    "gf_fire_station = gpd.read_file(f'./dataset/fire_station.geojson', encoding = 'utf-8')\n",
    "gf_fire_station = gf_fire_station.to_crs(epsg=3826)\n",
    "\n",
    "gf_fuel = gpd.read_file(f'./dataset/fuel.geojson', encoding = 'utf-8')\n",
    "gf_fuel = gf_fuel.to_crs(epsg=3826)\n",
    "\n",
    "gf_library = gpd.read_file(f'./dataset/library.geojson', encoding = 'utf-8')\n",
    "gf_library = gf_library.to_crs(epsg=3826)\n",
    "\n",
    "gf_marketplace = gpd.read_file(f'./dataset/marketplace.geojson', encoding = 'utf-8')\n",
    "gf_marketplace = gf_marketplace.to_crs(epsg=3826)\n",
    "\n",
    "gf_park = gpd.read_file(f'./dataset/park.geojson', encoding = 'utf-8')\n",
    "gf_park = gf_park.to_crs(epsg=3826)\n",
    "\n",
    "gf_parking = gpd.read_file(f'./dataset/parking.geojson', encoding = 'utf-8')\n",
    "gf_parking = gf_parking.to_crs(epsg=3826)\n",
    "\n",
    "gf_place_of_worship = gpd.read_file(f'./dataset/place_of_worship.geojson', encoding = 'utf-8')\n",
    "gf_place_of_worship = gf_place_of_worship.to_crs(epsg=3826)\n",
    "\n",
    "gf_police = gpd.read_file(f'./dataset/police.geojson', encoding = 'utf-8')\n",
    "gf_police = gf_police.to_crs(epsg=3826)\n",
    "\n",
    "gf_school = gpd.read_file(f'./dataset/school.geojson', encoding = 'utf-8')\n",
    "gf_school = gf_school.to_crs(epsg=3826)\n",
    "\n",
    "gf_station = gpd.read_file(f'./dataset/station.geojson', encoding = 'utf-8')\n",
    "gf_station = gf_station.to_crs(epsg=3826)\n",
    "\n",
    "gf_university = gpd.read_file(f'./dataset/university.geojson', encoding = 'utf-8')\n",
    "gf_university = gf_university.to_crs(epsg=3826)"
   ]
  },
  {
   "cell_type": "code",
   "execution_count": null,
   "id": "5cd0a4b6-4d80-462a-aa3b-3f856352d086",
   "metadata": {},
   "outputs": [],
   "source": [
    "gf_university.info()"
   ]
  },
  {
   "cell_type": "code",
   "execution_count": null,
   "id": "df28ef21-f8fc-4cfc-aa2f-f0884a0a4fff",
   "metadata": {},
   "outputs": [],
   "source": [
    "gf_university['geometry'] = gf_university.buffer(0.001)\n",
    "gf_university.plot()"
   ]
  },
  {
   "cell_type": "code",
   "execution_count": null,
   "id": "45af1614-60f7-421c-ab3c-e8774606225d",
   "metadata": {},
   "outputs": [],
   "source": [
    "intersection = gpd.overlay(gf_house_buf,gf_university,  how='intersection', keep_geom_type=True)\n",
    "#intersection['PARKING_AREA'] = intersection['geometry'].area\n",
    "intersection_count = intersection.groupby('ID').agg({'id':'count'})\n",
    "#intersection_count = intersection.groupby('ID').agg({'PARKING_AREA':'sum'})\n",
    "intersection_count"
   ]
  },
  {
   "cell_type": "code",
   "execution_count": null,
   "id": "e4e81e8f-0daa-4214-8e15-c531fb4b1aa5",
   "metadata": {},
   "outputs": [],
   "source": [
    "gf_final = gf_final.merge(intersection_count,how='left', left_on='ID', right_on='ID')"
   ]
  },
  {
   "cell_type": "code",
   "execution_count": null,
   "id": "2b1c0b0e-3ceb-4082-9353-b03ed6e9e8b3",
   "metadata": {},
   "outputs": [],
   "source": [
    "gf_final.rename(columns={'id': 'NEAR_UNIVERSITY'}, inplace=True)\n",
    "gf_final.loc[gf_final['NEAR_UNIVERSITY']>0, 'NEAR_UNIVERSITY'] = 1\n",
    "gf_final['NEAR_UNIVERSITY'] = gf_final['NEAR_UNIVERSITY'].fillna(0)\n",
    "print(gf_final.info())\n",
    "gf_final"
   ]
  },
  {
   "cell_type": "code",
   "execution_count": null,
   "id": "59565b6e-f721-486a-b341-513c63a3ac11",
   "metadata": {},
   "outputs": [],
   "source": [
    "gf_final.loc[gf_final['電梯']=='有', '電梯'] = 1\n",
    "gf_final.loc[gf_final['電梯']=='無', '電梯'] = 0\n",
    "gf_final"
   ]
  },
  {
   "cell_type": "code",
   "execution_count": null,
   "id": "7f0df25b-077a-4b6e-ab2b-5d08c4c7437a",
   "metadata": {},
   "outputs": [],
   "source": [
    "gf_final = gf_final[['交易年份','屋齡','建物現況格局-房','建物現況格局-廳','建物現況格局-衛','電梯','HOSPITAL_COUNT','CSTORE_COUNT','NEAR_UNIVERSITY','NEAR_FIRESTATION','NEAR_FUEL','NEAR_LIBRARY','NEAR_MARKET','PARK_AREA','PARKING_AREA','TEMPLE_COUNT','NEAR_POLICE','NEAR_SCHOOL','NEAR_STATION','單價元平方公尺']]\n",
    "gf_final.to_csv('final_df.csv')"
   ]
  },
  {
   "cell_type": "code",
   "execution_count": null,
   "id": "06a2956f-769d-42b8-be37-062468934f92",
   "metadata": {},
   "outputs": [],
   "source": []
  }
 ],
 "metadata": {
  "kernelspec": {
   "display_name": "Python 3 (ipykernel)",
   "language": "python",
   "name": "python3"
  },
  "language_info": {
   "codemirror_mode": {
    "name": "ipython",
    "version": 3
   },
   "file_extension": ".py",
   "mimetype": "text/x-python",
   "name": "python",
   "nbconvert_exporter": "python",
   "pygments_lexer": "ipython3",
   "version": "3.10.4"
  }
 },
 "nbformat": 4,
 "nbformat_minor": 5
}
