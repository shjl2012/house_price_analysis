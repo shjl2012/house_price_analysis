{
 "cells": [
  {
   "cell_type": "code",
   "execution_count": null,
   "id": "1e76624b-01a6-4826-b238-994c7644c1d0",
   "metadata": {},
   "outputs": [],
   "source": [
    "import pandas as pd\n",
    "import geopandas as gpd"
   ]
  },
  {
   "cell_type": "code",
   "execution_count": null,
   "id": "7a4acb39-b9cc-4725-ad2f-262924299cc1",
   "metadata": {},
   "outputs": [],
   "source": [
    "gf = gpd.read_file('realprice.geojson', encoding = 'utf-8')\n",
    "gf_250 = gpd.read_file('realprice.geojson', encoding = 'utf-8')\n",
    "gf_500 = gpd.read_file('realprice.geojson', encoding = 'utf-8')\n",
    "gf_750 = gpd.read_file('realprice.geojson', encoding = 'utf-8')\n",
    "gf_250['geometry'] = gf_250.buffer(250)\n",
    "gf_500['geometry'] = gf_250.buffer(500)\n",
    "gf_750['geometry'] = gf_250.buffer(750)"
   ]
  },
  {
   "cell_type": "code",
   "execution_count": null,
   "id": "13eb1c0c-ed60-450d-a305-9823e0102a9c",
   "metadata": {},
   "outputs": [],
   "source": [
    "# 醫療設施medical_facilities\n",
    "near_hospital = gpd.read_file('./medical_facilities/hospital.geojson', encoding = 'utf-8') # point\n",
    "clinic_count = gpd.read_file('./medical_facilities/clinic.geojson', encoding = 'utf-8') # point\n",
    "dentist_count = gpd.read_file('./medical_facilities/dentist.geojson', encoding = 'utf-8') # point\n",
    "pharmacy_count = gpd.read_file('./medical_facilities/pharmacy.geojson', encoding = 'utf-8') # point\n",
    "# 經濟指標economic_indicators\n",
    "cstore_count = gpd.read_file('./economic_indicators/conveniencestore.geojson', encoding = 'utf-8') # point\n",
    "fastfood_count = gpd.read_file('./economic_indicators/fastfood.geojson', encoding = 'utf-8') # polygon\n",
    "# 教育資源educational_resources\n",
    "library_count = gpd.read_file('./educational_resources/library.geojson', encoding = 'utf-8') # polygon\n",
    "near_school = gpd.read_file('./educational_resources/school.geojson', encoding = 'utf-8') # polygon\n",
    "near_university = gpd.read_file('./educational_resources/university.geojson', encoding = 'utf-8') # polygon\n",
    "# 公共安全public_safety\n",
    "near_firestation = gpd.read_file('./public_safety/firestation.geojson', encoding = 'utf-8') # point\n",
    "near_fuel = gpd.read_file('./public_safety/fuel.geojson', encoding = 'utf-8') # polygon\n",
    "near_market = gpd.read_file('./public_safety/market.geojson', encoding = 'utf-8') # polygon\n",
    "near_police = gpd.read_file('./public_safety/police.geojson', encoding = 'utf-8') # point\n",
    "temple_count = gpd.read_file('./public_safety/placeofworkship.geojson', encoding = 'utf-8') # polygon\n",
    "# 自然環境natural_environment\n",
    "cemetery_area = gpd.read_file('./natural_environment/cemetery.geojson', encoding = 'utf-8') # polygon\n",
    "park_area = gpd.read_file('./natural_environment/park.geojson', encoding = 'utf-8') # polygon\n",
    "river_area = gpd.read_file('./natural_environment/river_TW.geojson', encoding = 'utf-8') # polygon\n",
    "# 交通運輸transportation\n",
    "stop_count = gpd.read_file('./transportation/busstop.geojson', encoding = 'utf-8') # point\n",
    "near_lrt = gpd.read_file('./transportation/LRT.geojson', encoding = 'utf-8') # point\n",
    "near_mrt = gpd.read_file('./transportation/MRT.geojson', encoding = 'utf-8') # point\n",
    "near_tra = gpd.read_file('./transportation/TRA.geojson', encoding = 'utf-8') # point\n",
    "parking_area = gpd.read_file('./transportation/parking.geojson', encoding = 'utf-8') # polygon"
   ]
  },
  {
   "cell_type": "code",
   "execution_count": null,
   "id": "ea4cf613-adab-4771-ab04-5eafaebfd246",
   "metadata": {},
   "outputs": [],
   "source": [
    "temp_gf = gpd.sjoin(gf_750, clinic_count, how='inner')\n",
    "#temp_gf = temp_gf.groupby(temp_gf.index)\n",
    "temp_gf = temp_gf.groupby(temp_gf.index).agg({'機構名稱':'count'})\n",
    "print(temp_gf)\n",
    "#temp_gf = temp_gf.first()[['機構名稱']]\n",
    "temp_gf.rename(columns={'機構名稱': 'CLINIC_COUNT_750M'}, inplace=True)\n",
    "#clinic_count.head()\n",
    "#intersection = gpd.overlay(gf_250, clinic_count,  how='intersection', keep_geom_type=True)\n",
    "#print(intersection)\n",
    "#intersection_count = intersection.groupby(intersection.index).agg({'機構名稱':'count'})\n",
    "#print(intersection_count)"
   ]
  },
  {
   "cell_type": "code",
   "execution_count": null,
   "id": "ce4e32df-d5da-4db7-aa4a-d694721f1eb7",
   "metadata": {},
   "outputs": [],
   "source": [
    "gf = gf.join(temp_gf)\n",
    "#gf.loc[gf['NEAR_HOSTIPAL_750M'].notnull(), 'NEAR_HOSTIPAL_750M'] = 1\n",
    "#gf.loc[gf['NEAR_HOSTIPAL_750M'].isnull(), 'NEAR_HOSTIPAL_750M'] = 0\n",
    "gf"
   ]
  },
  {
   "cell_type": "code",
   "execution_count": null,
   "id": "148f8235-04a8-438b-a2e4-9f3620726b90",
   "metadata": {},
   "outputs": [],
   "source": []
  },
  {
   "cell_type": "markdown",
   "id": "77d33a4f-faf3-4136-b788-8f24c1c8a068",
   "metadata": {},
   "source": [
    "# 環域分析實價登錄資料-建置模型特徵資料"
   ]
  },
  {
   "cell_type": "code",
   "execution_count": 1,
   "id": "420503dc-c8cd-4082-a541-95e5411624fb",
   "metadata": {},
   "outputs": [],
   "source": [
    "import sys, os\n",
    "sys.path.append(\"..\")\n",
    "import my_function.buffer_analysis as bas"
   ]
  },
  {
   "cell_type": "code",
   "execution_count": 2,
   "id": "f633833c-78cb-449e-b26c-838e09c2b861",
   "metadata": {},
   "outputs": [
    {
     "name": "stdout",
     "output_type": "stream",
     "text": [
      "      鄉鎮市區  交易年份    屋齡 交易標的  建物現況格局-房  建物現況格局-廳  建物現況格局-衛 車位類別 電梯  floor  ...  \\\n",
      "0      文山區   107   3.0    1         3         2         2    1  1     24  ...   \n",
      "1      萬華區   107   2.0    1         3         2         2    1  1     12  ...   \n",
      "2      大同區   108   1.0    0         4         2         2    0  1      4  ...   \n",
      "3      大同區   108   1.0    1         4         2         2    1  1     10  ...   \n",
      "4      大同區   108   1.0    1         4         2         2    1  1      5  ...   \n",
      "...    ...   ...   ...  ...       ...       ...       ...  ... ..    ...  ...   \n",
      "42875  中正區   109  16.0    1         3         2         2    1  1      9  ...   \n",
      "42876  文山區   109   6.0    1         3         2         2    1  1     19  ...   \n",
      "42877  文山區   109  38.0    0         3         1         1    0  0      1  ...   \n",
      "42878  文山區   109  29.0    0         3         1         1    0  1      6  ...   \n",
      "42879  文山區   109  41.0    0         3         2         1    0  0      3  ...   \n",
      "\n",
      "       CLINIC_COUNT_750 DENTIST_COUNT_250 DENTIST_COUNT_500 DENTIST_COUNT_750  \\\n",
      "0                  47.0              10.0              17.0              32.0   \n",
      "1                  63.0               3.0              22.0              33.0   \n",
      "2                 108.0               7.0              31.0              56.0   \n",
      "3                 108.0               7.0              31.0              56.0   \n",
      "4                 108.0               7.0              31.0              56.0   \n",
      "...                 ...               ...               ...               ...   \n",
      "42875              75.0               8.0              56.0              65.0   \n",
      "42876              32.0               3.0              15.0              27.0   \n",
      "42877              39.0               3.0              16.0              30.0   \n",
      "42878              54.0               1.0              22.0              32.0   \n",
      "42879              40.0               2.0              20.0              30.0   \n",
      "\n",
      "      PHARMACY_COUNT_250  PHARMACY_COUNT_500  PHARMACY_COUNT_750  \\\n",
      "0                    5.0                11.0                17.0   \n",
      "1                    3.0                12.0                23.0   \n",
      "2                    2.0                14.0                24.0   \n",
      "3                    2.0                14.0                24.0   \n",
      "4                    2.0                14.0                24.0   \n",
      "...                  ...                 ...                 ...   \n",
      "42875                1.0                15.0                22.0   \n",
      "42876                7.0                15.0                18.0   \n",
      "42877                2.0                10.0                19.0   \n",
      "42878                1.0                17.0                21.0   \n",
      "42879                2.0                14.0                20.0   \n",
      "\n",
      "       CSTORE_COUNT_250  CSTORE_COUNT_500  CSTORE_COUNT_750  \n",
      "0                  11.0              32.0              50.0  \n",
      "1                   9.0              36.0              68.0  \n",
      "2                   5.0              36.0              80.0  \n",
      "3                   5.0              36.0              80.0  \n",
      "4                   5.0              36.0              80.0  \n",
      "...                 ...               ...               ...  \n",
      "42875               3.0              38.0              52.0  \n",
      "42876               6.0              28.0              38.0  \n",
      "42877               4.0              23.0              37.0  \n",
      "42878               0.0              35.0              44.0  \n",
      "42879               5.0              24.0              37.0  \n",
      "\n",
      "[42880 rows x 27 columns]\n"
     ]
    }
   ],
   "source": [
    "bas.buffer_analysis('realprice.geojson', '../dataset/TPE_model_features.csv', './')"
   ]
  }
 ],
 "metadata": {
  "kernelspec": {
   "display_name": "Python 3 (ipykernel)",
   "language": "python",
   "name": "python3"
  },
  "language_info": {
   "codemirror_mode": {
    "name": "ipython",
    "version": 3
   },
   "file_extension": ".py",
   "mimetype": "text/x-python",
   "name": "python",
   "nbconvert_exporter": "python",
   "pygments_lexer": "ipython3",
   "version": "3.10.4"
  }
 },
 "nbformat": 4,
 "nbformat_minor": 5
}
