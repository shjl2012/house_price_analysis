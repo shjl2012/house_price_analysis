{
 "cells": [
  {
   "cell_type": "markdown",
   "id": "cf448d1d-c1d2-43ed-bd07-6fe6c0276070",
   "metadata": {},
   "source": [
    "# 處理房屋周遭環境資料(政府開放資料)"
   ]
  },
  {
   "cell_type": "code",
   "execution_count": 3,
   "id": "2d5aa800-00c5-459f-a127-7fd1df7db754",
   "metadata": {},
   "outputs": [
    {
     "name": "stderr",
     "output_type": "stream",
     "text": [
      "Error occurred during loading data. Trying to use cache server https://fake-useragent.herokuapp.com/browsers/0.1.11\n",
      "Traceback (most recent call last):\n",
      "  File \"C:\\Users\\tazz4\\anaconda3\\envs\\ox\\lib\\site-packages\\fake_useragent\\utils.py\", line 154, in load\n",
      "    for item in get_browsers(verify_ssl=verify_ssl):\n",
      "  File \"C:\\Users\\tazz4\\anaconda3\\envs\\ox\\lib\\site-packages\\fake_useragent\\utils.py\", line 99, in get_browsers\n",
      "    html = html.split('<table class=\"w3-table-all notranslate\">')[1]\n",
      "IndexError: list index out of range\n"
     ]
    },
    {
     "name": "stdout",
     "output_type": "stream",
     "text": [
      "Pandas version:  1.4.3\n",
      "Geopandas version:  0.11.1\n"
     ]
    }
   ],
   "source": [
    "import pandas as pd\n",
    "import geopandas as gpd\n",
    "import csv\n",
    "import re\n",
    "from shapely.geometry import Point\n",
    "\n",
    "import sys, os\n",
    "sys.path.append(\"..\")\n",
    "import my_function.full_to_half as htf\n",
    "import my_function.write_coordinate_to_csv as wctc\n",
    "print('Pandas version: ', pd.__version__)\n",
    "print('Geopandas version: ', gpd.__version__)"
   ]
  },
  {
   "cell_type": "code",
   "execution_count": null,
   "id": "cd95d4fc-bbcc-4cf4-a825-afeae099456b",
   "metadata": {},
   "outputs": [],
   "source": [
    "# 開放資料地址轉坐標\n",
    "df = pd.read_csv(r'../rawdata/medical_facilities/pharmacy.csv', encoding = 'utf-8')\n",
    "df.head()"
   ]
  },
  {
   "cell_type": "code",
   "execution_count": null,
   "id": "86c3757c-046f-438a-a07e-8b4bca3222ad",
   "metadata": {},
   "outputs": [],
   "source": [
    "pattern = r'[0-9]*?[零一二三四五六七八九十]*?[0-9]*?[零一二三四五六七八九十]{1}[0-9]*?[號]'\n",
    "df['地址'] = df['地址縣市別'] + df['地址鄉鎮市區'] + df['地址街道巷弄號']"
   ]
  },
  {
   "cell_type": "code",
   "execution_count": null,
   "id": "48f7cc29-eba5-48aa-a338-7e0920801bf3",
   "metadata": {},
   "outputs": [],
   "source": [
    "df.head()"
   ]
  },
  {
   "cell_type": "code",
   "execution_count": null,
   "id": "f15d52ca-7185-45b5-8ad2-45d495b18cb8",
   "metadata": {},
   "outputs": [],
   "source": [
    "df['修正地址'] = df['地址'].str.contains(pattern,regex=True)\n",
    "df.head()"
   ]
  },
  {
   "cell_type": "code",
   "execution_count": null,
   "id": "47cbf332-fb0c-46d8-8a79-1e52a756d17e",
   "metadata": {},
   "outputs": [],
   "source": [
    "df['地址'] = htf.h2f(df['地址'])\n",
    "df.to_csv('../rawdata/medical_facilities/pre_pharmacy.csv')"
   ]
  },
  {
   "cell_type": "code",
   "execution_count": null,
   "id": "815e0b0c-30be-4c3a-8bc2-47436fdfa5e9",
   "metadata": {},
   "outputs": [],
   "source": [
    "wctc.write('../rawdata/medical_facilities/pre_pharmacy.csv', 'pharmacy_WGS84.csv', 10, 11)"
   ]
  },
  {
   "cell_type": "code",
   "execution_count": 9,
   "id": "087bf24b-2e5a-4fe7-baaf-4dc1a69a68ee",
   "metadata": {},
   "outputs": [
    {
     "name": "stdout",
     "output_type": "stream",
     "text": [
      "<class 'pandas.core.frame.DataFrame'>\n",
      "RangeIndex: 23302 entries, 0 to 23301\n",
      "Data columns (total 8 columns):\n",
      " #   Column  Non-Null Count  Dtype  \n",
      "---  ------  --------------  -----  \n",
      " 0   欄1      23302 non-null  int64  \n",
      " 1   機構名稱    23302 non-null  object \n",
      " 2   權屬別     23302 non-null  object \n",
      " 3   型態別     23302 non-null  object \n",
      " 4   地址      23302 non-null  object \n",
      " 5   修正地址    23302 non-null  bool   \n",
      " 6   lon     23193 non-null  object \n",
      " 7   lat     23191 non-null  float64\n",
      "dtypes: bool(1), float64(1), int64(1), object(5)\n",
      "memory usage: 1.3+ MB\n"
     ]
    },
    {
     "data": {
      "text/html": [
       "<div>\n",
       "<style scoped>\n",
       "    .dataframe tbody tr th:only-of-type {\n",
       "        vertical-align: middle;\n",
       "    }\n",
       "\n",
       "    .dataframe tbody tr th {\n",
       "        vertical-align: top;\n",
       "    }\n",
       "\n",
       "    .dataframe thead th {\n",
       "        text-align: right;\n",
       "    }\n",
       "</style>\n",
       "<table border=\"1\" class=\"dataframe\">\n",
       "  <thead>\n",
       "    <tr style=\"text-align: right;\">\n",
       "      <th></th>\n",
       "      <th>欄1</th>\n",
       "      <th>機構名稱</th>\n",
       "      <th>權屬別</th>\n",
       "      <th>型態別</th>\n",
       "      <th>地址</th>\n",
       "      <th>修正地址</th>\n",
       "      <th>lon</th>\n",
       "      <th>lat</th>\n",
       "    </tr>\n",
       "  </thead>\n",
       "  <tbody>\n",
       "    <tr>\n",
       "      <th>0</th>\n",
       "      <td>15082</td>\n",
       "      <td>金門縣烈嶼鄉衛生所</td>\n",
       "      <td>衛生所</td>\n",
       "      <td>衛生所</td>\n",
       "      <td>金門縣烈嶼鄉西口村西方6-5號</td>\n",
       "      <td>False</td>\n",
       "      <td>118.2395729</td>\n",
       "      <td>24.435179</td>\n",
       "    </tr>\n",
       "    <tr>\n",
       "      <th>1</th>\n",
       "      <td>21791</td>\n",
       "      <td>十方牙醫診所</td>\n",
       "      <td>私立牙醫診所</td>\n",
       "      <td>牙醫診所</td>\n",
       "      <td>金門縣烈嶼鄉西路35-3號</td>\n",
       "      <td>False</td>\n",
       "      <td>118.245518</td>\n",
       "      <td>24.430369</td>\n",
       "    </tr>\n",
       "    <tr>\n",
       "      <th>2</th>\n",
       "      <td>19300</td>\n",
       "      <td>安康診所</td>\n",
       "      <td>私立西醫診所</td>\n",
       "      <td>西醫診所</td>\n",
       "      <td>金門縣烈嶼鄉東林街163號</td>\n",
       "      <td>False</td>\n",
       "      <td>118.2484485</td>\n",
       "      <td>24.427585</td>\n",
       "    </tr>\n",
       "    <tr>\n",
       "      <th>3</th>\n",
       "      <td>11720</td>\n",
       "      <td>大千牙醫診所</td>\n",
       "      <td>私立牙醫診所</td>\n",
       "      <td>牙醫診所</td>\n",
       "      <td>金門縣金城鎮民權路23號</td>\n",
       "      <td>False</td>\n",
       "      <td>118.3138066</td>\n",
       "      <td>24.431652</td>\n",
       "    </tr>\n",
       "    <tr>\n",
       "      <th>4</th>\n",
       "      <td>17554</td>\n",
       "      <td>健康診所</td>\n",
       "      <td>私立西醫診所</td>\n",
       "      <td>西醫診所</td>\n",
       "      <td>金門縣金城鎮民權路27號3F</td>\n",
       "      <td>False</td>\n",
       "      <td>118.313809</td>\n",
       "      <td>24.431726</td>\n",
       "    </tr>\n",
       "  </tbody>\n",
       "</table>\n",
       "</div>"
      ],
      "text/plain": [
       "      欄1       機構名稱     權屬別   型態別               地址   修正地址          lon  \\\n",
       "0  15082  金門縣烈嶼鄉衛生所     衛生所   衛生所  金門縣烈嶼鄉西口村西方6-5號  False  118.2395729   \n",
       "1  21791     十方牙醫診所  私立牙醫診所  牙醫診所    金門縣烈嶼鄉西路35-3號  False   118.245518   \n",
       "2  19300       安康診所  私立西醫診所  西醫診所    金門縣烈嶼鄉東林街163號  False  118.2484485   \n",
       "3  11720     大千牙醫診所  私立牙醫診所  牙醫診所     金門縣金城鎮民權路23號  False  118.3138066   \n",
       "4  17554       健康診所  私立西醫診所  西醫診所   金門縣金城鎮民權路27號3F  False   118.313809   \n",
       "\n",
       "         lat  \n",
       "0  24.435179  \n",
       "1  24.430369  \n",
       "2  24.427585  \n",
       "3  24.431652  \n",
       "4  24.431726  "
      ]
     },
     "execution_count": 9,
     "metadata": {},
     "output_type": "execute_result"
    }
   ],
   "source": [
    "df = pd.read_csv('../rawdata/medical_facilities/taiwan_hospital_getcoordinates0812.csv', encoding = 'utf-8')\n",
    "df.info()\n",
    "df.head()"
   ]
  },
  {
   "cell_type": "code",
   "execution_count": 10,
   "id": "34ae4bdd-9227-4614-9162-be8c931b1b3b",
   "metadata": {},
   "outputs": [
    {
     "name": "stderr",
     "output_type": "stream",
     "text": [
      "C:\\Users\\tazz4\\anaconda3\\envs\\ox\\lib\\site-packages\\pyproj\\crs\\crs.py:130: FutureWarning: '+init=<authority>:<code>' syntax is deprecated. '<authority>:<code>' is the preferred initialization method. When making the change, be mindful of axis order changes: https://pyproj4.github.io/pyproj/stable/gotchas.html#axis-order-changes-in-proj-6\n",
      "  in_crs_string = _prepare_from_proj_string(in_crs_string)\n"
     ]
    },
    {
     "name": "stdout",
     "output_type": "stream",
     "text": [
      "<class 'geopandas.geodataframe.GeoDataFrame'>\n",
      "Int64Index: 23193 entries, 0 to 23279\n",
      "Data columns (total 9 columns):\n",
      " #   Column    Non-Null Count  Dtype   \n",
      "---  ------    --------------  -----   \n",
      " 0   欄1        23193 non-null  int64   \n",
      " 1   機構名稱      23193 non-null  object  \n",
      " 2   權屬別       23193 non-null  object  \n",
      " 3   型態別       23193 non-null  object  \n",
      " 4   地址        23193 non-null  object  \n",
      " 5   修正地址      23193 non-null  bool    \n",
      " 6   lon       23191 non-null  float64 \n",
      " 7   lat       23191 non-null  float64 \n",
      " 8   geometry  23193 non-null  geometry\n",
      "dtypes: bool(1), float64(2), geometry(1), int64(1), object(4)\n",
      "memory usage: 1.6+ MB\n"
     ]
    }
   ],
   "source": [
    "df = df.dropna(subset=[\"lon\"])\n",
    "df['lon'] = pd.to_numeric(df['lon'],errors='coerce')\n",
    "df['lat'] = pd.to_numeric(df['lat'],errors='coerce')\n",
    "geom = [Point(xy) for xy in zip(df['lon'], df['lat'])]\n",
    "crs = {'init': 'epsg:4326'}\n",
    "#crs = {'init': 'epsg:3826'}\n",
    "gf = gpd.GeoDataFrame(df, crs=crs, geometry=geom)\n",
    "gf = gf.to_crs(epsg=3826)\n",
    "gf.info()"
   ]
  },
  {
   "cell_type": "code",
   "execution_count": 11,
   "id": "9a98261f-5d8e-4175-b92c-ad951278d7a9",
   "metadata": {},
   "outputs": [],
   "source": [
    "#gf = gf[['機構名稱', 'geometry']]\n",
    "#filt = (gf['型態別'].str.contains('中醫', na=False)) | (gf['型態別'].str.contains('西醫', na=False))\n",
    "filt = (gf['型態別'].str.contains('醫院', na=False))\n",
    "gf = gf.loc[filt,['機構名稱', '型態別', 'geometry']]\n",
    "#gf = gf[['中文單位名稱','POINT_X','POINT_Y', 'geometry']]\n",
    "gf.to_file(f'./medical_facilities/taiwan_hospital_getcoordinates0812' + \".geojson\", driver='GeoJSON')"
   ]
  },
  {
   "cell_type": "code",
   "execution_count": null,
   "id": "9d0479f4-70fe-4bf6-aa35-fa15b763a895",
   "metadata": {},
   "outputs": [],
   "source": []
  }
 ],
 "metadata": {
  "kernelspec": {
   "display_name": "Python 3 (ipykernel)",
   "language": "python",
   "name": "python3"
  },
  "language_info": {
   "codemirror_mode": {
    "name": "ipython",
    "version": 3
   },
   "file_extension": ".py",
   "mimetype": "text/x-python",
   "name": "python",
   "nbconvert_exporter": "python",
   "pygments_lexer": "ipython3",
   "version": "3.10.5"
  }
 },
 "nbformat": 4,
 "nbformat_minor": 5
}
