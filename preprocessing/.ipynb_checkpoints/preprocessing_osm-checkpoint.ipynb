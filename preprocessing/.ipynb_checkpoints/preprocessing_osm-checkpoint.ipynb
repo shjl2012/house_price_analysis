{
 "cells": [
  {
   "cell_type": "markdown",
   "id": "5260d92b-907d-48af-b7c1-018c61ab9475",
   "metadata": {},
   "source": [
    "# 處理房屋周遭環境資料(openstreetmap data)"
   ]
  },
  {
   "cell_type": "code",
   "execution_count": 1,
   "id": "723c18db-071a-48f8-b1d9-5c3c99adf81d",
   "metadata": {},
   "outputs": [],
   "source": [
    "import sys, os\n",
    "import geopandas as gpd\n",
    "sys.path.append(\"..\")\n",
    "import python.concat_geojson as cg"
   ]
  },
  {
   "cell_type": "code",
   "execution_count": 2,
   "id": "fe99183e-d351-4cb9-83f8-d1c09c37bdfc",
   "metadata": {},
   "outputs": [
    {
     "name": "stdout",
     "output_type": "stream",
     "text": [
      "placeofworkship_a_ILA.geojson a\n",
      "placeofworkship_p_KEL.geojson p\n",
      "placeofworkship_p_TPE.geojson p\n",
      "placeofworkship_p_TYN.geojson p\n",
      "placeofworkship_a_TPE.geojson a\n",
      "placeofworkship_a_TYN.geojson a\n",
      "placeofworkship_a_NTPC.geojson a\n",
      "placeofworkship_a_KEL.geojson a\n",
      "placeofworkship_p_ILA.geojson p\n",
      "placeofworkship_p_NTPC.geojson p\n"
     ]
    },
    {
     "name": "stderr",
     "output_type": "stream",
     "text": [
      "/home/ubuntuosmnx/house_price_prediction/preprocessing/../python/concat_geojson.py:49: PerformanceWarning: DataFrame is highly fragmented.  This is usually the result of calling `frame.insert` many times, which has poor performance.  Consider joining all columns at once using pd.concat(axis=1) instead. To get a de-fragmented frame, use `newframe = frame.copy()`\n",
      "  gf.reset_index(inplace=True, drop=False)\n"
     ]
    },
    {
     "name": "stdout",
     "output_type": "stream",
     "text": [
      "<class 'geopandas.geodataframe.GeoDataFrame'>\n",
      "Int64Index: 3811 entries, 0 to 1746\n",
      "Data columns (total 4 columns):\n",
      " #   Column    Non-Null Count  Dtype   \n",
      "---  ------    --------------  -----   \n",
      " 0   full_id   3811 non-null   object  \n",
      " 1   name      3519 non-null   object  \n",
      " 2   religion  1891 non-null   object  \n",
      " 3   geometry  3811 non-null   geometry\n",
      "dtypes: geometry(1), object(3)\n",
      "memory usage: 148.9+ KB\n"
     ]
    },
    {
     "data": {
      "image/png": "[encoded data removed]",
      "text/plain": [
       "<Figure size 432x288 with 1 Axes>"
      ]
     },
     "metadata": {
      "needs_background": "light"
     },
     "output_type": "display_data"
    }
   ],
   "source": [
    "# 將同類型設施結合成同樣型式之圖層\n",
    "fpath = r'../rawdata/public_safety/'\n",
    "facility = 'placeofworkship'\n",
    "#facility2 = 'lake_TW'\n",
    "cg.c_geojson(fpath, facility)\n",
    "#cg.c_2_geojson(fpath, facility, facility2)"
   ]
  },
  {
   "cell_type": "code",
   "execution_count": 4,
   "id": "44d6f9d6-9d40-4dad-86c6-39474f3fcb0f",
   "metadata": {},
   "outputs": [
    {
     "name": "stdout",
     "output_type": "stream",
     "text": [
      "<class 'geopandas.geodataframe.GeoDataFrame'>\n",
      "RangeIndex: 3811 entries, 0 to 3810\n",
      "Data columns (total 4 columns):\n",
      " #   Column    Non-Null Count  Dtype   \n",
      "---  ------    --------------  -----   \n",
      " 0   full_id   3811 non-null   object  \n",
      " 1   name      3519 non-null   object  \n",
      " 2   religion  1891 non-null   object  \n",
      " 3   geometry  3811 non-null   geometry\n",
      "dtypes: geometry(1), object(3)\n",
      "memory usage: 119.2+ KB\n"
     ]
    }
   ],
   "source": [
    "# 讀取geojson並過濾\n",
    "gf = gpd.read_file(f'./placeofworkship.geojson', encoding = 'utf-8')\n",
    "gf = gf.to_crs(epsg=3826)\n",
    "gf.info()"
   ]
  },
  {
   "cell_type": "code",
   "execution_count": 5,
   "id": "1df1e6c9-7a14-4436-8490-ae9d42d2ce72",
   "metadata": {},
   "outputs": [
    {
     "data": {
      "text/html": [
       "<div>\n",
       "<style scoped>\n",
       "    .dataframe tbody tr th:only-of-type {\n",
       "        vertical-align: middle;\n",
       "    }\n",
       "\n",
       "    .dataframe tbody tr th {\n",
       "        vertical-align: top;\n",
       "    }\n",
       "\n",
       "    .dataframe thead th {\n",
       "        text-align: right;\n",
       "    }\n",
       "</style>\n",
       "<table border=\"1\" class=\"dataframe\">\n",
       "  <thead>\n",
       "    <tr style=\"text-align: right;\">\n",
       "      <th></th>\n",
       "      <th>full_id</th>\n",
       "      <th>name</th>\n",
       "      <th>geometry</th>\n",
       "    </tr>\n",
       "  </thead>\n",
       "  <tbody>\n",
       "    <tr>\n",
       "      <th>0</th>\n",
       "      <td>w145583328</td>\n",
       "      <td>None</td>\n",
       "      <td>MULTIPOLYGON (((336110.308 2720906.097, 336126...</td>\n",
       "    </tr>\n",
       "    <tr>\n",
       "      <th>1</th>\n",
       "      <td>w145583331</td>\n",
       "      <td>晉安宮</td>\n",
       "      <td>MULTIPOLYGON (((336129.583 2721263.343, 336134...</td>\n",
       "    </tr>\n",
       "    <tr>\n",
       "      <th>2</th>\n",
       "      <td>w145583339</td>\n",
       "      <td>None</td>\n",
       "      <td>MULTIPOLYGON (((336135.949 2720873.989, 336144...</td>\n",
       "    </tr>\n",
       "    <tr>\n",
       "      <th>3</th>\n",
       "      <td>w176673018</td>\n",
       "      <td>振安宮</td>\n",
       "      <td>MULTIPOLYGON (((332056.463 2724615.111, 332067...</td>\n",
       "    </tr>\n",
       "    <tr>\n",
       "      <th>4</th>\n",
       "      <td>w184592467</td>\n",
       "      <td>普陀巖</td>\n",
       "      <td>MULTIPOLYGON (((345329.289 2748626.640, 345329...</td>\n",
       "    </tr>\n",
       "    <tr>\n",
       "      <th>...</th>\n",
       "      <td>...</td>\n",
       "      <td>...</td>\n",
       "      <td>...</td>\n",
       "    </tr>\n",
       "    <tr>\n",
       "      <th>3805</th>\n",
       "      <td>n9926596659</td>\n",
       "      <td>有應祠</td>\n",
       "      <td>POLYGON ((332868.599 2777913.885, 332868.599 2...</td>\n",
       "    </tr>\n",
       "    <tr>\n",
       "      <th>3806</th>\n",
       "      <td>n9932061083</td>\n",
       "      <td>土地公廟</td>\n",
       "      <td>POLYGON ((293032.832 2785347.565, 293032.832 2...</td>\n",
       "    </tr>\n",
       "    <tr>\n",
       "      <th>3808</th>\n",
       "      <td>n9932969712</td>\n",
       "      <td>板橋北極壇</td>\n",
       "      <td>POLYGON ((296113.705 2767505.363, 296113.705 2...</td>\n",
       "    </tr>\n",
       "    <tr>\n",
       "      <th>3809</th>\n",
       "      <td>n9933611235</td>\n",
       "      <td>None</td>\n",
       "      <td>POLYGON ((292310.809 2783889.005, 292310.809 2...</td>\n",
       "    </tr>\n",
       "    <tr>\n",
       "      <th>3810</th>\n",
       "      <td>n9942307378</td>\n",
       "      <td>聖航宮</td>\n",
       "      <td>POLYGON ((298609.610 2768481.191, 298609.610 2...</td>\n",
       "    </tr>\n",
       "  </tbody>\n",
       "</table>\n",
       "<p>3310 rows × 3 columns</p>\n",
       "</div>"
      ],
      "text/plain": [
       "          full_id   name                                           geometry\n",
       "0      w145583328   None  MULTIPOLYGON (((336110.308 2720906.097, 336126...\n",
       "1      w145583331    晉安宮  MULTIPOLYGON (((336129.583 2721263.343, 336134...\n",
       "2      w145583339   None  MULTIPOLYGON (((336135.949 2720873.989, 336144...\n",
       "3      w176673018    振安宮  MULTIPOLYGON (((332056.463 2724615.111, 332067...\n",
       "4      w184592467    普陀巖  MULTIPOLYGON (((345329.289 2748626.640, 345329...\n",
       "...           ...    ...                                                ...\n",
       "3805  n9926596659    有應祠  POLYGON ((332868.599 2777913.885, 332868.599 2...\n",
       "3806  n9932061083   土地公廟  POLYGON ((293032.832 2785347.565, 293032.832 2...\n",
       "3808  n9932969712  板橋北極壇  POLYGON ((296113.705 2767505.363, 296113.705 2...\n",
       "3809  n9933611235   None  POLYGON ((292310.809 2783889.005, 292310.809 2...\n",
       "3810  n9942307378    聖航宮  POLYGON ((298609.610 2768481.191, 298609.610 2...\n",
       "\n",
       "[3310 rows x 3 columns]"
      ]
     },
     "execution_count": 5,
     "metadata": {},
     "output_type": "execute_result"
    }
   ],
   "source": [
    "#filt = (gf['name'] == '麥當勞') | (gf['name'] == '肯德基') | (gf['name'] == '摩斯漢堡') | (gf['name'] == '漢堡王')\n",
    "filt = (gf['religion'] != 'christian') & (gf['religion'] != 'muslim')\n",
    "gf = gf.loc[filt,['full_id','name','geometry']]\n",
    "gf"
   ]
  },
  {
   "cell_type": "code",
   "execution_count": 6,
   "id": "46698cb1-b8a1-4ccf-978d-566a8323315b",
   "metadata": {},
   "outputs": [],
   "source": [
    "gf.to_file(facility + \".geojson\", driver='GeoJSON')"
   ]
  }
 ],
 "metadata": {
  "kernelspec": {
   "display_name": "Python 3 (ipykernel)",
   "language": "python",
   "name": "python3"
  },
  "language_info": {
   "codemirror_mode": {
    "name": "ipython",
    "version": 3
   },
   "file_extension": ".py",
   "mimetype": "text/x-python",
   "name": "python",
   "nbconvert_exporter": "python",
   "pygments_lexer": "ipython3",
   "version": "3.10.4"
  }
 },
 "nbformat": 4,
 "nbformat_minor": 5
}
