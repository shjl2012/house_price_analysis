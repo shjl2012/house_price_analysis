{
 "cells": [
  {
   "cell_type": "markdown",
   "id": "77d33a4f-faf3-4136-b788-8f24c1c8a068",
   "metadata": {},
   "source": [
    "# 環域分析實價登錄資料-建置模型特徵資料"
   ]
  },
  {
   "cell_type": "code",
   "execution_count": 1,
   "id": "420503dc-c8cd-4082-a541-95e5411624fb",
   "metadata": {},
   "outputs": [],
   "source": [
    "import sys, os\n",
    "sys.path.append(\"..\")\n",
    "import my_function.buffer_analysis as bas"
   ]
  },
  {
   "cell_type": "code",
   "execution_count": 2,
   "id": "f633833c-78cb-449e-b26c-838e09c2b861",
   "metadata": {},
   "outputs": [
    {
     "name": "stdout",
     "output_type": "stream",
     "text": [
      "progress: 環域分析-所有項目.....OK ||  ▉▉▉▉▉▉▉▉▉▉▉▉▉▉▉▉▉▉▉▉▉▉▉▉\n",
      "<class 'geopandas.geodataframe.GeoDataFrame'>\n",
      "Int64Index: 42880 entries, 0 to 42879\n",
      "Data columns (total 79 columns):\n",
      " #   Column                Non-Null Count  Dtype   \n",
      "---  ------                --------------  -----   \n",
      " 0   Unnamed: 0            42880 non-null  int64   \n",
      " 1   鄉鎮市區                  42880 non-null  object  \n",
      " 2   交易年份                  42880 non-null  int64   \n",
      " 3   屋齡                    42880 non-null  float64 \n",
      " 4   交易標的                  42880 non-null  object  \n",
      " 5   建物現況格局-房              42880 non-null  int64   \n",
      " 6   建物現況格局-廳              42880 non-null  int64   \n",
      " 7   建物現況格局-衛              42880 non-null  int64   \n",
      " 8   車位類別                  42880 non-null  object  \n",
      " 9   電梯                    42880 non-null  object  \n",
      " 10  floor                 42880 non-null  int64   \n",
      " 11  單價元平方公尺               42880 non-null  int64   \n",
      " 12  geometry              42880 non-null  geometry\n",
      " 13  NEAR_HOSTIPAL_250     42880 non-null  object  \n",
      " 14  NEAR_HOSTIPAL_500     42880 non-null  object  \n",
      " 15  NEAR_HOSTIPAL_750     42880 non-null  object  \n",
      " 16  CLINIC_COUNT_250      42880 non-null  float64 \n",
      " 17  CLINIC_COUNT_500      42880 non-null  float64 \n",
      " 18  CLINIC_COUNT_750      42880 non-null  float64 \n",
      " 19  DENTIST_COUNT_250     42880 non-null  float64 \n",
      " 20  DENTIST_COUNT_500     42880 non-null  float64 \n",
      " 21  DENTIST_COUNT_750     42880 non-null  float64 \n",
      " 22  PHARMACY_COUNT_250    42880 non-null  float64 \n",
      " 23  PHARMACY_COUNT_500    42880 non-null  float64 \n",
      " 24  PHARMACY_COUNT_750    42880 non-null  float64 \n",
      " 25  CSTORE_COUNT_250      42880 non-null  float64 \n",
      " 26  CSTORE_COUNT_500      42880 non-null  float64 \n",
      " 27  CSTORE_COUNT_750      42880 non-null  float64 \n",
      " 28  FASTFOOD_COUNT_250    42880 non-null  float64 \n",
      " 29  FASTFOOD_COUNT_500    42880 non-null  float64 \n",
      " 30  FASTFOOD_COUNT_750    42880 non-null  float64 \n",
      " 31  LIBRARY_COUNT_250     42880 non-null  float64 \n",
      " 32  LIBRARY_COUNT_500     42880 non-null  float64 \n",
      " 33  LIBRARY_COUNT_750     42880 non-null  float64 \n",
      " 34  NEAR_SCHOOL_250       42880 non-null  float64 \n",
      " 35  NEAR_SCHOOL_500       42880 non-null  float64 \n",
      " 36  NEAR_SCHOOL_750       42880 non-null  float64 \n",
      " 37  NEAR_UNIVERSITY_250   42880 non-null  float64 \n",
      " 38  NEAR_UNIVERSITY_500   42880 non-null  float64 \n",
      " 39  NEAR_UNIVERSITY_750   42880 non-null  float64 \n",
      " 40  NEAR_FIRESTATION_250  42880 non-null  object  \n",
      " 41  NEAR_FIRESTATION_500  42880 non-null  object  \n",
      " 42  NEAR_FIRESTATION_750  42880 non-null  object  \n",
      " 43  NEAR_FUEL_250         42880 non-null  float64 \n",
      " 44  NEAR_FUEL_500         42880 non-null  float64 \n",
      " 45  NEAR_FUEL_750         42880 non-null  float64 \n",
      " 46  NEAR_MARKET_250       42880 non-null  float64 \n",
      " 47  NEAR_MARKET_500       42880 non-null  float64 \n",
      " 48  NEAR_MARKET_750       42880 non-null  float64 \n",
      " 49  NEAR_POLICE_250       42880 non-null  object  \n",
      " 50  NEAR_POLICE_500       42880 non-null  object  \n",
      " 51  NEAR_POLICE_750       42880 non-null  object  \n",
      " 52  TEMPLE_COUNT_250      42880 non-null  float64 \n",
      " 53  TEMPLE_COUNT_500      42880 non-null  float64 \n",
      " 54  TEMPLE_COUNT_750      42880 non-null  float64 \n",
      " 55  CEMETERY_AREA_250     42880 non-null  float64 \n",
      " 56  CEMETERY_AREA_500     42880 non-null  float64 \n",
      " 57  CEMETERY_AREA_750     42880 non-null  float64 \n",
      " 58  PARK_AREA_250         42880 non-null  float64 \n",
      " 59  PARK_AREA_500         42880 non-null  float64 \n",
      " 60  PARK_AREA_750         42880 non-null  float64 \n",
      " 61  WATER_AREA_250        42880 non-null  float64 \n",
      " 62  WATER_AREA_500        42880 non-null  float64 \n",
      " 63  WATER_AREA_750        42880 non-null  float64 \n",
      " 64  PARKING_AREA_250      42880 non-null  float64 \n",
      " 65  PARKING_AREA_500      42880 non-null  float64 \n",
      " 66  PARKING_AREA_750      42880 non-null  float64 \n",
      " 67  STOP_COUNT_250        42880 non-null  float64 \n",
      " 68  STOP_COUNT_500        42880 non-null  float64 \n",
      " 69  STOP_COUNT_750        42880 non-null  float64 \n",
      " 70  NEAR_LRT_250          42880 non-null  object  \n",
      " 71  NEAR_LRT_500          42880 non-null  object  \n",
      " 72  NEAR_LRT_750          42880 non-null  object  \n",
      " 73  NEAR_MRT_250          42880 non-null  object  \n",
      " 74  NEAR_MRT_500          42880 non-null  object  \n",
      " 75  NEAR_MRT_750          42880 non-null  object  \n",
      " 76  NEAR_TRA_250          42880 non-null  object  \n",
      " 77  NEAR_TRA_500          42880 non-null  object  \n",
      " 78  NEAR_TRA_750          42880 non-null  object  \n",
      "dtypes: float64(49), geometry(1), int64(7), object(22)\n",
      "memory usage: 27.2+ MB\n",
      "None\n"
     ]
    }
   ],
   "source": [
    "bas.buffer_analysis('realprice.geojson', '../dataset/TPE_model_features.csv', './')"
   ]
  }
 ],
 "metadata": {
  "kernelspec": {
   "display_name": "Python 3 (ipykernel)",
   "language": "python",
   "name": "python3"
  },
  "language_info": {
   "codemirror_mode": {
    "name": "ipython",
    "version": 3
   },
   "file_extension": ".py",
   "mimetype": "text/x-python",
   "name": "python",
   "nbconvert_exporter": "python",
   "pygments_lexer": "ipython3",
   "version": "3.10.4"
  }
 },
 "nbformat": 4,
 "nbformat_minor": 5
}
