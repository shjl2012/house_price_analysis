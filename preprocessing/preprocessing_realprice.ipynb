{
 "cells": [
  {
   "cell_type": "markdown",
   "id": "e241361a-f889-45cb-8d18-cdd6c2e7fe80",
   "metadata": {},
   "source": [
    "# 處理實價登錄資料"
   ]
  },
  {
   "cell_type": "code",
   "execution_count": 1,
   "id": "d3032309-0bf3-4845-bbf1-d52ba760fb58",
   "metadata": {},
   "outputs": [
    {
     "name": "stdout",
     "output_type": "stream",
     "text": [
      "Pandas version:  1.4.3\n",
      "Geopandas version:  0.11.0\n"
     ]
    }
   ],
   "source": [
    "import pandas as pd\n",
    "import geopandas as gpd\n",
    "import csv\n",
    "import re\n",
    "from shapely.geometry import Point\n",
    "\n",
    "import sys, os\n",
    "sys.path.append(\"..\")\n",
    "import my_function.full_to_half as htf\n",
    "import my_function.write_coordinate_to_csv as wctc\n",
    "print('Pandas version: ', pd.__version__)\n",
    "print('Geopandas version: ', gpd.__version__)"
   ]
  },
  {
   "cell_type": "code",
   "execution_count": null,
   "id": "591ef965-9a27-48c9-807e-c92c5a56ea0b",
   "metadata": {},
   "outputs": [],
   "source": [
    "path_text = r'../rawdata/real_price/'\n",
    "path = os.listdir(path_text)\n",
    "n = 0\n",
    "for filename in path:\n",
    "    try:\n",
    "        if (filename[-3:] == 'csv') & (filename.split('_')[2] == 'a'):\n",
    "            if n == 0:\n",
    "                df1 = pd.read_csv(path_text + filename, encoding = 'utf-8')\n",
    "                df1 = df1.iloc[1:]\n",
    "                n = n + 1\n",
    "            else:\n",
    "                df2 = pd.read_csv(path_text + filename, encoding = 'utf-8')\n",
    "                df2 = df2.iloc[1:]\n",
    "                df1 = pd.concat([df1, df2])\n",
    "    except:\n",
    "        continue\n",
    "#df1.info()\n",
    "#df1.to_csv('df1.csv')"
   ]
  },
  {
   "cell_type": "code",
   "execution_count": null,
   "id": "035b99cf-7df0-4503-b416-a68eac6ceddf",
   "metadata": {},
   "outputs": [],
   "source": [
    "# 處理電梯欄位\n",
    "#print(df1)\n",
    "filt = (df1['電梯'].isnull()) & (df1['建物型態'].str.contains('有電梯', na=False))\n",
    "df1.loc[filt,['電梯']] = '有'\n",
    "filt = (df1['電梯'].isnull())\n",
    "df1.loc[filt,['電梯']] = '無'"
   ]
  },
  {
   "cell_type": "code",
   "execution_count": null,
   "id": "e570e0f4-1907-46ad-ab11-da8df316dd7e",
   "metadata": {},
   "outputs": [],
   "source": [
    "# 過濾特殊交易資料\n",
    "filt = (df1['主要用途'] == '住家用') & (~df1['備註'].str.contains('親友', na=False)) & (~df1['備註'].str.contains('預售屋', na=False)) & (~df1['備註'].str.contains('地上權', na=False)) & (~df1['備註'].str.contains('夾層', na=False)) & ((df1['交易標的'] == '房地(土地+建物)') | (df1['交易標的'] == '房地(土地+建物)+車位'))\n",
    "pre_df = df1.loc[filt,['土地位置建物門牌','鄉鎮市區','交易標的','交易年月日','建築完成年月','建物現況格局-房','建物現況格局-廳','建物現況格局-衛','車位類別','電梯','單價元平方公尺']]\n",
    "#pre_df = df1.loc[:,['土地位置建物門牌','交易年月日','建築完成年月','建物現況格局-房','建物現況格局-廳','建物現況格局-衛','電梯','單價元平方公尺']]\n",
    "pre_df = pre_df.dropna(subset=[\"單價元平方公尺\"])\n",
    "pre_df = pre_df.dropna(subset=[\"建築完成年月\"])\n",
    "pre_df.info()"
   ]
  },
  {
   "cell_type": "code",
   "execution_count": null,
   "id": "433f587d-9836-4526-881f-ee9dfe0096e5",
   "metadata": {},
   "outputs": [],
   "source": [
    "pre_df['屋齡']=pre_df['交易年月日'].str[0:3].astype(float)-pre_df['建築完成年月'].str[0:3].astype(float)"
   ]
  },
  {
   "cell_type": "code",
   "execution_count": null,
   "id": "aef00539-ce9d-460a-8626-e47525749509",
   "metadata": {},
   "outputs": [],
   "source": [
    "pre_df['交易年份']=pre_df['交易年月日'].str[0:3]"
   ]
  },
  {
   "cell_type": "code",
   "execution_count": null,
   "id": "3589cb91-3ebd-4e65-9ec7-d6fff6dc69ab",
   "metadata": {},
   "outputs": [],
   "source": [
    "pre_df.reset_index(inplace=True, drop=False)\n",
    "filt2 = (pre_df['屋齡'] >= 0)\n",
    "pre_df = pre_df.loc[filt2,['交易年份','土地位置建物門牌','鄉鎮市區','屋齡','交易標的','交易年月日','建築完成年月','建物現況格局-房','建物現況格局-廳','建物現況格局-衛','車位類別','電梯','單價元平方公尺']]\n",
    "pre_df.info()"
   ]
  },
  {
   "cell_type": "code",
   "execution_count": null,
   "id": "8b142b04-7368-4720-81c6-b07e12349388",
   "metadata": {},
   "outputs": [],
   "source": [
    "pattern = r'[0-9]*?[零一二三四五六七八九十]*?[0-9]*?[零一二三四五六七八九十]{1}[0-9]*?[號]'\n",
    "pre_df['修正地址'] = pre_df['土地位置建物門牌'].str.contains(pattern,regex=True)\n",
    "pre_df['土地位置建物門牌'] = htf.h2f(pre_df['土地位置建物門牌'])\n",
    "pre_df.to_csv('TPE_pre_df.csv')"
   ]
  },
  {
   "cell_type": "code",
   "execution_count": null,
   "id": "5c00d49e-8ebe-4de2-8882-4d5a795164a0",
   "metadata": {},
   "outputs": [],
   "source": [
    "# 地址轉坐標\n",
    "wctc.write('TPE_pre_df.csv', 'TPE_pre_df_WGS84.csv', 2,14)"
   ]
  },
  {
   "cell_type": "code",
   "execution_count": null,
   "id": "ef808df9-67ab-4d23-8457-41a37b3fd137",
   "metadata": {},
   "outputs": [],
   "source": []
  },
  {
   "cell_type": "code",
   "execution_count": null,
   "id": "76055626-89d2-447f-bd96-e1945657c72f",
   "metadata": {},
   "outputs": [],
   "source": []
  },
  {
   "cell_type": "code",
   "execution_count": 2,
   "id": "3036fb5f-5771-4e28-a026-e68b5b33a7de",
   "metadata": {},
   "outputs": [
    {
     "name": "stdout",
     "output_type": "stream",
     "text": [
      "<class 'pandas.core.frame.DataFrame'>\n",
      "RangeIndex: 42998 entries, 0 to 42997\n",
      "Data columns (total 18 columns):\n",
      " #   Column      Non-Null Count  Dtype  \n",
      "---  ------      --------------  -----  \n",
      " 0   Unnamed: 0  42998 non-null  int64  \n",
      " 1   交易年份        42998 non-null  int64  \n",
      " 2   土地位置建物門牌    42998 non-null  object \n",
      " 3   鄉鎮市區        42998 non-null  object \n",
      " 4   屋齡          42998 non-null  float64\n",
      " 5   交易標的        42998 non-null  object \n",
      " 6   交易年月日       42998 non-null  int64  \n",
      " 7   建築完成年月      42998 non-null  int64  \n",
      " 8   建物現況格局-房    42998 non-null  int64  \n",
      " 9   建物現況格局-廳    42998 non-null  int64  \n",
      " 10  建物現況格局-衛    42998 non-null  int64  \n",
      " 11  車位類別        15775 non-null  object \n",
      " 12  電梯          42998 non-null  object \n",
      " 13  單價元平方公尺     42998 non-null  int64  \n",
      " 14  修正地址        42998 non-null  bool   \n",
      " 15  floor       42998 non-null  int64  \n",
      " 16  lon         42931 non-null  float64\n",
      " 17  lat         42931 non-null  float64\n",
      "dtypes: bool(1), float64(3), int64(9), object(5)\n",
      "memory usage: 5.6+ MB\n",
      "None\n"
     ]
    }
   ],
   "source": [
    "df_final = pd.read_csv('./temp/TPE_pre_df_WGS84.csv', encoding = 'utf-8')\n",
    "print(df_final.info())"
   ]
  },
  {
   "cell_type": "code",
   "execution_count": 3,
   "id": "8469d515-c540-4b57-ad88-7a299a8b951d",
   "metadata": {},
   "outputs": [
    {
     "name": "stdout",
     "output_type": "stream",
     "text": [
      "<class 'pandas.core.frame.DataFrame'>\n",
      "Int64Index: 42931 entries, 0 to 42997\n",
      "Data columns (total 18 columns):\n",
      " #   Column      Non-Null Count  Dtype  \n",
      "---  ------      --------------  -----  \n",
      " 0   Unnamed: 0  42931 non-null  int64  \n",
      " 1   交易年份        42931 non-null  int64  \n",
      " 2   土地位置建物門牌    42931 non-null  object \n",
      " 3   鄉鎮市區        42931 non-null  object \n",
      " 4   屋齡          42931 non-null  float64\n",
      " 5   交易標的        42931 non-null  object \n",
      " 6   交易年月日       42931 non-null  int64  \n",
      " 7   建築完成年月      42931 non-null  int64  \n",
      " 8   建物現況格局-房    42931 non-null  int64  \n",
      " 9   建物現況格局-廳    42931 non-null  int64  \n",
      " 10  建物現況格局-衛    42931 non-null  int64  \n",
      " 11  車位類別        15766 non-null  object \n",
      " 12  電梯          42931 non-null  object \n",
      " 13  單價元平方公尺     42931 non-null  int64  \n",
      " 14  修正地址        42931 non-null  bool   \n",
      " 15  floor       42931 non-null  int64  \n",
      " 16  lon         42931 non-null  float64\n",
      " 17  lat         42931 non-null  float64\n",
      "dtypes: bool(1), float64(3), int64(9), object(5)\n",
      "memory usage: 5.9+ MB\n",
      "None\n"
     ]
    },
    {
     "name": "stderr",
     "output_type": "stream",
     "text": [
      "/usr/local/lib/python3.10/dist-packages/pyproj/crs/crs.py:130: FutureWarning: '+init=<authority>:<code>' syntax is deprecated. '<authority>:<code>' is the preferred initialization method. When making the change, be mindful of axis order changes: https://pyproj4.github.io/pyproj/stable/gotchas.html#axis-order-changes-in-proj-6\n",
      "  in_crs_string = _prepare_from_proj_string(in_crs_string)\n"
     ]
    }
   ],
   "source": [
    "df_final = df_final.dropna(subset=[\"lon\"])\n",
    "print(df_final.info())\n",
    "geom = [Point(xy) for xy in zip(df_final.lon, df_final.lat)]\n",
    "crs = {'init': 'epsg:4326'}\n",
    "gf_final = gpd.GeoDataFrame(df_final, crs=crs, geometry=geom)\n",
    "gf_final = gf_final.to_crs(epsg=3826)"
   ]
  },
  {
   "cell_type": "code",
   "execution_count": 4,
   "id": "e25c5cc7-0d07-460a-a1b8-0431184ecd51",
   "metadata": {},
   "outputs": [
    {
     "name": "stdout",
     "output_type": "stream",
     "text": [
      "<class 'geopandas.geodataframe.GeoDataFrame'>\n",
      "Int64Index: 42931 entries, 0 to 42997\n",
      "Data columns (total 13 columns):\n",
      " #   Column      Non-Null Count  Dtype   \n",
      "---  ------      --------------  -----   \n",
      " 0   Unnamed: 0  42931 non-null  int64   \n",
      " 1   鄉鎮市區        42931 non-null  object  \n",
      " 2   交易年份        42931 non-null  int64   \n",
      " 3   屋齡          42931 non-null  float64 \n",
      " 4   交易標的        42931 non-null  object  \n",
      " 5   建物現況格局-房    42931 non-null  int64   \n",
      " 6   建物現況格局-廳    42931 non-null  int64   \n",
      " 7   建物現況格局-衛    42931 non-null  int64   \n",
      " 8   車位類別        42931 non-null  object  \n",
      " 9   電梯          42931 non-null  object  \n",
      " 10  floor       42931 non-null  int64   \n",
      " 11  單價元平方公尺     42931 non-null  int64   \n",
      " 12  geometry    42931 non-null  geometry\n",
      "dtypes: float64(1), geometry(1), int64(7), object(4)\n",
      "memory usage: 4.6+ MB\n",
      "None\n",
      "   Unnamed: 0 鄉鎮市區  交易年份   屋齡 交易標的  建物現況格局-房  建物現況格局-廳  建物現況格局-衛 車位類別 電梯  \\\n",
      "0           0  文山區   107  3.0    1         3         2         2    1  1   \n",
      "1           1  萬華區   107  2.0    1         3         2         2    1  1   \n",
      "2           2  大同區   108  1.0    0         4         2         2    0  1   \n",
      "3           3  大同區   108  1.0    1         4         2         2    1  1   \n",
      "4           4  大同區   108  1.0    1         4         2         2    1  1   \n",
      "\n",
      "   floor  單價元平方公尺                        geometry  \n",
      "0     24   196208  POINT (304588.482 2764931.754)  \n",
      "1     12   170308  POINT (300355.920 2770121.434)  \n",
      "2      4   201095  POINT (301803.950 2772375.518)  \n",
      "3     10   219608  POINT (301803.950 2772375.518)  \n",
      "4      5   207036  POINT (301803.950 2772375.518)  \n"
     ]
    }
   ],
   "source": [
    "gf_final = gf_final[['Unnamed: 0','鄉鎮市區', '交易年份', '屋齡', '交易標的', '建物現況格局-房', '建物現況格局-廳' ,'建物現況格局-衛', '車位類別', '電梯', 'floor', '單價元平方公尺', 'geometry']]\n",
    "gf_final.loc[gf_final['交易標的'] == '房地(土地+建物)', '交易標的'] = 0\n",
    "gf_final.loc[gf_final['交易標的'] == '房地(土地+建物)+車位', '交易標的'] = 1\n",
    "gf_final.loc[gf_final['電梯'] == '無', '電梯'] = 0\n",
    "gf_final.loc[gf_final['電梯'] == '有', '電梯'] = 1\n",
    "# -----車位種類------\n",
    "gf_final.loc[gf_final['車位類別'] == '坡道平面', '車位類別'] = 1\n",
    "gf_final.loc[gf_final['車位類別'] == '坡道機械', '車位類別'] = 2\n",
    "gf_final.loc[gf_final['車位類別'] == '升降平面', '車位類別'] = 3\n",
    "gf_final.loc[gf_final['車位類別'] == '升降機械', '車位類別'] = 4\n",
    "gf_final.loc[gf_final['車位類別'] == '一樓平面', '車位類別'] = 5\n",
    "gf_final.loc[gf_final['車位類別'] == '塔式車位', '車位類別'] = 6\n",
    "gf_final.loc[gf_final['車位類別'] == '其他' , '車位類別'] = 7\n",
    "gf_final.loc[gf_final['車位類別'].isnull() , '車位類別'] = 0\n",
    "print(gf_final.info())\n",
    "print(gf_final.head())"
   ]
  },
  {
   "cell_type": "code",
   "execution_count": 5,
   "id": "9121b714-0521-4015-b995-3c940b97b73f",
   "metadata": {},
   "outputs": [],
   "source": [
    "gf_final.to_file('realprice' + \".geojson\", driver='GeoJSON')"
   ]
  },
  {
   "cell_type": "markdown",
   "id": "1e289bac-e645-41f5-8ba2-b3e6fd05d276",
   "metadata": {},
   "source": [
    "# 環域分析實價登錄資料-建置模型特徵資料"
   ]
  },
  {
   "cell_type": "code",
   "execution_count": null,
   "id": "00a0a444-9987-4815-8f6d-9d8471b7cec9",
   "metadata": {},
   "outputs": [],
   "source": [
    "df_final=pd.read_csv('pre_df_WGS84.csv',encoding='utf-8')\n",
    "geom = [Point(xy) for xy in zip(df_final.lon, df_final.lat)]\n",
    "crs = {'init': 'epsg:4326'}\n",
    "gf_final = gpd.GeoDataFrame(df_final, crs=crs, geometry=geom)\n",
    "gf_final = gf_final.to_crs(epsg=3826)\n",
    "gf_final['ID'] = gf_final.index\n",
    "gf_final = gf_final[['ID','交易年份','屋齡','建物現況格局-房','建物現況格局-廳','建物現況格局-衛','電梯','單價元平方公尺','geometry']]\n",
    "gf_final.info()\n",
    "gf_final.plot()"
   ]
  },
  {
   "cell_type": "code",
   "execution_count": null,
   "id": "79216d8b-e52e-4960-86c7-a90d0e1055b5",
   "metadata": {},
   "outputs": [],
   "source": [
    "df_house=pd.read_csv('pre_df_WGS84.csv',encoding='utf-8')\n",
    "geom = [Point(xy) for xy in zip(df_house.lon, df_house.lat)]\n",
    "crs = {'init': 'epsg:4326'}\n",
    "gf_house = gpd.GeoDataFrame(df_house, crs=crs, geometry=geom)\n",
    "gf_house = gf_house.to_crs(epsg=3826)\n",
    "gf_house['ID'] = gf_house.index\n",
    "gf_house = gf_house[['ID','交易年份','屋齡','建物現況格局-房','建物現況格局-廳','建物現況格局-衛','電梯','單價元平方公尺','geometry']]\n",
    "gf_house.info()\n",
    "gf_house.plot()"
   ]
  },
  {
   "cell_type": "code",
   "execution_count": null,
   "id": "9799736b-2e43-4824-9ad8-6fca22276a0b",
   "metadata": {},
   "outputs": [],
   "source": [
    "gf_house_buf = gf_house\n",
    "gf_house_buf['geometry'] = gf_house.buffer(500)\n",
    "gf_house_buf.plot(alpha=0.1)"
   ]
  },
  {
   "cell_type": "code",
   "execution_count": null,
   "id": "59a9a096-ac59-4bff-aba7-e0bfc11a1fd7",
   "metadata": {},
   "outputs": [],
   "source": [
    "df_hospital=pd.read_csv('./dataset/taiwan_hospital_getcoordinates.csv',encoding='utf-8')\n",
    "geom = [Point(xy) for xy in zip(df_hospital.lon, df_hospital.lat)]\n",
    "crs = {'init': 'epsg:4326'}\n",
    "gf_hospital = gpd.GeoDataFrame(df_hospital, crs=crs, geometry=geom)\n",
    "gf_hospital = gf_hospital.to_crs(epsg=3826)"
   ]
  },
  {
   "cell_type": "code",
   "execution_count": null,
   "id": "a625dcf6-ba20-426e-b498-f65569c4a79a",
   "metadata": {},
   "outputs": [],
   "source": [
    "df_cstore=pd.read_csv('./dataset/taiwan_convenience_store_getcoordinates.csv',encoding='utf-8')\n",
    "geom = [Point(xy) for xy in zip(df_cstore.lon, df_cstore.lat)]\n",
    "crs = {'init': 'epsg:4326'}\n",
    "gf_cstore = gpd.GeoDataFrame(df_cstore, crs=crs, geometry=geom)\n",
    "gf_cstore = gf_cstore.to_crs(epsg=3826)"
   ]
  },
  {
   "cell_type": "code",
   "execution_count": null,
   "id": "cc60e730-9108-4bf1-bef8-ca4ade0f4218",
   "metadata": {},
   "outputs": [],
   "source": [
    "# 讀取geojspn\n",
    "gf_cemetery = gpd.read_file(f'./dataset/cemetery.geojson', encoding = 'utf-8')\n",
    "gf_cemetery = gf_cemetery.to_crs(epsg=3826)\n",
    "\n",
    "gf_fire_station = gpd.read_file(f'./dataset/fire_station.geojson', encoding = 'utf-8')\n",
    "gf_fire_station = gf_fire_station.to_crs(epsg=3826)\n",
    "\n",
    "gf_fuel = gpd.read_file(f'./dataset/fuel.geojson', encoding = 'utf-8')\n",
    "gf_fuel = gf_fuel.to_crs(epsg=3826)\n",
    "\n",
    "gf_library = gpd.read_file(f'./dataset/library.geojson', encoding = 'utf-8')\n",
    "gf_library = gf_library.to_crs(epsg=3826)\n",
    "\n",
    "gf_marketplace = gpd.read_file(f'./dataset/marketplace.geojson', encoding = 'utf-8')\n",
    "gf_marketplace = gf_marketplace.to_crs(epsg=3826)\n",
    "\n",
    "gf_park = gpd.read_file(f'./dataset/park.geojson', encoding = 'utf-8')\n",
    "gf_park = gf_park.to_crs(epsg=3826)\n",
    "\n",
    "gf_parking = gpd.read_file(f'./dataset/parking.geojson', encoding = 'utf-8')\n",
    "gf_parking = gf_parking.to_crs(epsg=3826)\n",
    "\n",
    "gf_place_of_worship = gpd.read_file(f'./dataset/place_of_worship.geojson', encoding = 'utf-8')\n",
    "gf_place_of_worship = gf_place_of_worship.to_crs(epsg=3826)\n",
    "\n",
    "gf_police = gpd.read_file(f'./dataset/police.geojson', encoding = 'utf-8')\n",
    "gf_police = gf_police.to_crs(epsg=3826)\n",
    "\n",
    "gf_school = gpd.read_file(f'./dataset/school.geojson', encoding = 'utf-8')\n",
    "gf_school = gf_school.to_crs(epsg=3826)\n",
    "\n",
    "gf_station = gpd.read_file(f'./dataset/station.geojson', encoding = 'utf-8')\n",
    "gf_station = gf_station.to_crs(epsg=3826)\n",
    "\n",
    "gf_university = gpd.read_file(f'./dataset/university.geojson', encoding = 'utf-8')\n",
    "gf_university = gf_university.to_crs(epsg=3826)"
   ]
  },
  {
   "cell_type": "code",
   "execution_count": null,
   "id": "5cd0a4b6-4d80-462a-aa3b-3f856352d086",
   "metadata": {},
   "outputs": [],
   "source": [
    "gf_university.info()"
   ]
  },
  {
   "cell_type": "code",
   "execution_count": null,
   "id": "df28ef21-f8fc-4cfc-aa2f-f0884a0a4fff",
   "metadata": {},
   "outputs": [],
   "source": [
    "gf_university['geometry'] = gf_university.buffer(0.001)\n",
    "gf_university.plot()"
   ]
  },
  {
   "cell_type": "code",
   "execution_count": null,
   "id": "45af1614-60f7-421c-ab3c-e8774606225d",
   "metadata": {},
   "outputs": [],
   "source": [
    "intersection = gpd.overlay(gf_house_buf,gf_university,  how='intersection', keep_geom_type=True)\n",
    "#intersection['PARKING_AREA'] = intersection['geometry'].area\n",
    "intersection_count = intersection.groupby('ID').agg({'id':'count'})\n",
    "#intersection_count = intersection.groupby('ID').agg({'PARKING_AREA':'sum'})\n",
    "intersection_count"
   ]
  },
  {
   "cell_type": "code",
   "execution_count": null,
   "id": "e4e81e8f-0daa-4214-8e15-c531fb4b1aa5",
   "metadata": {},
   "outputs": [],
   "source": [
    "gf_final = gf_final.merge(intersection_count,how='left', left_on='ID', right_on='ID')"
   ]
  },
  {
   "cell_type": "code",
   "execution_count": null,
   "id": "2b1c0b0e-3ceb-4082-9353-b03ed6e9e8b3",
   "metadata": {},
   "outputs": [],
   "source": [
    "gf_final.rename(columns={'id': 'NEAR_UNIVERSITY'}, inplace=True)\n",
    "gf_final.loc[gf_final['NEAR_UNIVERSITY']>0, 'NEAR_UNIVERSITY'] = 1\n",
    "gf_final['NEAR_UNIVERSITY'] = gf_final['NEAR_UNIVERSITY'].fillna(0)\n",
    "print(gf_final.info())\n",
    "gf_final"
   ]
  },
  {
   "cell_type": "code",
   "execution_count": null,
   "id": "59565b6e-f721-486a-b341-513c63a3ac11",
   "metadata": {},
   "outputs": [],
   "source": [
    "gf_final.loc[gf_final['電梯']=='有', '電梯'] = 1\n",
    "gf_final.loc[gf_final['電梯']=='無', '電梯'] = 0\n",
    "gf_final"
   ]
  },
  {
   "cell_type": "code",
   "execution_count": null,
   "id": "7f0df25b-077a-4b6e-ab2b-5d08c4c7437a",
   "metadata": {},
   "outputs": [],
   "source": [
    "gf_final = gf_final[['交易年份','屋齡','建物現況格局-房','建物現況格局-廳','建物現況格局-衛','電梯','HOSPITAL_COUNT','CSTORE_COUNT','NEAR_UNIVERSITY','NEAR_FIRESTATION','NEAR_FUEL','NEAR_LIBRARY','NEAR_MARKET','PARK_AREA','PARKING_AREA','TEMPLE_COUNT','NEAR_POLICE','NEAR_SCHOOL','NEAR_STATION','單價元平方公尺']]\n",
    "gf_final.to_csv('final_df.csv')"
   ]
  },
  {
   "cell_type": "code",
   "execution_count": null,
   "id": "06a2956f-769d-42b8-be37-062468934f92",
   "metadata": {},
   "outputs": [],
   "source": []
  }
 ],
 "metadata": {
  "kernelspec": {
   "display_name": "Python 3 (ipykernel)",
   "language": "python",
   "name": "python3"
  },
  "language_info": {
   "codemirror_mode": {
    "name": "ipython",
    "version": 3
   },
   "file_extension": ".py",
   "mimetype": "text/x-python",
   "name": "python",
   "nbconvert_exporter": "python",
   "pygments_lexer": "ipython3",
   "version": "3.10.4"
  }
 },
 "nbformat": 4,
 "nbformat_minor": 5
}
